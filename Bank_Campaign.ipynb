{
  "nbformat": 4,
  "nbformat_minor": 0,
  "metadata": {
    "colab": {
      "provenance": []
    },
    "kernelspec": {
      "name": "python3",
      "display_name": "Python 3"
    },
    "language_info": {
      "name": "python"
    }
  },
  "cells": [
    {
      "cell_type": "markdown",
      "source": [
        "## 📦 Importing Required Libraries\n",
        "\n",
        "We begin by importing the essential libraries for our analysis:\n",
        "\n",
        "- `numpy` for numerical computations.\n",
        "- `pandas` for data manipulation and analysis."
      ],
      "metadata": {
        "id": "PEYl5erbF79C"
      }
    },
    {
      "cell_type": "code",
      "execution_count": 1,
      "metadata": {
        "id": "_dDh8SzEImZz"
      },
      "outputs": [],
      "source": [
        "import numpy as numpy\n",
        "import pandas as pd"
      ]
    },
    {
      "cell_type": "markdown",
      "source": [
        "## 🔗 Mounting Google Drive (Colab Specific)\n",
        "\n",
        "Since we are working in Google Colab, we mount Google Drive to access the dataset stored there.  \n",
        "> 🔔 *Note: This step is only required if you're running the notebook in Colab, not on Kaggle.*"
      ],
      "metadata": {
        "id": "FsDr6m5dGFVP"
      }
    },
    {
      "cell_type": "code",
      "source": [
        "from google.colab import drive\n",
        "drive.mount('/content/drive')"
      ],
      "metadata": {
        "colab": {
          "base_uri": "https://localhost:8080/"
        },
        "id": "Dn3bqoo8I-Xh",
        "outputId": "7ae174a7-7715-43a2-9138-6ce3d07c33b7"
      },
      "execution_count": 2,
      "outputs": [
        {
          "output_type": "stream",
          "name": "stdout",
          "text": [
            "Mounted at /content/drive\n"
          ]
        }
      ]
    },
    {
      "cell_type": "markdown",
      "source": [
        "## 📥 Loading the Dataset\n",
        "\n",
        "We load the **Bank Marketing Campaign** dataset using `pandas.read_csv()`.\n",
        "\n",
        "- The dataset is separated by a `;` delimiter (common in European CSV exports).\n",
        "- This dataset contains marketing campaign data from a Portuguese banking institution.\n"
      ],
      "metadata": {
        "id": "fodjbkhQGI87"
      }
    },
    {
      "cell_type": "code",
      "source": [
        "df=pd.read_csv('/content/drive/MyDrive/Bank Campaign/Bank_Campaign.csv', delimiter=';')"
      ],
      "metadata": {
        "id": "fmbHGHFAJGDH"
      },
      "execution_count": 3,
      "outputs": []
    },
    {
      "cell_type": "markdown",
      "source": [
        "## 🧾 Previewing the Dataset\n",
        "\n",
        "We use `df.head()` to view the first 5 rows of the dataset.  \n",
        "This gives us a quick look at the structure, columns, and a few initial data values.\n"
      ],
      "metadata": {
        "id": "dK0_XRYuGNli"
      }
    },
    {
      "cell_type": "code",
      "source": [
        "df.head()"
      ],
      "metadata": {
        "colab": {
          "base_uri": "https://localhost:8080/",
          "height": 255
        },
        "id": "40arA8zQMKAO",
        "outputId": "5d6dae27-a39e-40a4-f936-b6015a4a6b38"
      },
      "execution_count": 4,
      "outputs": [
        {
          "output_type": "execute_result",
          "data": {
            "text/plain": [
              "   age        job  marital    education  default housing loan    contact  \\\n",
              "0   56  housemaid  married     basic.4y       no      no   no  telephone   \n",
              "1   57   services  married  high.school  unknown      no   no  telephone   \n",
              "2   37   services  married  high.school       no     yes   no  telephone   \n",
              "3   40     admin.  married     basic.6y       no      no   no  telephone   \n",
              "4   56   services  married  high.school       no      no  yes  telephone   \n",
              "\n",
              "  month day_of_week  ...  campaign  pdays  previous     poutcome emp.var.rate  \\\n",
              "0   may         mon  ...         1    999         0  nonexistent          1.1   \n",
              "1   may         mon  ...         1    999         0  nonexistent          1.1   \n",
              "2   may         mon  ...         1    999         0  nonexistent          1.1   \n",
              "3   may         mon  ...         1    999         0  nonexistent          1.1   \n",
              "4   may         mon  ...         1    999         0  nonexistent          1.1   \n",
              "\n",
              "   cons.price.idx  cons.conf.idx  euribor3m  nr.employed  subscribed  \n",
              "0          93.994          -36.4      4.857       5191.0          no  \n",
              "1          93.994          -36.4      4.857       5191.0          no  \n",
              "2          93.994          -36.4      4.857       5191.0          no  \n",
              "3          93.994          -36.4      4.857       5191.0          no  \n",
              "4          93.994          -36.4      4.857       5191.0          no  \n",
              "\n",
              "[5 rows x 21 columns]"
            ],
            "text/html": [
              "\n",
              "  <div id=\"df-8bcc4867-041b-4d39-934c-edcba8176e23\" class=\"colab-df-container\">\n",
              "    <div>\n",
              "<style scoped>\n",
              "    .dataframe tbody tr th:only-of-type {\n",
              "        vertical-align: middle;\n",
              "    }\n",
              "\n",
              "    .dataframe tbody tr th {\n",
              "        vertical-align: top;\n",
              "    }\n",
              "\n",
              "    .dataframe thead th {\n",
              "        text-align: right;\n",
              "    }\n",
              "</style>\n",
              "<table border=\"1\" class=\"dataframe\">\n",
              "  <thead>\n",
              "    <tr style=\"text-align: right;\">\n",
              "      <th></th>\n",
              "      <th>age</th>\n",
              "      <th>job</th>\n",
              "      <th>marital</th>\n",
              "      <th>education</th>\n",
              "      <th>default</th>\n",
              "      <th>housing</th>\n",
              "      <th>loan</th>\n",
              "      <th>contact</th>\n",
              "      <th>month</th>\n",
              "      <th>day_of_week</th>\n",
              "      <th>...</th>\n",
              "      <th>campaign</th>\n",
              "      <th>pdays</th>\n",
              "      <th>previous</th>\n",
              "      <th>poutcome</th>\n",
              "      <th>emp.var.rate</th>\n",
              "      <th>cons.price.idx</th>\n",
              "      <th>cons.conf.idx</th>\n",
              "      <th>euribor3m</th>\n",
              "      <th>nr.employed</th>\n",
              "      <th>subscribed</th>\n",
              "    </tr>\n",
              "  </thead>\n",
              "  <tbody>\n",
              "    <tr>\n",
              "      <th>0</th>\n",
              "      <td>56</td>\n",
              "      <td>housemaid</td>\n",
              "      <td>married</td>\n",
              "      <td>basic.4y</td>\n",
              "      <td>no</td>\n",
              "      <td>no</td>\n",
              "      <td>no</td>\n",
              "      <td>telephone</td>\n",
              "      <td>may</td>\n",
              "      <td>mon</td>\n",
              "      <td>...</td>\n",
              "      <td>1</td>\n",
              "      <td>999</td>\n",
              "      <td>0</td>\n",
              "      <td>nonexistent</td>\n",
              "      <td>1.1</td>\n",
              "      <td>93.994</td>\n",
              "      <td>-36.4</td>\n",
              "      <td>4.857</td>\n",
              "      <td>5191.0</td>\n",
              "      <td>no</td>\n",
              "    </tr>\n",
              "    <tr>\n",
              "      <th>1</th>\n",
              "      <td>57</td>\n",
              "      <td>services</td>\n",
              "      <td>married</td>\n",
              "      <td>high.school</td>\n",
              "      <td>unknown</td>\n",
              "      <td>no</td>\n",
              "      <td>no</td>\n",
              "      <td>telephone</td>\n",
              "      <td>may</td>\n",
              "      <td>mon</td>\n",
              "      <td>...</td>\n",
              "      <td>1</td>\n",
              "      <td>999</td>\n",
              "      <td>0</td>\n",
              "      <td>nonexistent</td>\n",
              "      <td>1.1</td>\n",
              "      <td>93.994</td>\n",
              "      <td>-36.4</td>\n",
              "      <td>4.857</td>\n",
              "      <td>5191.0</td>\n",
              "      <td>no</td>\n",
              "    </tr>\n",
              "    <tr>\n",
              "      <th>2</th>\n",
              "      <td>37</td>\n",
              "      <td>services</td>\n",
              "      <td>married</td>\n",
              "      <td>high.school</td>\n",
              "      <td>no</td>\n",
              "      <td>yes</td>\n",
              "      <td>no</td>\n",
              "      <td>telephone</td>\n",
              "      <td>may</td>\n",
              "      <td>mon</td>\n",
              "      <td>...</td>\n",
              "      <td>1</td>\n",
              "      <td>999</td>\n",
              "      <td>0</td>\n",
              "      <td>nonexistent</td>\n",
              "      <td>1.1</td>\n",
              "      <td>93.994</td>\n",
              "      <td>-36.4</td>\n",
              "      <td>4.857</td>\n",
              "      <td>5191.0</td>\n",
              "      <td>no</td>\n",
              "    </tr>\n",
              "    <tr>\n",
              "      <th>3</th>\n",
              "      <td>40</td>\n",
              "      <td>admin.</td>\n",
              "      <td>married</td>\n",
              "      <td>basic.6y</td>\n",
              "      <td>no</td>\n",
              "      <td>no</td>\n",
              "      <td>no</td>\n",
              "      <td>telephone</td>\n",
              "      <td>may</td>\n",
              "      <td>mon</td>\n",
              "      <td>...</td>\n",
              "      <td>1</td>\n",
              "      <td>999</td>\n",
              "      <td>0</td>\n",
              "      <td>nonexistent</td>\n",
              "      <td>1.1</td>\n",
              "      <td>93.994</td>\n",
              "      <td>-36.4</td>\n",
              "      <td>4.857</td>\n",
              "      <td>5191.0</td>\n",
              "      <td>no</td>\n",
              "    </tr>\n",
              "    <tr>\n",
              "      <th>4</th>\n",
              "      <td>56</td>\n",
              "      <td>services</td>\n",
              "      <td>married</td>\n",
              "      <td>high.school</td>\n",
              "      <td>no</td>\n",
              "      <td>no</td>\n",
              "      <td>yes</td>\n",
              "      <td>telephone</td>\n",
              "      <td>may</td>\n",
              "      <td>mon</td>\n",
              "      <td>...</td>\n",
              "      <td>1</td>\n",
              "      <td>999</td>\n",
              "      <td>0</td>\n",
              "      <td>nonexistent</td>\n",
              "      <td>1.1</td>\n",
              "      <td>93.994</td>\n",
              "      <td>-36.4</td>\n",
              "      <td>4.857</td>\n",
              "      <td>5191.0</td>\n",
              "      <td>no</td>\n",
              "    </tr>\n",
              "  </tbody>\n",
              "</table>\n",
              "<p>5 rows × 21 columns</p>\n",
              "</div>\n",
              "    <div class=\"colab-df-buttons\">\n",
              "\n",
              "  <div class=\"colab-df-container\">\n",
              "    <button class=\"colab-df-convert\" onclick=\"convertToInteractive('df-8bcc4867-041b-4d39-934c-edcba8176e23')\"\n",
              "            title=\"Convert this dataframe to an interactive table.\"\n",
              "            style=\"display:none;\">\n",
              "\n",
              "  <svg xmlns=\"http://www.w3.org/2000/svg\" height=\"24px\" viewBox=\"0 -960 960 960\">\n",
              "    <path d=\"M120-120v-720h720v720H120Zm60-500h600v-160H180v160Zm220 220h160v-160H400v160Zm0 220h160v-160H400v160ZM180-400h160v-160H180v160Zm440 0h160v-160H620v160ZM180-180h160v-160H180v160Zm440 0h160v-160H620v160Z\"/>\n",
              "  </svg>\n",
              "    </button>\n",
              "\n",
              "  <style>\n",
              "    .colab-df-container {\n",
              "      display:flex;\n",
              "      gap: 12px;\n",
              "    }\n",
              "\n",
              "    .colab-df-convert {\n",
              "      background-color: #E8F0FE;\n",
              "      border: none;\n",
              "      border-radius: 50%;\n",
              "      cursor: pointer;\n",
              "      display: none;\n",
              "      fill: #1967D2;\n",
              "      height: 32px;\n",
              "      padding: 0 0 0 0;\n",
              "      width: 32px;\n",
              "    }\n",
              "\n",
              "    .colab-df-convert:hover {\n",
              "      background-color: #E2EBFA;\n",
              "      box-shadow: 0px 1px 2px rgba(60, 64, 67, 0.3), 0px 1px 3px 1px rgba(60, 64, 67, 0.15);\n",
              "      fill: #174EA6;\n",
              "    }\n",
              "\n",
              "    .colab-df-buttons div {\n",
              "      margin-bottom: 4px;\n",
              "    }\n",
              "\n",
              "    [theme=dark] .colab-df-convert {\n",
              "      background-color: #3B4455;\n",
              "      fill: #D2E3FC;\n",
              "    }\n",
              "\n",
              "    [theme=dark] .colab-df-convert:hover {\n",
              "      background-color: #434B5C;\n",
              "      box-shadow: 0px 1px 3px 1px rgba(0, 0, 0, 0.15);\n",
              "      filter: drop-shadow(0px 1px 2px rgba(0, 0, 0, 0.3));\n",
              "      fill: #FFFFFF;\n",
              "    }\n",
              "  </style>\n",
              "\n",
              "    <script>\n",
              "      const buttonEl =\n",
              "        document.querySelector('#df-8bcc4867-041b-4d39-934c-edcba8176e23 button.colab-df-convert');\n",
              "      buttonEl.style.display =\n",
              "        google.colab.kernel.accessAllowed ? 'block' : 'none';\n",
              "\n",
              "      async function convertToInteractive(key) {\n",
              "        const element = document.querySelector('#df-8bcc4867-041b-4d39-934c-edcba8176e23');\n",
              "        const dataTable =\n",
              "          await google.colab.kernel.invokeFunction('convertToInteractive',\n",
              "                                                    [key], {});\n",
              "        if (!dataTable) return;\n",
              "\n",
              "        const docLinkHtml = 'Like what you see? Visit the ' +\n",
              "          '<a target=\"_blank\" href=https://colab.research.google.com/notebooks/data_table.ipynb>data table notebook</a>'\n",
              "          + ' to learn more about interactive tables.';\n",
              "        element.innerHTML = '';\n",
              "        dataTable['output_type'] = 'display_data';\n",
              "        await google.colab.output.renderOutput(dataTable, element);\n",
              "        const docLink = document.createElement('div');\n",
              "        docLink.innerHTML = docLinkHtml;\n",
              "        element.appendChild(docLink);\n",
              "      }\n",
              "    </script>\n",
              "  </div>\n",
              "\n",
              "\n",
              "    <div id=\"df-47a6973d-09f5-4f6a-ad43-3f1dca244f94\">\n",
              "      <button class=\"colab-df-quickchart\" onclick=\"quickchart('df-47a6973d-09f5-4f6a-ad43-3f1dca244f94')\"\n",
              "                title=\"Suggest charts\"\n",
              "                style=\"display:none;\">\n",
              "\n",
              "<svg xmlns=\"http://www.w3.org/2000/svg\" height=\"24px\"viewBox=\"0 0 24 24\"\n",
              "     width=\"24px\">\n",
              "    <g>\n",
              "        <path d=\"M19 3H5c-1.1 0-2 .9-2 2v14c0 1.1.9 2 2 2h14c1.1 0 2-.9 2-2V5c0-1.1-.9-2-2-2zM9 17H7v-7h2v7zm4 0h-2V7h2v10zm4 0h-2v-4h2v4z\"/>\n",
              "    </g>\n",
              "</svg>\n",
              "      </button>\n",
              "\n",
              "<style>\n",
              "  .colab-df-quickchart {\n",
              "      --bg-color: #E8F0FE;\n",
              "      --fill-color: #1967D2;\n",
              "      --hover-bg-color: #E2EBFA;\n",
              "      --hover-fill-color: #174EA6;\n",
              "      --disabled-fill-color: #AAA;\n",
              "      --disabled-bg-color: #DDD;\n",
              "  }\n",
              "\n",
              "  [theme=dark] .colab-df-quickchart {\n",
              "      --bg-color: #3B4455;\n",
              "      --fill-color: #D2E3FC;\n",
              "      --hover-bg-color: #434B5C;\n",
              "      --hover-fill-color: #FFFFFF;\n",
              "      --disabled-bg-color: #3B4455;\n",
              "      --disabled-fill-color: #666;\n",
              "  }\n",
              "\n",
              "  .colab-df-quickchart {\n",
              "    background-color: var(--bg-color);\n",
              "    border: none;\n",
              "    border-radius: 50%;\n",
              "    cursor: pointer;\n",
              "    display: none;\n",
              "    fill: var(--fill-color);\n",
              "    height: 32px;\n",
              "    padding: 0;\n",
              "    width: 32px;\n",
              "  }\n",
              "\n",
              "  .colab-df-quickchart:hover {\n",
              "    background-color: var(--hover-bg-color);\n",
              "    box-shadow: 0 1px 2px rgba(60, 64, 67, 0.3), 0 1px 3px 1px rgba(60, 64, 67, 0.15);\n",
              "    fill: var(--button-hover-fill-color);\n",
              "  }\n",
              "\n",
              "  .colab-df-quickchart-complete:disabled,\n",
              "  .colab-df-quickchart-complete:disabled:hover {\n",
              "    background-color: var(--disabled-bg-color);\n",
              "    fill: var(--disabled-fill-color);\n",
              "    box-shadow: none;\n",
              "  }\n",
              "\n",
              "  .colab-df-spinner {\n",
              "    border: 2px solid var(--fill-color);\n",
              "    border-color: transparent;\n",
              "    border-bottom-color: var(--fill-color);\n",
              "    animation:\n",
              "      spin 1s steps(1) infinite;\n",
              "  }\n",
              "\n",
              "  @keyframes spin {\n",
              "    0% {\n",
              "      border-color: transparent;\n",
              "      border-bottom-color: var(--fill-color);\n",
              "      border-left-color: var(--fill-color);\n",
              "    }\n",
              "    20% {\n",
              "      border-color: transparent;\n",
              "      border-left-color: var(--fill-color);\n",
              "      border-top-color: var(--fill-color);\n",
              "    }\n",
              "    30% {\n",
              "      border-color: transparent;\n",
              "      border-left-color: var(--fill-color);\n",
              "      border-top-color: var(--fill-color);\n",
              "      border-right-color: var(--fill-color);\n",
              "    }\n",
              "    40% {\n",
              "      border-color: transparent;\n",
              "      border-right-color: var(--fill-color);\n",
              "      border-top-color: var(--fill-color);\n",
              "    }\n",
              "    60% {\n",
              "      border-color: transparent;\n",
              "      border-right-color: var(--fill-color);\n",
              "    }\n",
              "    80% {\n",
              "      border-color: transparent;\n",
              "      border-right-color: var(--fill-color);\n",
              "      border-bottom-color: var(--fill-color);\n",
              "    }\n",
              "    90% {\n",
              "      border-color: transparent;\n",
              "      border-bottom-color: var(--fill-color);\n",
              "    }\n",
              "  }\n",
              "</style>\n",
              "\n",
              "      <script>\n",
              "        async function quickchart(key) {\n",
              "          const quickchartButtonEl =\n",
              "            document.querySelector('#' + key + ' button');\n",
              "          quickchartButtonEl.disabled = true;  // To prevent multiple clicks.\n",
              "          quickchartButtonEl.classList.add('colab-df-spinner');\n",
              "          try {\n",
              "            const charts = await google.colab.kernel.invokeFunction(\n",
              "                'suggestCharts', [key], {});\n",
              "          } catch (error) {\n",
              "            console.error('Error during call to suggestCharts:', error);\n",
              "          }\n",
              "          quickchartButtonEl.classList.remove('colab-df-spinner');\n",
              "          quickchartButtonEl.classList.add('colab-df-quickchart-complete');\n",
              "        }\n",
              "        (() => {\n",
              "          let quickchartButtonEl =\n",
              "            document.querySelector('#df-47a6973d-09f5-4f6a-ad43-3f1dca244f94 button');\n",
              "          quickchartButtonEl.style.display =\n",
              "            google.colab.kernel.accessAllowed ? 'block' : 'none';\n",
              "        })();\n",
              "      </script>\n",
              "    </div>\n",
              "\n",
              "    </div>\n",
              "  </div>\n"
            ],
            "application/vnd.google.colaboratory.intrinsic+json": {
              "type": "dataframe",
              "variable_name": "df"
            }
          },
          "metadata": {},
          "execution_count": 4
        }
      ]
    },
    {
      "cell_type": "markdown",
      "source": [
        "## 🧮 Dataset Overview\n",
        "\n",
        "We display the first few records and the structural summary of the dataset using:\n",
        "\n",
        "- `df.head()` – to preview the top 5 rows.\n",
        "- `df.info()` – to check:\n",
        "  - Number of entries (rows),\n",
        "  - Column names,\n",
        "  - Data types (e.g., int, float, object),\n",
        "  - Non-null value counts (helps spot missing data).\n"
      ],
      "metadata": {
        "id": "Y1PmYDhzGQMD"
      }
    },
    {
      "cell_type": "code",
      "source": [
        "print(df.head())\n",
        "print(df.info())"
      ],
      "metadata": {
        "colab": {
          "base_uri": "https://localhost:8080/"
        },
        "id": "btYA6iSTLJ3r",
        "outputId": "b0d44c66-117a-405a-cae2-9785bd1bb5c6"
      },
      "execution_count": 5,
      "outputs": [
        {
          "output_type": "stream",
          "name": "stdout",
          "text": [
            "   age        job  marital    education  default housing loan    contact  \\\n",
            "0   56  housemaid  married     basic.4y       no      no   no  telephone   \n",
            "1   57   services  married  high.school  unknown      no   no  telephone   \n",
            "2   37   services  married  high.school       no     yes   no  telephone   \n",
            "3   40     admin.  married     basic.6y       no      no   no  telephone   \n",
            "4   56   services  married  high.school       no      no  yes  telephone   \n",
            "\n",
            "  month day_of_week  ...  campaign  pdays  previous     poutcome emp.var.rate  \\\n",
            "0   may         mon  ...         1    999         0  nonexistent          1.1   \n",
            "1   may         mon  ...         1    999         0  nonexistent          1.1   \n",
            "2   may         mon  ...         1    999         0  nonexistent          1.1   \n",
            "3   may         mon  ...         1    999         0  nonexistent          1.1   \n",
            "4   may         mon  ...         1    999         0  nonexistent          1.1   \n",
            "\n",
            "   cons.price.idx  cons.conf.idx  euribor3m  nr.employed  subscribed  \n",
            "0          93.994          -36.4      4.857       5191.0          no  \n",
            "1          93.994          -36.4      4.857       5191.0          no  \n",
            "2          93.994          -36.4      4.857       5191.0          no  \n",
            "3          93.994          -36.4      4.857       5191.0          no  \n",
            "4          93.994          -36.4      4.857       5191.0          no  \n",
            "\n",
            "[5 rows x 21 columns]\n",
            "<class 'pandas.core.frame.DataFrame'>\n",
            "RangeIndex: 41188 entries, 0 to 41187\n",
            "Data columns (total 21 columns):\n",
            " #   Column          Non-Null Count  Dtype  \n",
            "---  ------          --------------  -----  \n",
            " 0   age             41188 non-null  int64  \n",
            " 1   job             41188 non-null  object \n",
            " 2   marital         41188 non-null  object \n",
            " 3   education       41188 non-null  object \n",
            " 4   default         41188 non-null  object \n",
            " 5   housing         41188 non-null  object \n",
            " 6   loan            41188 non-null  object \n",
            " 7   contact         41188 non-null  object \n",
            " 8   month           41188 non-null  object \n",
            " 9   day_of_week     41188 non-null  object \n",
            " 10  duration        41188 non-null  int64  \n",
            " 11  campaign        41188 non-null  int64  \n",
            " 12  pdays           41188 non-null  int64  \n",
            " 13  previous        41188 non-null  int64  \n",
            " 14  poutcome        41188 non-null  object \n",
            " 15  emp.var.rate    41188 non-null  float64\n",
            " 16  cons.price.idx  41188 non-null  float64\n",
            " 17  cons.conf.idx   41188 non-null  float64\n",
            " 18  euribor3m       41188 non-null  float64\n",
            " 19  nr.employed     41188 non-null  float64\n",
            " 20  subscribed      41188 non-null  object \n",
            "dtypes: float64(5), int64(5), object(11)\n",
            "memory usage: 6.6+ MB\n",
            "None\n"
          ]
        }
      ]
    },
    {
      "cell_type": "code",
      "source": [
        "df.head()"
      ],
      "metadata": {
        "colab": {
          "base_uri": "https://localhost:8080/",
          "height": 255
        },
        "id": "efdREM6NLnlA",
        "outputId": "5d80603f-9463-4802-f911-c8e2879dc902"
      },
      "execution_count": 6,
      "outputs": [
        {
          "output_type": "execute_result",
          "data": {
            "text/plain": [
              "   age        job  marital    education  default housing loan    contact  \\\n",
              "0   56  housemaid  married     basic.4y       no      no   no  telephone   \n",
              "1   57   services  married  high.school  unknown      no   no  telephone   \n",
              "2   37   services  married  high.school       no     yes   no  telephone   \n",
              "3   40     admin.  married     basic.6y       no      no   no  telephone   \n",
              "4   56   services  married  high.school       no      no  yes  telephone   \n",
              "\n",
              "  month day_of_week  ...  campaign  pdays  previous     poutcome emp.var.rate  \\\n",
              "0   may         mon  ...         1    999         0  nonexistent          1.1   \n",
              "1   may         mon  ...         1    999         0  nonexistent          1.1   \n",
              "2   may         mon  ...         1    999         0  nonexistent          1.1   \n",
              "3   may         mon  ...         1    999         0  nonexistent          1.1   \n",
              "4   may         mon  ...         1    999         0  nonexistent          1.1   \n",
              "\n",
              "   cons.price.idx  cons.conf.idx  euribor3m  nr.employed  subscribed  \n",
              "0          93.994          -36.4      4.857       5191.0          no  \n",
              "1          93.994          -36.4      4.857       5191.0          no  \n",
              "2          93.994          -36.4      4.857       5191.0          no  \n",
              "3          93.994          -36.4      4.857       5191.0          no  \n",
              "4          93.994          -36.4      4.857       5191.0          no  \n",
              "\n",
              "[5 rows x 21 columns]"
            ],
            "text/html": [
              "\n",
              "  <div id=\"df-1a99d4a2-8424-40f0-b5d4-6a9f16f968e2\" class=\"colab-df-container\">\n",
              "    <div>\n",
              "<style scoped>\n",
              "    .dataframe tbody tr th:only-of-type {\n",
              "        vertical-align: middle;\n",
              "    }\n",
              "\n",
              "    .dataframe tbody tr th {\n",
              "        vertical-align: top;\n",
              "    }\n",
              "\n",
              "    .dataframe thead th {\n",
              "        text-align: right;\n",
              "    }\n",
              "</style>\n",
              "<table border=\"1\" class=\"dataframe\">\n",
              "  <thead>\n",
              "    <tr style=\"text-align: right;\">\n",
              "      <th></th>\n",
              "      <th>age</th>\n",
              "      <th>job</th>\n",
              "      <th>marital</th>\n",
              "      <th>education</th>\n",
              "      <th>default</th>\n",
              "      <th>housing</th>\n",
              "      <th>loan</th>\n",
              "      <th>contact</th>\n",
              "      <th>month</th>\n",
              "      <th>day_of_week</th>\n",
              "      <th>...</th>\n",
              "      <th>campaign</th>\n",
              "      <th>pdays</th>\n",
              "      <th>previous</th>\n",
              "      <th>poutcome</th>\n",
              "      <th>emp.var.rate</th>\n",
              "      <th>cons.price.idx</th>\n",
              "      <th>cons.conf.idx</th>\n",
              "      <th>euribor3m</th>\n",
              "      <th>nr.employed</th>\n",
              "      <th>subscribed</th>\n",
              "    </tr>\n",
              "  </thead>\n",
              "  <tbody>\n",
              "    <tr>\n",
              "      <th>0</th>\n",
              "      <td>56</td>\n",
              "      <td>housemaid</td>\n",
              "      <td>married</td>\n",
              "      <td>basic.4y</td>\n",
              "      <td>no</td>\n",
              "      <td>no</td>\n",
              "      <td>no</td>\n",
              "      <td>telephone</td>\n",
              "      <td>may</td>\n",
              "      <td>mon</td>\n",
              "      <td>...</td>\n",
              "      <td>1</td>\n",
              "      <td>999</td>\n",
              "      <td>0</td>\n",
              "      <td>nonexistent</td>\n",
              "      <td>1.1</td>\n",
              "      <td>93.994</td>\n",
              "      <td>-36.4</td>\n",
              "      <td>4.857</td>\n",
              "      <td>5191.0</td>\n",
              "      <td>no</td>\n",
              "    </tr>\n",
              "    <tr>\n",
              "      <th>1</th>\n",
              "      <td>57</td>\n",
              "      <td>services</td>\n",
              "      <td>married</td>\n",
              "      <td>high.school</td>\n",
              "      <td>unknown</td>\n",
              "      <td>no</td>\n",
              "      <td>no</td>\n",
              "      <td>telephone</td>\n",
              "      <td>may</td>\n",
              "      <td>mon</td>\n",
              "      <td>...</td>\n",
              "      <td>1</td>\n",
              "      <td>999</td>\n",
              "      <td>0</td>\n",
              "      <td>nonexistent</td>\n",
              "      <td>1.1</td>\n",
              "      <td>93.994</td>\n",
              "      <td>-36.4</td>\n",
              "      <td>4.857</td>\n",
              "      <td>5191.0</td>\n",
              "      <td>no</td>\n",
              "    </tr>\n",
              "    <tr>\n",
              "      <th>2</th>\n",
              "      <td>37</td>\n",
              "      <td>services</td>\n",
              "      <td>married</td>\n",
              "      <td>high.school</td>\n",
              "      <td>no</td>\n",
              "      <td>yes</td>\n",
              "      <td>no</td>\n",
              "      <td>telephone</td>\n",
              "      <td>may</td>\n",
              "      <td>mon</td>\n",
              "      <td>...</td>\n",
              "      <td>1</td>\n",
              "      <td>999</td>\n",
              "      <td>0</td>\n",
              "      <td>nonexistent</td>\n",
              "      <td>1.1</td>\n",
              "      <td>93.994</td>\n",
              "      <td>-36.4</td>\n",
              "      <td>4.857</td>\n",
              "      <td>5191.0</td>\n",
              "      <td>no</td>\n",
              "    </tr>\n",
              "    <tr>\n",
              "      <th>3</th>\n",
              "      <td>40</td>\n",
              "      <td>admin.</td>\n",
              "      <td>married</td>\n",
              "      <td>basic.6y</td>\n",
              "      <td>no</td>\n",
              "      <td>no</td>\n",
              "      <td>no</td>\n",
              "      <td>telephone</td>\n",
              "      <td>may</td>\n",
              "      <td>mon</td>\n",
              "      <td>...</td>\n",
              "      <td>1</td>\n",
              "      <td>999</td>\n",
              "      <td>0</td>\n",
              "      <td>nonexistent</td>\n",
              "      <td>1.1</td>\n",
              "      <td>93.994</td>\n",
              "      <td>-36.4</td>\n",
              "      <td>4.857</td>\n",
              "      <td>5191.0</td>\n",
              "      <td>no</td>\n",
              "    </tr>\n",
              "    <tr>\n",
              "      <th>4</th>\n",
              "      <td>56</td>\n",
              "      <td>services</td>\n",
              "      <td>married</td>\n",
              "      <td>high.school</td>\n",
              "      <td>no</td>\n",
              "      <td>no</td>\n",
              "      <td>yes</td>\n",
              "      <td>telephone</td>\n",
              "      <td>may</td>\n",
              "      <td>mon</td>\n",
              "      <td>...</td>\n",
              "      <td>1</td>\n",
              "      <td>999</td>\n",
              "      <td>0</td>\n",
              "      <td>nonexistent</td>\n",
              "      <td>1.1</td>\n",
              "      <td>93.994</td>\n",
              "      <td>-36.4</td>\n",
              "      <td>4.857</td>\n",
              "      <td>5191.0</td>\n",
              "      <td>no</td>\n",
              "    </tr>\n",
              "  </tbody>\n",
              "</table>\n",
              "<p>5 rows × 21 columns</p>\n",
              "</div>\n",
              "    <div class=\"colab-df-buttons\">\n",
              "\n",
              "  <div class=\"colab-df-container\">\n",
              "    <button class=\"colab-df-convert\" onclick=\"convertToInteractive('df-1a99d4a2-8424-40f0-b5d4-6a9f16f968e2')\"\n",
              "            title=\"Convert this dataframe to an interactive table.\"\n",
              "            style=\"display:none;\">\n",
              "\n",
              "  <svg xmlns=\"http://www.w3.org/2000/svg\" height=\"24px\" viewBox=\"0 -960 960 960\">\n",
              "    <path d=\"M120-120v-720h720v720H120Zm60-500h600v-160H180v160Zm220 220h160v-160H400v160Zm0 220h160v-160H400v160ZM180-400h160v-160H180v160Zm440 0h160v-160H620v160ZM180-180h160v-160H180v160Zm440 0h160v-160H620v160Z\"/>\n",
              "  </svg>\n",
              "    </button>\n",
              "\n",
              "  <style>\n",
              "    .colab-df-container {\n",
              "      display:flex;\n",
              "      gap: 12px;\n",
              "    }\n",
              "\n",
              "    .colab-df-convert {\n",
              "      background-color: #E8F0FE;\n",
              "      border: none;\n",
              "      border-radius: 50%;\n",
              "      cursor: pointer;\n",
              "      display: none;\n",
              "      fill: #1967D2;\n",
              "      height: 32px;\n",
              "      padding: 0 0 0 0;\n",
              "      width: 32px;\n",
              "    }\n",
              "\n",
              "    .colab-df-convert:hover {\n",
              "      background-color: #E2EBFA;\n",
              "      box-shadow: 0px 1px 2px rgba(60, 64, 67, 0.3), 0px 1px 3px 1px rgba(60, 64, 67, 0.15);\n",
              "      fill: #174EA6;\n",
              "    }\n",
              "\n",
              "    .colab-df-buttons div {\n",
              "      margin-bottom: 4px;\n",
              "    }\n",
              "\n",
              "    [theme=dark] .colab-df-convert {\n",
              "      background-color: #3B4455;\n",
              "      fill: #D2E3FC;\n",
              "    }\n",
              "\n",
              "    [theme=dark] .colab-df-convert:hover {\n",
              "      background-color: #434B5C;\n",
              "      box-shadow: 0px 1px 3px 1px rgba(0, 0, 0, 0.15);\n",
              "      filter: drop-shadow(0px 1px 2px rgba(0, 0, 0, 0.3));\n",
              "      fill: #FFFFFF;\n",
              "    }\n",
              "  </style>\n",
              "\n",
              "    <script>\n",
              "      const buttonEl =\n",
              "        document.querySelector('#df-1a99d4a2-8424-40f0-b5d4-6a9f16f968e2 button.colab-df-convert');\n",
              "      buttonEl.style.display =\n",
              "        google.colab.kernel.accessAllowed ? 'block' : 'none';\n",
              "\n",
              "      async function convertToInteractive(key) {\n",
              "        const element = document.querySelector('#df-1a99d4a2-8424-40f0-b5d4-6a9f16f968e2');\n",
              "        const dataTable =\n",
              "          await google.colab.kernel.invokeFunction('convertToInteractive',\n",
              "                                                    [key], {});\n",
              "        if (!dataTable) return;\n",
              "\n",
              "        const docLinkHtml = 'Like what you see? Visit the ' +\n",
              "          '<a target=\"_blank\" href=https://colab.research.google.com/notebooks/data_table.ipynb>data table notebook</a>'\n",
              "          + ' to learn more about interactive tables.';\n",
              "        element.innerHTML = '';\n",
              "        dataTable['output_type'] = 'display_data';\n",
              "        await google.colab.output.renderOutput(dataTable, element);\n",
              "        const docLink = document.createElement('div');\n",
              "        docLink.innerHTML = docLinkHtml;\n",
              "        element.appendChild(docLink);\n",
              "      }\n",
              "    </script>\n",
              "  </div>\n",
              "\n",
              "\n",
              "    <div id=\"df-28dcaf73-7794-46e2-9925-3edc2d49be1a\">\n",
              "      <button class=\"colab-df-quickchart\" onclick=\"quickchart('df-28dcaf73-7794-46e2-9925-3edc2d49be1a')\"\n",
              "                title=\"Suggest charts\"\n",
              "                style=\"display:none;\">\n",
              "\n",
              "<svg xmlns=\"http://www.w3.org/2000/svg\" height=\"24px\"viewBox=\"0 0 24 24\"\n",
              "     width=\"24px\">\n",
              "    <g>\n",
              "        <path d=\"M19 3H5c-1.1 0-2 .9-2 2v14c0 1.1.9 2 2 2h14c1.1 0 2-.9 2-2V5c0-1.1-.9-2-2-2zM9 17H7v-7h2v7zm4 0h-2V7h2v10zm4 0h-2v-4h2v4z\"/>\n",
              "    </g>\n",
              "</svg>\n",
              "      </button>\n",
              "\n",
              "<style>\n",
              "  .colab-df-quickchart {\n",
              "      --bg-color: #E8F0FE;\n",
              "      --fill-color: #1967D2;\n",
              "      --hover-bg-color: #E2EBFA;\n",
              "      --hover-fill-color: #174EA6;\n",
              "      --disabled-fill-color: #AAA;\n",
              "      --disabled-bg-color: #DDD;\n",
              "  }\n",
              "\n",
              "  [theme=dark] .colab-df-quickchart {\n",
              "      --bg-color: #3B4455;\n",
              "      --fill-color: #D2E3FC;\n",
              "      --hover-bg-color: #434B5C;\n",
              "      --hover-fill-color: #FFFFFF;\n",
              "      --disabled-bg-color: #3B4455;\n",
              "      --disabled-fill-color: #666;\n",
              "  }\n",
              "\n",
              "  .colab-df-quickchart {\n",
              "    background-color: var(--bg-color);\n",
              "    border: none;\n",
              "    border-radius: 50%;\n",
              "    cursor: pointer;\n",
              "    display: none;\n",
              "    fill: var(--fill-color);\n",
              "    height: 32px;\n",
              "    padding: 0;\n",
              "    width: 32px;\n",
              "  }\n",
              "\n",
              "  .colab-df-quickchart:hover {\n",
              "    background-color: var(--hover-bg-color);\n",
              "    box-shadow: 0 1px 2px rgba(60, 64, 67, 0.3), 0 1px 3px 1px rgba(60, 64, 67, 0.15);\n",
              "    fill: var(--button-hover-fill-color);\n",
              "  }\n",
              "\n",
              "  .colab-df-quickchart-complete:disabled,\n",
              "  .colab-df-quickchart-complete:disabled:hover {\n",
              "    background-color: var(--disabled-bg-color);\n",
              "    fill: var(--disabled-fill-color);\n",
              "    box-shadow: none;\n",
              "  }\n",
              "\n",
              "  .colab-df-spinner {\n",
              "    border: 2px solid var(--fill-color);\n",
              "    border-color: transparent;\n",
              "    border-bottom-color: var(--fill-color);\n",
              "    animation:\n",
              "      spin 1s steps(1) infinite;\n",
              "  }\n",
              "\n",
              "  @keyframes spin {\n",
              "    0% {\n",
              "      border-color: transparent;\n",
              "      border-bottom-color: var(--fill-color);\n",
              "      border-left-color: var(--fill-color);\n",
              "    }\n",
              "    20% {\n",
              "      border-color: transparent;\n",
              "      border-left-color: var(--fill-color);\n",
              "      border-top-color: var(--fill-color);\n",
              "    }\n",
              "    30% {\n",
              "      border-color: transparent;\n",
              "      border-left-color: var(--fill-color);\n",
              "      border-top-color: var(--fill-color);\n",
              "      border-right-color: var(--fill-color);\n",
              "    }\n",
              "    40% {\n",
              "      border-color: transparent;\n",
              "      border-right-color: var(--fill-color);\n",
              "      border-top-color: var(--fill-color);\n",
              "    }\n",
              "    60% {\n",
              "      border-color: transparent;\n",
              "      border-right-color: var(--fill-color);\n",
              "    }\n",
              "    80% {\n",
              "      border-color: transparent;\n",
              "      border-right-color: var(--fill-color);\n",
              "      border-bottom-color: var(--fill-color);\n",
              "    }\n",
              "    90% {\n",
              "      border-color: transparent;\n",
              "      border-bottom-color: var(--fill-color);\n",
              "    }\n",
              "  }\n",
              "</style>\n",
              "\n",
              "      <script>\n",
              "        async function quickchart(key) {\n",
              "          const quickchartButtonEl =\n",
              "            document.querySelector('#' + key + ' button');\n",
              "          quickchartButtonEl.disabled = true;  // To prevent multiple clicks.\n",
              "          quickchartButtonEl.classList.add('colab-df-spinner');\n",
              "          try {\n",
              "            const charts = await google.colab.kernel.invokeFunction(\n",
              "                'suggestCharts', [key], {});\n",
              "          } catch (error) {\n",
              "            console.error('Error during call to suggestCharts:', error);\n",
              "          }\n",
              "          quickchartButtonEl.classList.remove('colab-df-spinner');\n",
              "          quickchartButtonEl.classList.add('colab-df-quickchart-complete');\n",
              "        }\n",
              "        (() => {\n",
              "          let quickchartButtonEl =\n",
              "            document.querySelector('#df-28dcaf73-7794-46e2-9925-3edc2d49be1a button');\n",
              "          quickchartButtonEl.style.display =\n",
              "            google.colab.kernel.accessAllowed ? 'block' : 'none';\n",
              "        })();\n",
              "      </script>\n",
              "    </div>\n",
              "\n",
              "    </div>\n",
              "  </div>\n"
            ],
            "application/vnd.google.colaboratory.intrinsic+json": {
              "type": "dataframe",
              "variable_name": "df"
            }
          },
          "metadata": {},
          "execution_count": 6
        }
      ]
    },
    {
      "cell_type": "code",
      "source": [],
      "metadata": {
        "id": "pY4V3CfyhGHJ"
      },
      "execution_count": 6,
      "outputs": []
    },
    {
      "cell_type": "markdown",
      "source": [
        "## 📊 Importing Visualization Libraries\n",
        "\n",
        "We import the libraries required for data visualization:\n",
        "\n",
        "- `%matplotlib inline` ensures that all plots appear directly in the notebook.\n",
        "- `matplotlib.pyplot` is used for basic plotting.\n",
        "- `seaborn` is a statistical data visualization library built on top of matplotlib. It makes it easier to create attractive and informative graphs.\n"
      ],
      "metadata": {
        "id": "qScIdKfyGZiT"
      }
    },
    {
      "cell_type": "code",
      "source": [
        "%matplotlib inline\n",
        "import matplotlib.pyplot as plt\n",
        "import seaborn as sns"
      ],
      "metadata": {
        "id": "t9FVMND-hyoe"
      },
      "execution_count": 7,
      "outputs": []
    },
    {
      "cell_type": "markdown",
      "source": [
        "## 📈 Class Distribution – Target Variable (`subscribed`)\n",
        "\n",
        "This bar plot shows the distribution of the target variable: whether a client subscribed to the term deposit or not.\n",
        "\n",
        "- We use `seaborn.countplot()` to display the number of \"yes\" and \"no\" responses.\n",
        "- The total percentage for each class is annotated on top of each bar.\n",
        "- This helps us **identify class imbalance**, which is critical for model performance and choosing the right evaluation metrics later.\n"
      ],
      "metadata": {
        "id": "V5odgAcGGeSh"
      }
    },
    {
      "cell_type": "code",
      "source": [
        "fig = plt.figure(figsize=(8,4))\n",
        "plt.title('Number of Subscribed Clients', fontweight='bold')\n",
        "ax=sns.countplot(x='subscribed', data=df)\n",
        "size = float(df.shape[0])\n",
        "for p in ax.patches:\n",
        "        height = p.get_height()\n",
        "        ax.text(p.get_x()+p.get_width()/2., height + 4, '{:1.2f}%'.format(100 * height/size), ha='center')\n",
        "# plt.grid(True, alpha=0.5, color='black')\n",
        "plt.legend(loc='best')\n",
        "plt.show()"
      ],
      "metadata": {
        "colab": {
          "base_uri": "https://localhost:8080/",
          "height": 465
        },
        "id": "R1hlUBQ8htr6",
        "outputId": "4a66cc98-37ca-4d48-970c-274c378cd146"
      },
      "execution_count": 8,
      "outputs": [
        {
          "output_type": "stream",
          "name": "stderr",
          "text": [
            "/tmp/ipython-input-8-4114604255.py:9: UserWarning: No artists with labels found to put in legend.  Note that artists whose label start with an underscore are ignored when legend() is called with no argument.\n",
            "  plt.legend(loc='best')\n"
          ]
        },
        {
          "output_type": "display_data",
          "data": {
            "text/plain": [
              "<Figure size 800x400 with 1 Axes>"
            ],
            "image/png": "[encoded data removed]"
          },
          "metadata": {}
        }
      ]
    },
    {
      "cell_type": "markdown",
      "source": [
        "## 📊 Job-wise Subscription Distribution\n",
        "\n",
        "This bar plot shows how the number of subscribed clients varies across different job categories.\n",
        "\n",
        "- We use `hue='subscribed'` to separate responses into **\"yes\"** and **\"no\"**.\n",
        "- Percentages are annotated above each bar to understand the proportion of responses for each job type.\n",
        "- This visualization helps us analyze whether clients from certain occupations are more likely to subscribe to the bank's term deposit.\n",
        "\n",
        "📌 **Insight:** Certain jobs l\n"
      ],
      "metadata": {
        "id": "yqljo2-5HJPu"
      }
    },
    {
      "cell_type": "code",
      "source": [
        "fig = plt.figure(figsize=(16,8))\n",
        "plt.title('Number of Subscribed Clients per Job', fontweight='bold')\n",
        "ax=sns.countplot(data=df, x='job', hue='subscribed')\n",
        "for p in ax.patches:\n",
        "        height = p.get_height()\n",
        "        ax.text(p.get_x()+p.get_width()/2., height + 4, '{:1.2f}%'.format(100 * height/size), ha='center')\n",
        "plt.grid(True, alpha=0.5, color='black')\n",
        "plt.legend(loc='best')\n",
        "plt.show()"
      ],
      "metadata": {
        "colab": {
          "base_uri": "https://localhost:8080/",
          "height": 718
        },
        "id": "t9TCXJ3LisRN",
        "outputId": "8cafb052-f084-4177-ef54-7769f755bc40"
      },
      "execution_count": 9,
      "outputs": [
        {
          "output_type": "display_data",
          "data": {
            "text/plain": [
              "<Figure size 1600x800 with 1 Axes>"
            ],
            "image/png": "[encoded data removed]"
          },
          "metadata": {}
        }
      ]
    },
    {
      "cell_type": "markdown",
      "source": [
        "## 🎓 Education Level vs Subscription Status\n",
        "\n",
        "This count plot visualizes how client education levels relate to their likelihood of subscribing.\n",
        "\n",
        "- We group the data by `education` and use `hue='subscribed'` to separate \"yes\" and \"no\" responses.\n",
        "- Percentages are shown above each bar to highlight the distribution.\n",
        "- This can help identify if individuals with certain educational backgrounds (e.g., `university.degree`, `basic.9y`) are more or less likely to subscribe.\n",
        "\n",
        "📌 **Insight:** Education level can be a strong predictive feature in financial product marketing.\n"
      ],
      "metadata": {
        "id": "71vnnmWUHOkp"
      }
    },
    {
      "cell_type": "code",
      "source": [
        "fig = plt.figure(figsize=(16,10))\n",
        "plt.title('Number of Subscribed Clients per Education', fontweight='bold')\n",
        "ax=sns.countplot(data=df, x='education', hue='subscribed')\n",
        "for p in ax.patches:\n",
        "        height = p.get_height()\n",
        "        if height > 0:\n",
        "          ax.text(p.get_x() + p.get_width()/2.,\n",
        "                height + 4, # Adjust vertical position if needed\n",
        "                '{:1.2f}%'.format(100 * height/size),\n",
        "                ha='center')\n",
        "        # ax.text(p.get_x()+p.get_width()/2., height + 4, '{:1.2f}%'.format(100 * height/size), ha='center')\n",
        "plt.grid(True, alpha=0.5, color='black')\n",
        "plt.legend(loc='best')\n",
        "plt.show()"
      ],
      "metadata": {
        "colab": {
          "base_uri": "https://localhost:8080/",
          "height": 872
        },
        "id": "vnyWW43Fis2r",
        "outputId": "22cbeb23-049c-4c58-a8dc-567e4d4a4ea9"
      },
      "execution_count": 10,
      "outputs": [
        {
          "output_type": "display_data",
          "data": {
            "text/plain": [
              "<Figure size 1600x1000 with 1 Axes>"
            ],
            "image/png": "[encoded data removed]"
          },
          "metadata": {}
        }
      ]
    },
    {
      "cell_type": "markdown",
      "source": [
        "## 🔁 Outcome of Previous Campaign vs Subscription\n",
        "\n",
        "This visualization explores the impact of the **previous marketing campaign outcome (`poutcome`)** on the current subscription decision.\n",
        "\n",
        "- Bars are grouped by `poutcome` and split using the `subscribed` hue.\n",
        "- Annotated percentages show the class distribution within each outcome category.\n",
        "- Categories include:\n",
        "  - `success`: The client subscribed in the previous campaign.\n",
        "  - `failure`: The client did not subscribe.\n",
        "  - `nonexistent`: The client was never contacted before.\n",
        "\n",
        "📌 **Insight:** Clients with a previously successful interaction show a significantly higher subscription rate. This can be a powerful feature in predictive modeling.\n"
      ],
      "metadata": {
        "id": "PUpC3niZHSnf"
      }
    },
    {
      "cell_type": "code",
      "source": [
        "fig = plt.figure(figsize=(16,8))\n",
        "plt.title('Number of Subscribed Clients per P-outcome', fontweight='bold')\n",
        "ax=sns.countplot(data=df, x='poutcome', hue='subscribed')\n",
        "for p in ax.patches:\n",
        "        height = p.get_height()\n",
        "        if height>0:\n",
        "          ax.text(p.get_x()+p.get_width()/2., height + 4, '{:1.2f}%'.format(100 * height/size), ha='center')\n",
        "plt.grid(True, alpha=0.5, color='black')\n",
        "plt.legend(loc='best')\n",
        "plt.show()"
      ],
      "metadata": {
        "colab": {
          "base_uri": "https://localhost:8080/",
          "height": 718
        },
        "id": "vnp3XSC_k5qf",
        "outputId": "ed48cab1-066a-4df3-cb85-3cd5723dd2a1"
      },
      "execution_count": 11,
      "outputs": [
        {
          "output_type": "display_data",
          "data": {
            "text/plain": [
              "<Figure size 1600x800 with 1 Axes>"
            ],
            "image/png": "[encoded data removed]"
          },
          "metadata": {}
        }
      ]
    },
    {
      "cell_type": "markdown",
      "source": [
        "## 🕳️ Detecting Missing Values in Disguise (`'unknown'`)\n",
        "\n",
        "In this dataset, some missing values aren't marked as `NaN` but rather as the string `'unknown'`.\n",
        "\n",
        "- We use `df.isin(['unknown'])` to identify such occurrences across all columns.\n",
        "- Then, `.sum(axis=0)` counts how many `'unknown'` values exist per column.\n",
        "\n",
        "📌 **Why this matters:**  \n",
        "These disguised missing values need to be treated before modeling, either by imputation or removal, to prevent bias or errors.\n"
      ],
      "metadata": {
        "id": "8jHma2c1HYKJ"
      }
    },
    {
      "cell_type": "code",
      "source": [
        "# There are many missing values in other forms like 'unknown'\n",
        "missing_cols = df.isin(['unknown']).sum(axis=0)\n",
        "missing_cols"
      ],
      "metadata": {
        "colab": {
          "base_uri": "https://localhost:8080/",
          "height": 742
        },
        "id": "0YcSs8pQk6l6",
        "outputId": "d65504ea-fc57-4580-86e2-6adeee0ad82a"
      },
      "execution_count": 12,
      "outputs": [
        {
          "output_type": "execute_result",
          "data": {
            "text/plain": [
              "age                  0\n",
              "job                330\n",
              "marital             80\n",
              "education         1731\n",
              "default           8597\n",
              "housing            990\n",
              "loan               990\n",
              "contact              0\n",
              "month                0\n",
              "day_of_week          0\n",
              "duration             0\n",
              "campaign             0\n",
              "pdays                0\n",
              "previous             0\n",
              "poutcome             0\n",
              "emp.var.rate         0\n",
              "cons.price.idx       0\n",
              "cons.conf.idx        0\n",
              "euribor3m            0\n",
              "nr.employed          0\n",
              "subscribed           0\n",
              "dtype: int64"
            ],
            "text/html": [
              "<div>\n",
              "<style scoped>\n",
              "    .dataframe tbody tr th:only-of-type {\n",
              "        vertical-align: middle;\n",
              "    }\n",
              "\n",
              "    .dataframe tbody tr th {\n",
              "        vertical-align: top;\n",
              "    }\n",
              "\n",
              "    .dataframe thead th {\n",
              "        text-align: right;\n",
              "    }\n",
              "</style>\n",
              "<table border=\"1\" class=\"dataframe\">\n",
              "  <thead>\n",
              "    <tr style=\"text-align: right;\">\n",
              "      <th></th>\n",
              "      <th>0</th>\n",
              "    </tr>\n",
              "  </thead>\n",
              "  <tbody>\n",
              "    <tr>\n",
              "      <th>age</th>\n",
              "      <td>0</td>\n",
              "    </tr>\n",
              "    <tr>\n",
              "      <th>job</th>\n",
              "      <td>330</td>\n",
              "    </tr>\n",
              "    <tr>\n",
              "      <th>marital</th>\n",
              "      <td>80</td>\n",
              "    </tr>\n",
              "    <tr>\n",
              "      <th>education</th>\n",
              "      <td>1731</td>\n",
              "    </tr>\n",
              "    <tr>\n",
              "      <th>default</th>\n",
              "      <td>8597</td>\n",
              "    </tr>\n",
              "    <tr>\n",
              "      <th>housing</th>\n",
              "      <td>990</td>\n",
              "    </tr>\n",
              "    <tr>\n",
              "      <th>loan</th>\n",
              "      <td>990</td>\n",
              "    </tr>\n",
              "    <tr>\n",
              "      <th>contact</th>\n",
              "      <td>0</td>\n",
              "    </tr>\n",
              "    <tr>\n",
              "      <th>month</th>\n",
              "      <td>0</td>\n",
              "    </tr>\n",
              "    <tr>\n",
              "      <th>day_of_week</th>\n",
              "      <td>0</td>\n",
              "    </tr>\n",
              "    <tr>\n",
              "      <th>duration</th>\n",
              "      <td>0</td>\n",
              "    </tr>\n",
              "    <tr>\n",
              "      <th>campaign</th>\n",
              "      <td>0</td>\n",
              "    </tr>\n",
              "    <tr>\n",
              "      <th>pdays</th>\n",
              "      <td>0</td>\n",
              "    </tr>\n",
              "    <tr>\n",
              "      <th>previous</th>\n",
              "      <td>0</td>\n",
              "    </tr>\n",
              "    <tr>\n",
              "      <th>poutcome</th>\n",
              "      <td>0</td>\n",
              "    </tr>\n",
              "    <tr>\n",
              "      <th>emp.var.rate</th>\n",
              "      <td>0</td>\n",
              "    </tr>\n",
              "    <tr>\n",
              "      <th>cons.price.idx</th>\n",
              "      <td>0</td>\n",
              "    </tr>\n",
              "    <tr>\n",
              "      <th>cons.conf.idx</th>\n",
              "      <td>0</td>\n",
              "    </tr>\n",
              "    <tr>\n",
              "      <th>euribor3m</th>\n",
              "      <td>0</td>\n",
              "    </tr>\n",
              "    <tr>\n",
              "      <th>nr.employed</th>\n",
              "      <td>0</td>\n",
              "    </tr>\n",
              "    <tr>\n",
              "      <th>subscribed</th>\n",
              "      <td>0</td>\n",
              "    </tr>\n",
              "  </tbody>\n",
              "</table>\n",
              "</div><br><label><b>dtype:</b> int64</label>"
            ]
          },
          "metadata": {},
          "execution_count": 12
        }
      ]
    },
    {
      "cell_type": "markdown",
      "source": [
        "Data Preprocessing Starts"
      ],
      "metadata": {
        "id": "Be567d04o_oc"
      }
    },
    {
      "cell_type": "markdown",
      "source": [
        "## 🧼 Handling `'unknown'` Values with Mode Imputation\n",
        "\n",
        "We replace all `'unknown'` values in categorical columns with the **mode** (most frequent value) of that column.\n",
        "\n",
        "- This is a common and simple imputation strategy when `'unknown'` behaves like a missing value.\n",
        "- We apply it only to object (categorical) columns.\n",
        "- This helps ensure consistency and prevents introducing bias from arbitrary replacements.\n",
        "\n",
        "📌 **Why mode?**  \n",
        "Using the most frequent value preserves the existing data distribution and avoids injecting randomness.\n"
      ],
      "metadata": {
        "id": "ALoG4Gr6HciM"
      }
    },
    {
      "cell_type": "code",
      "source": [
        "# Replace 'unknown' values in object columns with mode of that column\n",
        "for col in df.select_dtypes(include='object').columns:\n",
        "    if df[col].isin(['unknown']).any():\n",
        "        mode_val = df.loc[df[col] != 'unknown', col].mode()[0]\n",
        "        df[col] = df[col].replace('unknown', mode_val)"
      ],
      "metadata": {
        "id": "q5ogWm2GG4u_"
      },
      "execution_count": 13,
      "outputs": []
    },
    {
      "cell_type": "markdown",
      "source": [
        "## ✅ Verifying Replacement of `'unknown'` Values\n",
        "\n",
        "We re-check the dataset to confirm that all `'unknown'` values have been successfully replaced.\n",
        "\n",
        "- If everything worked correctly, the result should show **zero `'unknown'` values** across all columns.\n",
        "- This validation step ensures that no disguised missing data remains before moving on to encoding or modeling.\n"
      ],
      "metadata": {
        "id": "L4TeEKsAHguc"
      }
    },
    {
      "cell_type": "code",
      "source": [
        "check_missing = df.isin(['unknown']).sum(axis=0)\n",
        "check_missing"
      ],
      "metadata": {
        "colab": {
          "base_uri": "https://localhost:8080/",
          "height": 742
        },
        "id": "C7XPtf_hG3-e",
        "outputId": "5446e554-3ca8-4f5b-9860-2642f41ad6e0"
      },
      "execution_count": 14,
      "outputs": [
        {
          "output_type": "execute_result",
          "data": {
            "text/plain": [
              "age               0\n",
              "job               0\n",
              "marital           0\n",
              "education         0\n",
              "default           0\n",
              "housing           0\n",
              "loan              0\n",
              "contact           0\n",
              "month             0\n",
              "day_of_week       0\n",
              "duration          0\n",
              "campaign          0\n",
              "pdays             0\n",
              "previous          0\n",
              "poutcome          0\n",
              "emp.var.rate      0\n",
              "cons.price.idx    0\n",
              "cons.conf.idx     0\n",
              "euribor3m         0\n",
              "nr.employed       0\n",
              "subscribed        0\n",
              "dtype: int64"
            ],
            "text/html": [
              "<div>\n",
              "<style scoped>\n",
              "    .dataframe tbody tr th:only-of-type {\n",
              "        vertical-align: middle;\n",
              "    }\n",
              "\n",
              "    .dataframe tbody tr th {\n",
              "        vertical-align: top;\n",
              "    }\n",
              "\n",
              "    .dataframe thead th {\n",
              "        text-align: right;\n",
              "    }\n",
              "</style>\n",
              "<table border=\"1\" class=\"dataframe\">\n",
              "  <thead>\n",
              "    <tr style=\"text-align: right;\">\n",
              "      <th></th>\n",
              "      <th>0</th>\n",
              "    </tr>\n",
              "  </thead>\n",
              "  <tbody>\n",
              "    <tr>\n",
              "      <th>age</th>\n",
              "      <td>0</td>\n",
              "    </tr>\n",
              "    <tr>\n",
              "      <th>job</th>\n",
              "      <td>0</td>\n",
              "    </tr>\n",
              "    <tr>\n",
              "      <th>marital</th>\n",
              "      <td>0</td>\n",
              "    </tr>\n",
              "    <tr>\n",
              "      <th>education</th>\n",
              "      <td>0</td>\n",
              "    </tr>\n",
              "    <tr>\n",
              "      <th>default</th>\n",
              "      <td>0</td>\n",
              "    </tr>\n",
              "    <tr>\n",
              "      <th>housing</th>\n",
              "      <td>0</td>\n",
              "    </tr>\n",
              "    <tr>\n",
              "      <th>loan</th>\n",
              "      <td>0</td>\n",
              "    </tr>\n",
              "    <tr>\n",
              "      <th>contact</th>\n",
              "      <td>0</td>\n",
              "    </tr>\n",
              "    <tr>\n",
              "      <th>month</th>\n",
              "      <td>0</td>\n",
              "    </tr>\n",
              "    <tr>\n",
              "      <th>day_of_week</th>\n",
              "      <td>0</td>\n",
              "    </tr>\n",
              "    <tr>\n",
              "      <th>duration</th>\n",
              "      <td>0</td>\n",
              "    </tr>\n",
              "    <tr>\n",
              "      <th>campaign</th>\n",
              "      <td>0</td>\n",
              "    </tr>\n",
              "    <tr>\n",
              "      <th>pdays</th>\n",
              "      <td>0</td>\n",
              "    </tr>\n",
              "    <tr>\n",
              "      <th>previous</th>\n",
              "      <td>0</td>\n",
              "    </tr>\n",
              "    <tr>\n",
              "      <th>poutcome</th>\n",
              "      <td>0</td>\n",
              "    </tr>\n",
              "    <tr>\n",
              "      <th>emp.var.rate</th>\n",
              "      <td>0</td>\n",
              "    </tr>\n",
              "    <tr>\n",
              "      <th>cons.price.idx</th>\n",
              "      <td>0</td>\n",
              "    </tr>\n",
              "    <tr>\n",
              "      <th>cons.conf.idx</th>\n",
              "      <td>0</td>\n",
              "    </tr>\n",
              "    <tr>\n",
              "      <th>euribor3m</th>\n",
              "      <td>0</td>\n",
              "    </tr>\n",
              "    <tr>\n",
              "      <th>nr.employed</th>\n",
              "      <td>0</td>\n",
              "    </tr>\n",
              "    <tr>\n",
              "      <th>subscribed</th>\n",
              "      <td>0</td>\n",
              "    </tr>\n",
              "  </tbody>\n",
              "</table>\n",
              "</div><br><label><b>dtype:</b> int64</label>"
            ]
          },
          "metadata": {},
          "execution_count": 14
        }
      ]
    },
    {
      "cell_type": "markdown",
      "source": [
        "## 🗑️ Dropping the `pdays` Column\n",
        "\n",
        "We remove the `pdays` column from the dataset.\n",
        "\n",
        "- This column contains many irrelevant or default-like values such as **999**, which do not carry useful information.\n",
        "- Including such noise can reduce model performance, so it's better to drop it during preprocessing.\n",
        "\n",
        "📌 **Note:** `pdays` indicates how many days passed since the client was last contacted in a previous campaign — but for most records, this value is just 999 (i.e., never contacted), making it uninformative.\n"
      ],
      "metadata": {
        "id": "1A9gi916Hu_0"
      }
    },
    {
      "cell_type": "code",
      "source": [
        "# Drop the 'pdays' column from the dataset\n",
        "df.drop(columns=['pdays'], inplace=True)\n",
        "# pdays is irrelevant, have too many null-like values (e.g., 999), and not useful for modeling. That's why it's dropped during preprocessing"
      ],
      "metadata": {
        "id": "rNgIPqc_lJ2P"
      },
      "execution_count": 15,
      "outputs": []
    },
    {
      "cell_type": "markdown",
      "source": [
        "## ✨ Cleaning Categorical Text Data\n",
        "\n",
        "We clean all object (categorical) columns by:\n",
        "\n",
        "- **Removing leading/trailing whitespaces** using `.str.strip()`.\n",
        "- **Converting all text to lowercase** using `.str.lower()`.\n",
        "\n",
        "📌 **Why this matters:**\n",
        "- This ensures consistency across categories (e.g., `\" Yes\"` and `\"yes\"` will be treated the same).\n",
        "- Cleaned data avoids unexpected issues during encoding or analysis.\n"
      ],
      "metadata": {
        "id": "ubGZcdh2HyV7"
      }
    },
    {
      "cell_type": "code",
      "source": [
        "# Clean all object columns - strip spaces and convert to lowercase\n",
        "for col in df.select_dtypes(include='object').columns:\n",
        "    df[col] = df[col].str.strip().str.lower()"
      ],
      "metadata": {
        "id": "DPXyzUaf2_Xj"
      },
      "execution_count": 16,
      "outputs": []
    },
    {
      "cell_type": "markdown",
      "source": [
        "## 🔤 Label Encoding of Categorical Features using `.map()`\n",
        "\n",
        "We perform **explicit label encoding** for each categorical column using `.map()`.\n",
        "\n",
        "- This approach is simple and effective when category values are known in advance.\n",
        "- Each unique text label is mapped to a numeric value for compatibility with machine learning models.\n",
        "\n",
        "### ✅ Feature-wise Encoding Summary:\n",
        "\n",
        "| Feature       | Encoding Type         | Example Mapping                   |\n",
        "|---------------|------------------------|-----------------------------------|\n",
        "| `job`         | Custom Index Mapping   | `'admin.' → 0`, `'student' → 8`   |\n",
        "| `marital`     | Manual Mapping         | `'married' → 0`, `'single' → 1`   |\n",
        "| `education`   | Custom Index Mapping   | `'basic.4y' → 0`, `'university.degree' → 6` |\n",
        "| `default`     | Binary Mapping         | `'yes' → 1`, `'no' → 0`           |\n",
        "| `housing`     | Binary Mapping         | `'yes' → 1`, `'no' → 0`           |\n",
        "| `loan`        | Binary Mapping         | `'yes' → 1`, `'no' → 0`           |\n",
        "| `contact`     | Manual Mapping         | `'telephone' → 0`, `'cellular' → 1` |\n",
        "| `month`       | Ordinal Mapping        | `'jan' → 0`, `'dec' → 11`         |\n",
        "| `day_of_week` | Ordinal Mapping        | `'mon' → 0`, `'fri' → 4`          |\n",
        "| `poutcome`    | Manual Mapping         | `'nonexistent' → 0`, `'success' → 2` |\n",
        "| `subscribed`  | Binary Target Mapping  | `'yes' → 1`, `'no' → 0`           |\n",
        "\n",
        "📌 **Note:**  \n",
        "- We used `.get(..., -1)` as a safe fallback in case of unexpected values.\n",
        "- This encoding step is crucial to prepare the dataset for modeling.\n"
      ],
      "metadata": {
        "id": "w6OuQrZ4H2b4"
      }
    },
    {
      "cell_type": "code",
      "source": [
        "# Encode categorical values using .map or get_dummies\n",
        "\n",
        "# Explicit mappings for categorical variables\n",
        "\n",
        "# Job Mapping\n",
        "job_list = ['admin.', 'blue-collar', 'entrepreneur', 'housemaid', 'management',\n",
        "            'retired', 'self-employed', 'services', 'student', 'technician', 'unemployed']\n",
        "job_map = {val: i for i, val in enumerate(job_list)}\n",
        "df['job'] = df['job'].map(lambda x: job_map.get(x, -1))\n",
        "\n",
        "# Marital Status\n",
        "marital_map = {'married': 0, 'single': 1, 'divorced': 2}\n",
        "df['marital'] = df['marital'].map(lambda x: marital_map.get(x, -1))\n",
        "\n",
        "# Education\n",
        "education_list = ['basic.4y', 'basic.6y', 'basic.9y', 'high.school',\n",
        "                  'illiterate', 'professional.course', 'university.degree']\n",
        "education_map = {val: i for i, val in enumerate(education_list)}\n",
        "df['education'] = df['education'].map(lambda x: education_map.get(x, -1))\n",
        "\n",
        "# Default, Housing, Loan\n",
        "binary_map = {'no': 0, 'yes': 1}\n",
        "df['default'] = df['default'].map(lambda x: binary_map.get(x, -1))\n",
        "df['housing'] = df['housing'].map(lambda x: binary_map.get(x, -1))\n",
        "df['loan'] = df['loan'].map(lambda x: binary_map.get(x, -1))\n",
        "\n",
        "# Contact\n",
        "contact_map = {'telephone': 0, 'cellular': 1}\n",
        "df['contact'] = df['contact'].map(lambda x: contact_map.get(x, -1))\n",
        "\n",
        "# Month (explicit mapping)\n",
        "month_map = {\n",
        "    'jan': 0, 'feb': 1, 'mar': 2, 'apr': 3,\n",
        "    'may': 4, 'jun': 5, 'jul': 6, 'aug': 7,\n",
        "    'sep': 8, 'oct': 9, 'nov': 10, 'dec': 11\n",
        "}\n",
        "df['month'] = df['month'].map(lambda x: month_map.get(x, -1))\n",
        "\n",
        "# Day of Week (explicit mapping)\n",
        "day_map = {'mon': 0, 'tue': 1, 'wed': 2, 'thu': 3, 'fri': 4}\n",
        "df['day_of_week'] = df['day_of_week'].map(lambda x: day_map.get(x, -1))\n",
        "\n",
        "# Poutcome\n",
        "poutcome_map = {'nonexistent': 0, 'failure': 1, 'success': 2}\n",
        "df['poutcome'] = df['poutcome'].map(lambda x: poutcome_map.get(x, -1))\n",
        "\n",
        "# Target Variable\n",
        "target_map = {'no': 0, 'yes': 1}\n",
        "df['subscribed'] = df['subscribed'].map(lambda x: target_map.get(x, -1))"
      ],
      "metadata": {
        "id": "7dU0gcCZ3B_I"
      },
      "execution_count": 17,
      "outputs": []
    },
    {
      "cell_type": "markdown",
      "source": [
        "## 🕵️‍♂️ Final Check for Missing Values After Encoding\n",
        "\n",
        "After completing the label encoding using `.map()`, we perform a final check for any missing (`NaN`) values in the dataset.\n",
        "\n",
        "- Some categories might have had unmatched labels during mapping (e.g., due to typos or unexpected values), resulting in `NaN`s.\n",
        "- We use `df.isnull().sum()` to count missing values column-wise.\n",
        "\n",
        "📌 **Why this is important:**  \n",
        "Ensures that all values have been successfully mapped and the dataset is clean before proceeding to modeling.\n"
      ],
      "metadata": {
        "id": "7TnVBt-8j1ej"
      }
    },
    {
      "cell_type": "code",
      "source": [
        "# Print missing values (if any)\n",
        "print(\"\\nMissing values after mapping:\\n\", df.isnull().sum())"
      ],
      "metadata": {
        "colab": {
          "base_uri": "https://localhost:8080/"
        },
        "id": "sCLEW0PV3egB",
        "outputId": "9b548cb2-3ce3-426e-e472-ab3b2d978c65"
      },
      "execution_count": 19,
      "outputs": [
        {
          "output_type": "stream",
          "name": "stdout",
          "text": [
            "\n",
            "Missing values after mapping:\n",
            " age               0\n",
            "job               0\n",
            "marital           0\n",
            "education         0\n",
            "default           0\n",
            "housing           0\n",
            "loan              0\n",
            "contact           0\n",
            "month             0\n",
            "day_of_week       0\n",
            "duration          0\n",
            "campaign          0\n",
            "previous          0\n",
            "poutcome          0\n",
            "emp.var.rate      0\n",
            "cons.price.idx    0\n",
            "cons.conf.idx     0\n",
            "euribor3m         0\n",
            "nr.employed       0\n",
            "subscribed        0\n",
            "dtype: int64\n"
          ]
        }
      ]
    },
    {
      "cell_type": "markdown",
      "source": [
        "## 🧾 Final Encoded Dataset Preview\n",
        "\n",
        "We display the first 5 rows of the fully preprocessed dataset using `df.head()`.\n",
        "\n",
        "By this stage:\n",
        "- All categorical columns have been label encoded.\n",
        "- `'unknown'` values have been replaced with meaningful alternatives (mode).\n",
        "- Irrelevant columns like `pdays` have been dropped.\n",
        "- All text has been standardized (stripped + lowercase).\n",
        "\n",
        "📌 **Outcome:**  \n",
        "The dataset is now clean, numeric, and ready for further steps like scaling, train-test splitting, and modeling.\n"
      ],
      "metadata": {
        "id": "hcYL5lpzj8Ag"
      }
    },
    {
      "cell_type": "code",
      "source": [
        "# Preview final DataFrame\n",
        "print(\"\\nFinal encoded data (first 5 rows):\")\n",
        "print(df.head())"
      ],
      "metadata": {
        "colab": {
          "base_uri": "https://localhost:8080/"
        },
        "id": "_ob1Lg1V2J57",
        "outputId": "5135f2a0-4aa9-4fcf-a709-43379c6bf5e4"
      },
      "execution_count": 20,
      "outputs": [
        {
          "output_type": "stream",
          "name": "stdout",
          "text": [
            "\n",
            "Final encoded data (first 5 rows):\n",
            "   age  job  marital  education  default  housing  loan  contact  month  \\\n",
            "0   56    3        0          0        0        0     0        0      4   \n",
            "1   57    7        0          3        0        0     0        0      4   \n",
            "2   37    7        0          3        0        1     0        0      4   \n",
            "3   40    0        0          1        0        0     0        0      4   \n",
            "4   56    7        0          3        0        0     1        0      4   \n",
            "\n",
            "   day_of_week  duration  campaign  previous  poutcome  emp.var.rate  \\\n",
            "0            0       261         1         0         0           1.1   \n",
            "1            0       149         1         0         0           1.1   \n",
            "2            0       226         1         0         0           1.1   \n",
            "3            0       151         1         0         0           1.1   \n",
            "4            0       307         1         0         0           1.1   \n",
            "\n",
            "   cons.price.idx  cons.conf.idx  euribor3m  nr.employed  subscribed  \n",
            "0          93.994          -36.4      4.857       5191.0           0  \n",
            "1          93.994          -36.4      4.857       5191.0           0  \n",
            "2          93.994          -36.4      4.857       5191.0           0  \n",
            "3          93.994          -36.4      4.857       5191.0           0  \n",
            "4          93.994          -36.4      4.857       5191.0           0  \n"
          ]
        }
      ]
    },
    {
      "cell_type": "markdown",
      "source": [
        "Checking for class imbalance"
      ],
      "metadata": {
        "id": "voxrhWpz4Z2V"
      }
    },
    {
      "cell_type": "markdown",
      "source": [
        "## 📊 Target Class Distribution (Subscribed)\n",
        "\n",
        "We check the number of clients who subscribed (`1`) vs. those who didn’t (`0`) using `value_counts()`.\n",
        "\n",
        "### Output:\n",
        "- **0 (Not Subscribed)**: 36,548 clients\n",
        "- **1 (Subscribed)**: 4,640 clients\n",
        "\n",
        "📌 **Insight:**  \n",
        "This shows a significant **class imbalance**, with a large majority of clients not subscribing.  \n",
        "Handling this imbalance is important before training most machine learning models, especially those sensitive to class distribution.\n"
      ],
      "metadata": {
        "id": "7yfYfqehkEEi"
      }
    },
    {
      "cell_type": "code",
      "source": [
        "# Count target values\n",
        "print(df['subscribed'].value_counts())"
      ],
      "metadata": {
        "colab": {
          "base_uri": "https://localhost:8080/"
        },
        "id": "sS4i4XLg2J1i",
        "outputId": "73530f04-cfbb-487f-8dd1-6493441354ce"
      },
      "execution_count": 21,
      "outputs": [
        {
          "output_type": "stream",
          "name": "stdout",
          "text": [
            "subscribed\n",
            "0    36548\n",
            "1     4640\n",
            "Name: count, dtype: int64\n"
          ]
        }
      ]
    },
    {
      "cell_type": "markdown",
      "source": [
        "Visualising the imbalance"
      ],
      "metadata": {
        "id": "vM9X36Mo4YmR"
      }
    },
    {
      "cell_type": "markdown",
      "source": [
        "## 📉 Visualizing Class Imbalance in Target Variable\n",
        "\n",
        "We use `seaborn.countplot()` to plot the distribution of the target variable `subscribed`.\n",
        "\n",
        "- This visually confirms what we observed numerically:\n",
        "  - A large number of clients did **not** subscribe (`0`)\n",
        "  - A much smaller number did subscribe (`1`)\n",
        "- The imbalance can affect model performance and needs to be addressed using resampling or weighted techniques.\n",
        "\n",
        "📌 **Why it's important:**  \n",
        "An imbalanced dataset can cause models to favor the majority class.  \n",
        "Proper handling (e.g., SMOTE, class weights) ensures fairer and more accurate predictions.\n"
      ],
      "metadata": {
        "id": "USKXhcJwkLX1"
      }
    },
    {
      "cell_type": "code",
      "source": [
        "import seaborn as sns\n",
        "sns.countplot(x='subscribed', data=df)"
      ],
      "metadata": {
        "colab": {
          "base_uri": "https://localhost:8080/",
          "height": 466
        },
        "id": "gvsFxjHG2Jyo",
        "outputId": "9c254c35-6ff6-4d30-b554-a4081c5137c5"
      },
      "execution_count": 22,
      "outputs": [
        {
          "output_type": "execute_result",
          "data": {
            "text/plain": [
              "<Axes: xlabel='subscribed', ylabel='count'>"
            ]
          },
          "metadata": {},
          "execution_count": 22
        },
        {
          "output_type": "display_data",
          "data": {
            "text/plain": [
              "<Figure size 640x480 with 1 Axes>"
            ],
            "image/png": "[encoded data removed]"
          },
          "metadata": {}
        }
      ]
    },
    {
      "cell_type": "markdown",
      "source": [
        "## 🔍 Final Snapshot of Preprocessed Data\n",
        "\n",
        "We display the first 5 rows using `df.head()` to verify the final structure of the dataset before moving forward.\n",
        "\n",
        "### ✅ What we observe here:\n",
        "- All features are now **numerical** and suitable for modeling.\n",
        "- Categorical columns have been **label-encoded**.\n",
        "- All missing or `'unknown'` values have been handled.\n",
        "- The target column `subscribed` is clearly labeled as `0` or `1`.\n",
        "\n",
        "📌 **Next Step:**  \n",
        "Proceed to **feature scaling**, **train-test splitting**, and model building (KNN, Decision Trees, etc.).\n"
      ],
      "metadata": {
        "id": "m-IDKnPJkSHf"
      }
    },
    {
      "cell_type": "code",
      "source": [
        "df.head()"
      ],
      "metadata": {
        "colab": {
          "base_uri": "https://localhost:8080/",
          "height": 226
        },
        "id": "NezrXOloOoS3",
        "outputId": "a35458e0-d4d0-4dd3-899c-289627158ec1"
      },
      "execution_count": 24,
      "outputs": [
        {
          "output_type": "execute_result",
          "data": {
            "text/plain": [
              "   age  job  marital  education  default  housing  loan  contact  month  \\\n",
              "0   56    3        0          0        0        0     0        0      4   \n",
              "1   57    7        0          3        0        0     0        0      4   \n",
              "2   37    7        0          3        0        1     0        0      4   \n",
              "3   40    0        0          1        0        0     0        0      4   \n",
              "4   56    7        0          3        0        0     1        0      4   \n",
              "\n",
              "   day_of_week  duration  campaign  previous  poutcome  emp.var.rate  \\\n",
              "0            0       261         1         0         0           1.1   \n",
              "1            0       149         1         0         0           1.1   \n",
              "2            0       226         1         0         0           1.1   \n",
              "3            0       151         1         0         0           1.1   \n",
              "4            0       307         1         0         0           1.1   \n",
              "\n",
              "   cons.price.idx  cons.conf.idx  euribor3m  nr.employed  subscribed  \n",
              "0          93.994          -36.4      4.857       5191.0           0  \n",
              "1          93.994          -36.4      4.857       5191.0           0  \n",
              "2          93.994          -36.4      4.857       5191.0           0  \n",
              "3          93.994          -36.4      4.857       5191.0           0  \n",
              "4          93.994          -36.4      4.857       5191.0           0  "
            ],
            "text/html": [
              "\n",
              "  <div id=\"df-3859c7e9-ad87-468c-a33d-7f49e3b7f48d\" class=\"colab-df-container\">\n",
              "    <div>\n",
              "<style scoped>\n",
              "    .dataframe tbody tr th:only-of-type {\n",
              "        vertical-align: middle;\n",
              "    }\n",
              "\n",
              "    .dataframe tbody tr th {\n",
              "        vertical-align: top;\n",
              "    }\n",
              "\n",
              "    .dataframe thead th {\n",
              "        text-align: right;\n",
              "    }\n",
              "</style>\n",
              "<table border=\"1\" class=\"dataframe\">\n",
              "  <thead>\n",
              "    <tr style=\"text-align: right;\">\n",
              "      <th></th>\n",
              "      <th>age</th>\n",
              "      <th>job</th>\n",
              "      <th>marital</th>\n",
              "      <th>education</th>\n",
              "      <th>default</th>\n",
              "      <th>housing</th>\n",
              "      <th>loan</th>\n",
              "      <th>contact</th>\n",
              "      <th>month</th>\n",
              "      <th>day_of_week</th>\n",
              "      <th>duration</th>\n",
              "      <th>campaign</th>\n",
              "      <th>previous</th>\n",
              "      <th>poutcome</th>\n",
              "      <th>emp.var.rate</th>\n",
              "      <th>cons.price.idx</th>\n",
              "      <th>cons.conf.idx</th>\n",
              "      <th>euribor3m</th>\n",
              "      <th>nr.employed</th>\n",
              "      <th>subscribed</th>\n",
              "    </tr>\n",
              "  </thead>\n",
              "  <tbody>\n",
              "    <tr>\n",
              "      <th>0</th>\n",
              "      <td>56</td>\n",
              "      <td>3</td>\n",
              "      <td>0</td>\n",
              "      <td>0</td>\n",
              "      <td>0</td>\n",
              "      <td>0</td>\n",
              "      <td>0</td>\n",
              "      <td>0</td>\n",
              "      <td>4</td>\n",
              "      <td>0</td>\n",
              "      <td>261</td>\n",
              "      <td>1</td>\n",
              "      <td>0</td>\n",
              "      <td>0</td>\n",
              "      <td>1.1</td>\n",
              "      <td>93.994</td>\n",
              "      <td>-36.4</td>\n",
              "      <td>4.857</td>\n",
              "      <td>5191.0</td>\n",
              "      <td>0</td>\n",
              "    </tr>\n",
              "    <tr>\n",
              "      <th>1</th>\n",
              "      <td>57</td>\n",
              "      <td>7</td>\n",
              "      <td>0</td>\n",
              "      <td>3</td>\n",
              "      <td>0</td>\n",
              "      <td>0</td>\n",
              "      <td>0</td>\n",
              "      <td>0</td>\n",
              "      <td>4</td>\n",
              "      <td>0</td>\n",
              "      <td>149</td>\n",
              "      <td>1</td>\n",
              "      <td>0</td>\n",
              "      <td>0</td>\n",
              "      <td>1.1</td>\n",
              "      <td>93.994</td>\n",
              "      <td>-36.4</td>\n",
              "      <td>4.857</td>\n",
              "      <td>5191.0</td>\n",
              "      <td>0</td>\n",
              "    </tr>\n",
              "    <tr>\n",
              "      <th>2</th>\n",
              "      <td>37</td>\n",
              "      <td>7</td>\n",
              "      <td>0</td>\n",
              "      <td>3</td>\n",
              "      <td>0</td>\n",
              "      <td>1</td>\n",
              "      <td>0</td>\n",
              "      <td>0</td>\n",
              "      <td>4</td>\n",
              "      <td>0</td>\n",
              "      <td>226</td>\n",
              "      <td>1</td>\n",
              "      <td>0</td>\n",
              "      <td>0</td>\n",
              "      <td>1.1</td>\n",
              "      <td>93.994</td>\n",
              "      <td>-36.4</td>\n",
              "      <td>4.857</td>\n",
              "      <td>5191.0</td>\n",
              "      <td>0</td>\n",
              "    </tr>\n",
              "    <tr>\n",
              "      <th>3</th>\n",
              "      <td>40</td>\n",
              "      <td>0</td>\n",
              "      <td>0</td>\n",
              "      <td>1</td>\n",
              "      <td>0</td>\n",
              "      <td>0</td>\n",
              "      <td>0</td>\n",
              "      <td>0</td>\n",
              "      <td>4</td>\n",
              "      <td>0</td>\n",
              "      <td>151</td>\n",
              "      <td>1</td>\n",
              "      <td>0</td>\n",
              "      <td>0</td>\n",
              "      <td>1.1</td>\n",
              "      <td>93.994</td>\n",
              "      <td>-36.4</td>\n",
              "      <td>4.857</td>\n",
              "      <td>5191.0</td>\n",
              "      <td>0</td>\n",
              "    </tr>\n",
              "    <tr>\n",
              "      <th>4</th>\n",
              "      <td>56</td>\n",
              "      <td>7</td>\n",
              "      <td>0</td>\n",
              "      <td>3</td>\n",
              "      <td>0</td>\n",
              "      <td>0</td>\n",
              "      <td>1</td>\n",
              "      <td>0</td>\n",
              "      <td>4</td>\n",
              "      <td>0</td>\n",
              "      <td>307</td>\n",
              "      <td>1</td>\n",
              "      <td>0</td>\n",
              "      <td>0</td>\n",
              "      <td>1.1</td>\n",
              "      <td>93.994</td>\n",
              "      <td>-36.4</td>\n",
              "      <td>4.857</td>\n",
              "      <td>5191.0</td>\n",
              "      <td>0</td>\n",
              "    </tr>\n",
              "  </tbody>\n",
              "</table>\n",
              "</div>\n",
              "    <div class=\"colab-df-buttons\">\n",
              "\n",
              "  <div class=\"colab-df-container\">\n",
              "    <button class=\"colab-df-convert\" onclick=\"convertToInteractive('df-3859c7e9-ad87-468c-a33d-7f49e3b7f48d')\"\n",
              "            title=\"Convert this dataframe to an interactive table.\"\n",
              "            style=\"display:none;\">\n",
              "\n",
              "  <svg xmlns=\"http://www.w3.org/2000/svg\" height=\"24px\" viewBox=\"0 -960 960 960\">\n",
              "    <path d=\"M120-120v-720h720v720H120Zm60-500h600v-160H180v160Zm220 220h160v-160H400v160Zm0 220h160v-160H400v160ZM180-400h160v-160H180v160Zm440 0h160v-160H620v160ZM180-180h160v-160H180v160Zm440 0h160v-160H620v160Z\"/>\n",
              "  </svg>\n",
              "    </button>\n",
              "\n",
              "  <style>\n",
              "    .colab-df-container {\n",
              "      display:flex;\n",
              "      gap: 12px;\n",
              "    }\n",
              "\n",
              "    .colab-df-convert {\n",
              "      background-color: #E8F0FE;\n",
              "      border: none;\n",
              "      border-radius: 50%;\n",
              "      cursor: pointer;\n",
              "      display: none;\n",
              "      fill: #1967D2;\n",
              "      height: 32px;\n",
              "      padding: 0 0 0 0;\n",
              "      width: 32px;\n",
              "    }\n",
              "\n",
              "    .colab-df-convert:hover {\n",
              "      background-color: #E2EBFA;\n",
              "      box-shadow: 0px 1px 2px rgba(60, 64, 67, 0.3), 0px 1px 3px 1px rgba(60, 64, 67, 0.15);\n",
              "      fill: #174EA6;\n",
              "    }\n",
              "\n",
              "    .colab-df-buttons div {\n",
              "      margin-bottom: 4px;\n",
              "    }\n",
              "\n",
              "    [theme=dark] .colab-df-convert {\n",
              "      background-color: #3B4455;\n",
              "      fill: #D2E3FC;\n",
              "    }\n",
              "\n",
              "    [theme=dark] .colab-df-convert:hover {\n",
              "      background-color: #434B5C;\n",
              "      box-shadow: 0px 1px 3px 1px rgba(0, 0, 0, 0.15);\n",
              "      filter: drop-shadow(0px 1px 2px rgba(0, 0, 0, 0.3));\n",
              "      fill: #FFFFFF;\n",
              "    }\n",
              "  </style>\n",
              "\n",
              "    <script>\n",
              "      const buttonEl =\n",
              "        document.querySelector('#df-3859c7e9-ad87-468c-a33d-7f49e3b7f48d button.colab-df-convert');\n",
              "      buttonEl.style.display =\n",
              "        google.colab.kernel.accessAllowed ? 'block' : 'none';\n",
              "\n",
              "      async function convertToInteractive(key) {\n",
              "        const element = document.querySelector('#df-3859c7e9-ad87-468c-a33d-7f49e3b7f48d');\n",
              "        const dataTable =\n",
              "          await google.colab.kernel.invokeFunction('convertToInteractive',\n",
              "                                                    [key], {});\n",
              "        if (!dataTable) return;\n",
              "\n",
              "        const docLinkHtml = 'Like what you see? Visit the ' +\n",
              "          '<a target=\"_blank\" href=https://colab.research.google.com/notebooks/data_table.ipynb>data table notebook</a>'\n",
              "          + ' to learn more about interactive tables.';\n",
              "        element.innerHTML = '';\n",
              "        dataTable['output_type'] = 'display_data';\n",
              "        await google.colab.output.renderOutput(dataTable, element);\n",
              "        const docLink = document.createElement('div');\n",
              "        docLink.innerHTML = docLinkHtml;\n",
              "        element.appendChild(docLink);\n",
              "      }\n",
              "    </script>\n",
              "  </div>\n",
              "\n",
              "\n",
              "    <div id=\"df-7fa88afb-c3e8-45b2-8362-f30445640b29\">\n",
              "      <button class=\"colab-df-quickchart\" onclick=\"quickchart('df-7fa88afb-c3e8-45b2-8362-f30445640b29')\"\n",
              "                title=\"Suggest charts\"\n",
              "                style=\"display:none;\">\n",
              "\n",
              "<svg xmlns=\"http://www.w3.org/2000/svg\" height=\"24px\"viewBox=\"0 0 24 24\"\n",
              "     width=\"24px\">\n",
              "    <g>\n",
              "        <path d=\"M19 3H5c-1.1 0-2 .9-2 2v14c0 1.1.9 2 2 2h14c1.1 0 2-.9 2-2V5c0-1.1-.9-2-2-2zM9 17H7v-7h2v7zm4 0h-2V7h2v10zm4 0h-2v-4h2v4z\"/>\n",
              "    </g>\n",
              "</svg>\n",
              "      </button>\n",
              "\n",
              "<style>\n",
              "  .colab-df-quickchart {\n",
              "      --bg-color: #E8F0FE;\n",
              "      --fill-color: #1967D2;\n",
              "      --hover-bg-color: #E2EBFA;\n",
              "      --hover-fill-color: #174EA6;\n",
              "      --disabled-fill-color: #AAA;\n",
              "      --disabled-bg-color: #DDD;\n",
              "  }\n",
              "\n",
              "  [theme=dark] .colab-df-quickchart {\n",
              "      --bg-color: #3B4455;\n",
              "      --fill-color: #D2E3FC;\n",
              "      --hover-bg-color: #434B5C;\n",
              "      --hover-fill-color: #FFFFFF;\n",
              "      --disabled-bg-color: #3B4455;\n",
              "      --disabled-fill-color: #666;\n",
              "  }\n",
              "\n",
              "  .colab-df-quickchart {\n",
              "    background-color: var(--bg-color);\n",
              "    border: none;\n",
              "    border-radius: 50%;\n",
              "    cursor: pointer;\n",
              "    display: none;\n",
              "    fill: var(--fill-color);\n",
              "    height: 32px;\n",
              "    padding: 0;\n",
              "    width: 32px;\n",
              "  }\n",
              "\n",
              "  .colab-df-quickchart:hover {\n",
              "    background-color: var(--hover-bg-color);\n",
              "    box-shadow: 0 1px 2px rgba(60, 64, 67, 0.3), 0 1px 3px 1px rgba(60, 64, 67, 0.15);\n",
              "    fill: var(--button-hover-fill-color);\n",
              "  }\n",
              "\n",
              "  .colab-df-quickchart-complete:disabled,\n",
              "  .colab-df-quickchart-complete:disabled:hover {\n",
              "    background-color: var(--disabled-bg-color);\n",
              "    fill: var(--disabled-fill-color);\n",
              "    box-shadow: none;\n",
              "  }\n",
              "\n",
              "  .colab-df-spinner {\n",
              "    border: 2px solid var(--fill-color);\n",
              "    border-color: transparent;\n",
              "    border-bottom-color: var(--fill-color);\n",
              "    animation:\n",
              "      spin 1s steps(1) infinite;\n",
              "  }\n",
              "\n",
              "  @keyframes spin {\n",
              "    0% {\n",
              "      border-color: transparent;\n",
              "      border-bottom-color: var(--fill-color);\n",
              "      border-left-color: var(--fill-color);\n",
              "    }\n",
              "    20% {\n",
              "      border-color: transparent;\n",
              "      border-left-color: var(--fill-color);\n",
              "      border-top-color: var(--fill-color);\n",
              "    }\n",
              "    30% {\n",
              "      border-color: transparent;\n",
              "      border-left-color: var(--fill-color);\n",
              "      border-top-color: var(--fill-color);\n",
              "      border-right-color: var(--fill-color);\n",
              "    }\n",
              "    40% {\n",
              "      border-color: transparent;\n",
              "      border-right-color: var(--fill-color);\n",
              "      border-top-color: var(--fill-color);\n",
              "    }\n",
              "    60% {\n",
              "      border-color: transparent;\n",
              "      border-right-color: var(--fill-color);\n",
              "    }\n",
              "    80% {\n",
              "      border-color: transparent;\n",
              "      border-right-color: var(--fill-color);\n",
              "      border-bottom-color: var(--fill-color);\n",
              "    }\n",
              "    90% {\n",
              "      border-color: transparent;\n",
              "      border-bottom-color: var(--fill-color);\n",
              "    }\n",
              "  }\n",
              "</style>\n",
              "\n",
              "      <script>\n",
              "        async function quickchart(key) {\n",
              "          const quickchartButtonEl =\n",
              "            document.querySelector('#' + key + ' button');\n",
              "          quickchartButtonEl.disabled = true;  // To prevent multiple clicks.\n",
              "          quickchartButtonEl.classList.add('colab-df-spinner');\n",
              "          try {\n",
              "            const charts = await google.colab.kernel.invokeFunction(\n",
              "                'suggestCharts', [key], {});\n",
              "          } catch (error) {\n",
              "            console.error('Error during call to suggestCharts:', error);\n",
              "          }\n",
              "          quickchartButtonEl.classList.remove('colab-df-spinner');\n",
              "          quickchartButtonEl.classList.add('colab-df-quickchart-complete');\n",
              "        }\n",
              "        (() => {\n",
              "          let quickchartButtonEl =\n",
              "            document.querySelector('#df-7fa88afb-c3e8-45b2-8362-f30445640b29 button');\n",
              "          quickchartButtonEl.style.display =\n",
              "            google.colab.kernel.accessAllowed ? 'block' : 'none';\n",
              "        })();\n",
              "      </script>\n",
              "    </div>\n",
              "\n",
              "    </div>\n",
              "  </div>\n"
            ],
            "application/vnd.google.colaboratory.intrinsic+json": {
              "type": "dataframe",
              "variable_name": "df",
              "summary": "{\n  \"name\": \"df\",\n  \"rows\": 41188,\n  \"fields\": [\n    {\n      \"column\": \"age\",\n      \"properties\": {\n        \"dtype\": \"number\",\n        \"std\": 10,\n        \"min\": 17,\n        \"max\": 98,\n        \"num_unique_values\": 78,\n        \"samples\": [\n          36,\n          56,\n          28\n        ],\n        \"semantic_type\": \"\",\n        \"description\": \"\"\n      }\n    },\n    {\n      \"column\": \"job\",\n      \"properties\": {\n        \"dtype\": \"number\",\n        \"std\": 3,\n        \"min\": 0,\n        \"max\": 10,\n        \"num_unique_values\": 11,\n        \"samples\": [\n          5,\n          3,\n          2\n        ],\n        \"semantic_type\": \"\",\n        \"description\": \"\"\n      }\n    },\n    {\n      \"column\": \"marital\",\n      \"properties\": {\n        \"dtype\": \"number\",\n        \"std\": 0,\n        \"min\": 0,\n        \"max\": 2,\n        \"num_unique_values\": 3,\n        \"samples\": [\n          0,\n          1,\n          2\n        ],\n        \"semantic_type\": \"\",\n        \"description\": \"\"\n      }\n    },\n    {\n      \"column\": \"education\",\n      \"properties\": {\n        \"dtype\": \"number\",\n        \"std\": 2,\n        \"min\": 0,\n        \"max\": 6,\n        \"num_unique_values\": 7,\n        \"samples\": [\n          0,\n          3,\n          6\n        ],\n        \"semantic_type\": \"\",\n        \"description\": \"\"\n      }\n    },\n    {\n      \"column\": \"default\",\n      \"properties\": {\n        \"dtype\": \"number\",\n        \"std\": 0,\n        \"min\": 0,\n        \"max\": 1,\n        \"num_unique_values\": 2,\n        \"samples\": [\n          1,\n          0\n        ],\n        \"semantic_type\": \"\",\n        \"description\": \"\"\n      }\n    },\n    {\n      \"column\": \"housing\",\n      \"properties\": {\n        \"dtype\": \"number\",\n        \"std\": 0,\n        \"min\": 0,\n        \"max\": 1,\n        \"num_unique_values\": 2,\n        \"samples\": [\n          1,\n          0\n        ],\n        \"semantic_type\": \"\",\n        \"description\": \"\"\n      }\n    },\n    {\n      \"column\": \"loan\",\n      \"properties\": {\n        \"dtype\": \"number\",\n        \"std\": 0,\n        \"min\": 0,\n        \"max\": 1,\n        \"num_unique_values\": 2,\n        \"samples\": [\n          1,\n          0\n        ],\n        \"semantic_type\": \"\",\n        \"description\": \"\"\n      }\n    },\n    {\n      \"column\": \"contact\",\n      \"properties\": {\n        \"dtype\": \"number\",\n        \"std\": 0,\n        \"min\": 0,\n        \"max\": 1,\n        \"num_unique_values\": 2,\n        \"samples\": [\n          1,\n          0\n        ],\n        \"semantic_type\": \"\",\n        \"description\": \"\"\n      }\n    },\n    {\n      \"column\": \"month\",\n      \"properties\": {\n        \"dtype\": \"number\",\n        \"std\": 2,\n        \"min\": 2,\n        \"max\": 11,\n        \"num_unique_values\": 10,\n        \"samples\": [\n          3,\n          5\n        ],\n        \"semantic_type\": \"\",\n        \"description\": \"\"\n      }\n    },\n    {\n      \"column\": \"day_of_week\",\n      \"properties\": {\n        \"dtype\": \"number\",\n        \"std\": 1,\n        \"min\": 0,\n        \"max\": 4,\n        \"num_unique_values\": 5,\n        \"samples\": [\n          1,\n          4\n        ],\n        \"semantic_type\": \"\",\n        \"description\": \"\"\n      }\n    },\n    {\n      \"column\": \"duration\",\n      \"properties\": {\n        \"dtype\": \"number\",\n        \"std\": 259,\n        \"min\": 0,\n        \"max\": 4918,\n        \"num_unique_values\": 1544,\n        \"samples\": [\n          1805,\n          335\n        ],\n        \"semantic_type\": \"\",\n        \"description\": \"\"\n      }\n    },\n    {\n      \"column\": \"campaign\",\n      \"properties\": {\n        \"dtype\": \"number\",\n        \"std\": 2,\n        \"min\": 1,\n        \"max\": 56,\n        \"num_unique_values\": 42,\n        \"samples\": [\n          35,\n          19\n        ],\n        \"semantic_type\": \"\",\n        \"description\": \"\"\n      }\n    },\n    {\n      \"column\": \"previous\",\n      \"properties\": {\n        \"dtype\": \"number\",\n        \"std\": 0,\n        \"min\": 0,\n        \"max\": 7,\n        \"num_unique_values\": 8,\n        \"samples\": [\n          1,\n          5\n        ],\n        \"semantic_type\": \"\",\n        \"description\": \"\"\n      }\n    },\n    {\n      \"column\": \"poutcome\",\n      \"properties\": {\n        \"dtype\": \"number\",\n        \"std\": 0,\n        \"min\": 0,\n        \"max\": 2,\n        \"num_unique_values\": 3,\n        \"samples\": [\n          0,\n          1\n        ],\n        \"semantic_type\": \"\",\n        \"description\": \"\"\n      }\n    },\n    {\n      \"column\": \"emp.var.rate\",\n      \"properties\": {\n        \"dtype\": \"number\",\n        \"std\": 1.5709597405172309,\n        \"min\": -3.4,\n        \"max\": 1.4,\n        \"num_unique_values\": 10,\n        \"samples\": [\n          -1.7,\n          1.4\n        ],\n        \"semantic_type\": \"\",\n        \"description\": \"\"\n      }\n    },\n    {\n      \"column\": \"cons.price.idx\",\n      \"properties\": {\n        \"dtype\": \"number\",\n        \"std\": 0.5788400489541813,\n        \"min\": 92.201,\n        \"max\": 94.767,\n        \"num_unique_values\": 26,\n        \"samples\": [\n          93.075,\n          92.713\n        ],\n        \"semantic_type\": \"\",\n        \"description\": \"\"\n      }\n    },\n    {\n      \"column\": \"cons.conf.idx\",\n      \"properties\": {\n        \"dtype\": \"number\",\n        \"std\": 4.628197856174375,\n        \"min\": -50.8,\n        \"max\": -26.9,\n        \"num_unique_values\": 26,\n        \"samples\": [\n          -47.1,\n          -33.0\n        ],\n        \"semantic_type\": \"\",\n        \"description\": \"\"\n      }\n    },\n    {\n      \"column\": \"euribor3m\",\n      \"properties\": {\n        \"dtype\": \"number\",\n        \"std\": 1.7344474048511707,\n        \"min\": 0.634,\n        \"max\": 5.045,\n        \"num_unique_values\": 316,\n        \"samples\": [\n          0.766,\n          4.76\n        ],\n        \"semantic_type\": \"\",\n        \"description\": \"\"\n      }\n    },\n    {\n      \"column\": \"nr.employed\",\n      \"properties\": {\n        \"dtype\": \"number\",\n        \"std\": 72.25152766826527,\n        \"min\": 4963.6,\n        \"max\": 5228.1,\n        \"num_unique_values\": 11,\n        \"samples\": [\n          5076.2,\n          5191.0\n        ],\n        \"semantic_type\": \"\",\n        \"description\": \"\"\n      }\n    },\n    {\n      \"column\": \"subscribed\",\n      \"properties\": {\n        \"dtype\": \"number\",\n        \"std\": 0,\n        \"min\": 0,\n        \"max\": 1,\n        \"num_unique_values\": 2,\n        \"samples\": [\n          1,\n          0\n        ],\n        \"semantic_type\": \"\",\n        \"description\": \"\"\n      }\n    }\n  ]\n}"
            }
          },
          "metadata": {},
          "execution_count": 24
        }
      ]
    },
    {
      "cell_type": "markdown",
      "source": [
        "Splitting"
      ],
      "metadata": {
        "id": "g7Qugb9NCfww"
      }
    },
    {
      "cell_type": "markdown",
      "source": [
        "## ✂️ Train-Test Split Setup\n",
        "\n",
        "We import `train_test_split` from `sklearn.model_selection` to split our dataset into training and testing sets.\n",
        "\n",
        "📌 **Why we do this:**\n",
        "- To evaluate our model’s performance on **unseen data**.\n",
        "- It helps prevent overfitting and ensures generalization.\n"
      ],
      "metadata": {
        "id": "gXxT5DKgkW_M"
      }
    },
    {
      "cell_type": "code",
      "source": [
        "from sklearn.model_selection import train_test_split"
      ],
      "metadata": {
        "id": "Nfmvgik3QjU3"
      },
      "execution_count": 25,
      "outputs": []
    },
    {
      "cell_type": "markdown",
      "source": [
        "## 🎯 Separating Features and Target\n",
        "\n",
        "We split the dataset into:\n",
        "\n",
        "- `X` → **Independent features** (all columns except `subscribed`)\n",
        "- `y` → **Target variable** (`subscribed` column)\n",
        "\n",
        "📌 **Purpose:**  \n",
        "This separation is essential before performing train-test split and model training.\n"
      ],
      "metadata": {
        "id": "AFSPfA4tkZHj"
      }
    },
    {
      "cell_type": "code",
      "source": [
        "# Splitting into features(X) and target(y)\n",
        "X=df.drop('subscribed', axis=1)\n",
        "y=df['subscribed']"
      ],
      "metadata": {
        "id": "I4rXG5uhBu1m"
      },
      "execution_count": 26,
      "outputs": []
    },
    {
      "cell_type": "markdown",
      "source": [
        "## ✂️ Stratified Train-Test Split\n",
        "\n",
        "We split the dataset into **training** and **testing** sets using `train_test_split()` with **stratification**:\n",
        "\n",
        "- `test_size=0.2` → 20% of the data goes to the test set.\n",
        "- `stratify=y` → Ensures that the **class distribution of the target variable** (`subscribed`) is preserved in both the training and testing sets.\n",
        "- `random_state=42` → Ensures reproducibility of the split.\n",
        "\n",
        "📌 **Why Stratified Split?**  \n",
        "Especially important in imbalanced datasets, so that both the train and test sets reflect the same class proportions as the original data.\n"
      ],
      "metadata": {
        "id": "dIFBdoLIkjU9"
      }
    },
    {
      "cell_type": "code",
      "source": [
        "# Perform stratified split to preserve class ratio\n",
        "X_train, X_test, y_train, y_test = train_test_split(\n",
        "    X, y, test_size=0.2, stratify=y, random_state=42\n",
        ")"
      ],
      "metadata": {
        "id": "molx9EWXBuqb"
      },
      "execution_count": 27,
      "outputs": []
    },
    {
      "cell_type": "markdown",
      "source": [
        "Handling Imbalance with SMOTE"
      ],
      "metadata": {
        "id": "xrAU9wwUCicQ"
      }
    },
    {
      "cell_type": "markdown",
      "source": [
        "## ⚖️ Balancing the Dataset with SMOTE\n",
        "\n",
        "We use **SMOTE (Synthetic Minority Over-sampling Technique)** to resolve the **class imbalance** in our training dataset.\n",
        "\n",
        "### 💡 What SMOTE does:\n",
        "- Generates **synthetic examples** of the minority class (`subscribed = 1`) by interpolating between existing observations.\n",
        "- Helps models learn better from underrepresented classes, avoiding bias toward the majority class.\n",
        "\n",
        "### 🛠️ Code Breakdown:\n"
      ],
      "metadata": {
        "id": "FATyDB5JlDOw"
      }
    },
    {
      "cell_type": "code",
      "source": [
        "from imblearn.over_sampling import SMOTE\n",
        "\n",
        "# Apply SMOTE on training data only\n",
        "smote = SMOTE(random_state=42)\n",
        "X_train_resampled, y_train_resampled = smote.fit_resample(X_train, y_train)\n",
        "\n",
        "# Optional: Check new class balance\n",
        "print(\"Before SMOTE:\", y_train.value_counts())\n",
        "print(\"After SMOTE:\", y_train_resampled.value_counts())"
      ],
      "metadata": {
        "id": "UG797MLtQt3l",
        "colab": {
          "base_uri": "https://localhost:8080/"
        },
        "outputId": "d2608d31-4095-406b-9308-0562e4abc887"
      },
      "execution_count": 28,
      "outputs": [
        {
          "output_type": "stream",
          "name": "stdout",
          "text": [
            "Before SMOTE: subscribed\n",
            "0    29238\n",
            "1     3712\n",
            "Name: count, dtype: int64\n",
            "After SMOTE: subscribed\n",
            "0    29238\n",
            "1    29238\n",
            "Name: count, dtype: int64\n"
          ]
        }
      ]
    },
    {
      "cell_type": "markdown",
      "source": [
        "📌 Why this matters:\n",
        "Balancing classes is essential before model training, especially for classification algorithms like KNN, Decision Trees, etc., which can be biased toward the majority class."
      ],
      "metadata": {
        "id": "F6k8YOt8mafa"
      }
    },
    {
      "cell_type": "markdown",
      "source": [
        "Feature Scaling"
      ],
      "metadata": {
        "id": "dVO6GHV3Cvbc"
      }
    },
    {
      "cell_type": "markdown",
      "source": [
        "## 🧮 Feature Scaling with StandardScaler\n",
        "\n",
        "To ensure all features are on the same scale, we apply **StandardScaler**. This standardizes each feature to have a **mean of 0** and a **standard deviation of 1**.\n",
        "\n",
        "📌 **Key Practice:**\n",
        "- The scaler is fit **only on the training data** to prevent data leakage.\n",
        "- The same fitted scaler is then used to transform both the training and testing features.\n",
        "\n",
        "This step is especially important for distance-based algorithms like **K-Nearest Neighbors**.\n"
      ],
      "metadata": {
        "id": "K16ggDDlmkJg"
      }
    },
    {
      "cell_type": "code",
      "source": [
        "from sklearn.preprocessing import StandardScaler\n",
        "\n",
        "scaler = StandardScaler()\n",
        "\n",
        "# Fit only on training data, then transform both\n",
        "X_train_scaled = scaler.fit_transform(X_train_resampled)\n",
        "X_test_scaled = scaler.transform(X_test)"
      ],
      "metadata": {
        "id": "5w7Oi5_xCrgg"
      },
      "execution_count": 29,
      "outputs": []
    },
    {
      "cell_type": "markdown",
      "source": [
        "## 📊 Importing Evaluation Metric: Confusion Matrix\n",
        "\n",
        "We import `confusion_matrix` from `sklearn.metrics` to evaluate our model’s predictions.\n",
        "\n",
        "📌 **What is a Confusion Matrix?**\n",
        "It is a summary table used for classification problems that shows:\n",
        "\n",
        "- **True Positives (TP)**: Correctly predicted positives\n",
        "- **True Negatives (TN)**: Correctly predicted negatives\n",
        "- **False Positives (FP)**: Incorrectly predicted positives\n",
        "- **False Negatives (FN)**: Incorrectly predicted negatives\n",
        "\n",
        "It helps derive other key metrics like **precision**, **recall**, and **F1 score**, giving a deeper understanding of classification performance.\n"
      ],
      "metadata": {
        "id": "HFFs-sPBm296"
      }
    },
    {
      "cell_type": "code",
      "source": [
        "from sklearn.metrics import confusion_matrix"
      ],
      "metadata": {
        "id": "-xkA246YRBhW"
      },
      "execution_count": 30,
      "outputs": []
    },
    {
      "cell_type": "markdown",
      "source": [
        "## 🧠 Importing KNN Classifier and Evaluation Tools\n",
        "\n",
        "We now import the necessary components for training and evaluating the **K-Nearest Neighbors (KNN)** model:\n",
        "\n",
        "- `KNeighborsClassifier`: The KNN algorithm from `sklearn`\n",
        "- `matplotlib.pyplot` and `seaborn`: For plotting error rates and visual insights\n",
        "- Evaluation metrics from `sklearn.metrics`:\n",
        "  - `accuracy_score`: Overall correctness of the model\n",
        "  - `precision_score`: Accuracy of positive predictions\n",
        "  - `recall_score`: Ability to find all positive instances\n",
        "  - `f1_score`: Balance between precision and recall\n",
        "\n",
        "📌 **Why KNN?**\n",
        "KNN is a simple and powerful **non-parametric** algorithm that makes predictions based on the **majority class of nearest neighbors**.\n"
      ],
      "metadata": {
        "id": "BP3aI1T1m-o-"
      }
    },
    {
      "cell_type": "code",
      "source": [
        "from sklearn.neighbors import KNeighborsClassifier\n",
        "import matplotlib.pyplot as plt\n",
        "import seaborn as sns\n",
        "from sklearn.metrics import accuracy_score, f1_score, precision_score, recall_score"
      ],
      "metadata": {
        "id": "kMuIQMZPRN6s"
      },
      "execution_count": 31,
      "outputs": []
    },
    {
      "cell_type": "markdown",
      "source": [
        "## 📉 Finding the Optimal K (Number of Neighbors)\n",
        "\n",
        "We test **K values from 1 to 19** to find the optimal number of neighbors (`k`) for our **KNN model**.\n",
        "\n",
        "🔍 **Process:**\n",
        "- For each `k`, we:\n",
        "  - Train the model on resampled and scaled training data.\n",
        "  - Predict on the scaled test data.\n",
        "  - Calculate the **error rate** (1 - accuracy).\n",
        "\n",
        "✅ The goal is to select the value of `k` that **minimizes the error rate**, leading to better generalization on unseen data.\n",
        "\n",
        "📌 This is a **manual hyperparameter tuning** approach before applying automated methods like `GridSearchCV`.\n"
      ],
      "metadata": {
        "id": "6sP_vBnXnGnS"
      }
    },
    {
      "cell_type": "code",
      "source": [
        "error_rate = []\n",
        "for i in range(1,20):\n",
        " knn = KNeighborsClassifier(n_neighbors=i)\n",
        " knn.fit(X_train_scaled,y_train_resampled)\n",
        " pred_i = knn.predict(X_test_scaled)\n",
        " #print (pred_i)\n",
        " #print (1-accuracy_score(y_test, pred_i))\n",
        "\n",
        " # Error = 1-Accuracy\n",
        " error=accuracy_score(y_test, pred_i)\n",
        " error_rate.append(1-accuracy_score(y_test, pred_i))"
      ],
      "metadata": {
        "id": "dVMWEx3xRdux"
      },
      "execution_count": 32,
      "outputs": []
    },
    {
      "cell_type": "markdown",
      "source": [
        "## 📊 Visualizing K vs. Error Rate\n",
        "\n",
        "We plot the **error rate** for K values from 1 to 19 to visualize how the model performance changes with different neighbor counts.\n",
        "\n",
        "🧠 **Insights from the Plot:**\n",
        "- A high error rate at very low or very high K can indicate **overfitting or underfitting**.\n",
        "- The **K with minimum error** is considered optimal for our KNN model.\n",
        "\n",
        "✅ The graph helps choose the most balanced K that minimizes error while maintaining generalization.\n"
      ],
      "metadata": {
        "id": "VqN47iLxnKGz"
      }
    },
    {
      "cell_type": "code",
      "source": [
        "# Plotting the error\n",
        "plt.figure(figsize=(10,6))\n",
        "plt.plot(range(1,20),error_rate,color='blue', linestyle='dashed',\n",
        "         marker='o',markerfacecolor='red', markersize=10)\n",
        "plt.title('Error Rate vs. K Value (K = 1 - 20)')\n",
        "plt.xlabel('K (No. of Neighbours)')\n",
        "plt.ylabel('Error Rate')\n",
        "plt.xticks(range(1,20))\n",
        "plt.grid(True)\n",
        "plt.show()\n",
        "print(\"Minimum error:-\",min(error_rate),\"at K =\",error_rate.index(min(error_rate))+1)"
      ],
      "metadata": {
        "colab": {
          "base_uri": "https://localhost:8080/",
          "height": 581
        },
        "id": "zf1fm3CYS0-U",
        "outputId": "f79834d5-702e-4a70-b608-edf942b65718"
      },
      "execution_count": 33,
      "outputs": [
        {
          "output_type": "display_data",
          "data": {
            "text/plain": [
              "<Figure size 1000x600 with 1 Axes>"
            ],
            "image/png": "[encoded data removed]"
          },
          "metadata": {}
        },
        {
          "output_type": "stream",
          "name": "stdout",
          "text": [
            "Minimum error:- 0.1190823015294975 at K = 2\n"
          ]
        }
      ]
    },
    {
      "cell_type": "markdown",
      "source": [
        "## ✅ Optimal K Value Identified\n",
        "\n",
        "🔍 After evaluating K values from 1 to 19, we found that:\n",
        "\n",
        "📉 **Minimum Error Rate**: `0.1191`  \n",
        "🏆 **Optimal K**: `2`\n",
        "\n",
        "This means that the **KNN model with K=2** gives the best balance between bias and variance on our test data, minimizing prediction errors.\n"
      ],
      "metadata": {
        "id": "bVSH4fUPnVHq"
      }
    },
    {
      "cell_type": "markdown",
      "source": [
        "________________________________________________________________"
      ],
      "metadata": {
        "id": "wDFVa-xgnU5v"
      }
    },
    {
      "cell_type": "markdown",
      "source": [
        "## 🧠 Training the Final KNN Model\n",
        "\n",
        "After identifying the optimal number of neighbors (**K = 2**), we now train the **final K-Nearest Neighbors (KNN)** model on the **resampled and scaled training data**.\n",
        "\n",
        "📌 KNN is a **lazy learning algorithm**, meaning it stores the entire training dataset and makes predictions by looking at the closest `k` neighbors in the feature space.\n",
        "\n",
        "This trained model will now be used for making predictions on the test set and evaluating its real-world performance.\n"
      ],
      "metadata": {
        "id": "H2CKIZBonv3B"
      }
    },
    {
      "cell_type": "code",
      "source": [
        "knn_best = KNeighborsClassifier(n_neighbors=2)\n",
        "knn_best.fit(X_train_scaled, y_train_resampled)"
      ],
      "metadata": {
        "id": "tphGfaFvUtP-",
        "colab": {
          "base_uri": "https://localhost:8080/",
          "height": 80
        },
        "outputId": "34028764-c104-49b6-d1d2-beb06f96836e"
      },
      "execution_count": 34,
      "outputs": [
        {
          "output_type": "execute_result",
          "data": {
            "text/plain": [
              "KNeighborsClassifier(n_neighbors=2)"
            ],
            "text/html": [
              "<style>#sk-container-id-1 {\n",
              "  /* Definition of color scheme common for light and dark mode */\n",
              "  --sklearn-color-text: #000;\n",
              "  --sklearn-color-text-muted: #666;\n",
              "  --sklearn-color-line: gray;\n",
              "  /* Definition of color scheme for unfitted estimators */\n",
              "  --sklearn-color-unfitted-level-0: #fff5e6;\n",
              "  --sklearn-color-unfitted-level-1: #f6e4d2;\n",
              "  --sklearn-color-unfitted-level-2: #ffe0b3;\n",
              "  --sklearn-color-unfitted-level-3: chocolate;\n",
              "  /* Definition of color scheme for fitted estimators */\n",
              "  --sklearn-color-fitted-level-0: #f0f8ff;\n",
              "  --sklearn-color-fitted-level-1: #d4ebff;\n",
              "  --sklearn-color-fitted-level-2: #b3dbfd;\n",
              "  --sklearn-color-fitted-level-3: cornflowerblue;\n",
              "\n",
              "  /* Specific color for light theme */\n",
              "  --sklearn-color-text-on-default-background: var(--sg-text-color, var(--theme-code-foreground, var(--jp-content-font-color1, black)));\n",
              "  --sklearn-color-background: var(--sg-background-color, var(--theme-background, var(--jp-layout-color0, white)));\n",
              "  --sklearn-color-border-box: var(--sg-text-color, var(--theme-code-foreground, var(--jp-content-font-color1, black)));\n",
              "  --sklearn-color-icon: #696969;\n",
              "\n",
              "  @media (prefers-color-scheme: dark) {\n",
              "    /* Redefinition of color scheme for dark theme */\n",
              "    --sklearn-color-text-on-default-background: var(--sg-text-color, var(--theme-code-foreground, var(--jp-content-font-color1, white)));\n",
              "    --sklearn-color-background: var(--sg-background-color, var(--theme-background, var(--jp-layout-color0, #111)));\n",
              "    --sklearn-color-border-box: var(--sg-text-color, var(--theme-code-foreground, var(--jp-content-font-color1, white)));\n",
              "    --sklearn-color-icon: #878787;\n",
              "  }\n",
              "}\n",
              "\n",
              "#sk-container-id-1 {\n",
              "  color: var(--sklearn-color-text);\n",
              "}\n",
              "\n",
              "#sk-container-id-1 pre {\n",
              "  padding: 0;\n",
              "}\n",
              "\n",
              "#sk-container-id-1 input.sk-hidden--visually {\n",
              "  border: 0;\n",
              "  clip: rect(1px 1px 1px 1px);\n",
              "  clip: rect(1px, 1px, 1px, 1px);\n",
              "  height: 1px;\n",
              "  margin: -1px;\n",
              "  overflow: hidden;\n",
              "  padding: 0;\n",
              "  position: absolute;\n",
              "  width: 1px;\n",
              "}\n",
              "\n",
              "#sk-container-id-1 div.sk-dashed-wrapped {\n",
              "  border: 1px dashed var(--sklearn-color-line);\n",
              "  margin: 0 0.4em 0.5em 0.4em;\n",
              "  box-sizing: border-box;\n",
              "  padding-bottom: 0.4em;\n",
              "  background-color: var(--sklearn-color-background);\n",
              "}\n",
              "\n",
              "#sk-container-id-1 div.sk-container {\n",
              "  /* jupyter's `normalize.less` sets `[hidden] { display: none; }`\n",
              "     but bootstrap.min.css set `[hidden] { display: none !important; }`\n",
              "     so we also need the `!important` here to be able to override the\n",
              "     default hidden behavior on the sphinx rendered scikit-learn.org.\n",
              "     See: https://github.com/scikit-learn/scikit-learn/issues/21755 */\n",
              "  display: inline-block !important;\n",
              "  position: relative;\n",
              "}\n",
              "\n",
              "#sk-container-id-1 div.sk-text-repr-fallback {\n",
              "  display: none;\n",
              "}\n",
              "\n",
              "div.sk-parallel-item,\n",
              "div.sk-serial,\n",
              "div.sk-item {\n",
              "  /* draw centered vertical line to link estimators */\n",
              "  background-image: linear-gradient(var(--sklearn-color-text-on-default-background), var(--sklearn-color-text-on-default-background));\n",
              "  background-size: 2px 100%;\n",
              "  background-repeat: no-repeat;\n",
              "  background-position: center center;\n",
              "}\n",
              "\n",
              "/* Parallel-specific style estimator block */\n",
              "\n",
              "#sk-container-id-1 div.sk-parallel-item::after {\n",
              "  content: \"\";\n",
              "  width: 100%;\n",
              "  border-bottom: 2px solid var(--sklearn-color-text-on-default-background);\n",
              "  flex-grow: 1;\n",
              "}\n",
              "\n",
              "#sk-container-id-1 div.sk-parallel {\n",
              "  display: flex;\n",
              "  align-items: stretch;\n",
              "  justify-content: center;\n",
              "  background-color: var(--sklearn-color-background);\n",
              "  position: relative;\n",
              "}\n",
              "\n",
              "#sk-container-id-1 div.sk-parallel-item {\n",
              "  display: flex;\n",
              "  flex-direction: column;\n",
              "}\n",
              "\n",
              "#sk-container-id-1 div.sk-parallel-item:first-child::after {\n",
              "  align-self: flex-end;\n",
              "  width: 50%;\n",
              "}\n",
              "\n",
              "#sk-container-id-1 div.sk-parallel-item:last-child::after {\n",
              "  align-self: flex-start;\n",
              "  width: 50%;\n",
              "}\n",
              "\n",
              "#sk-container-id-1 div.sk-parallel-item:only-child::after {\n",
              "  width: 0;\n",
              "}\n",
              "\n",
              "/* Serial-specific style estimator block */\n",
              "\n",
              "#sk-container-id-1 div.sk-serial {\n",
              "  display: flex;\n",
              "  flex-direction: column;\n",
              "  align-items: center;\n",
              "  background-color: var(--sklearn-color-background);\n",
              "  padding-right: 1em;\n",
              "  padding-left: 1em;\n",
              "}\n",
              "\n",
              "\n",
              "/* Toggleable style: style used for estimator/Pipeline/ColumnTransformer box that is\n",
              "clickable and can be expanded/collapsed.\n",
              "- Pipeline and ColumnTransformer use this feature and define the default style\n",
              "- Estimators will overwrite some part of the style using the `sk-estimator` class\n",
              "*/\n",
              "\n",
              "/* Pipeline and ColumnTransformer style (default) */\n",
              "\n",
              "#sk-container-id-1 div.sk-toggleable {\n",
              "  /* Default theme specific background. It is overwritten whether we have a\n",
              "  specific estimator or a Pipeline/ColumnTransformer */\n",
              "  background-color: var(--sklearn-color-background);\n",
              "}\n",
              "\n",
              "/* Toggleable label */\n",
              "#sk-container-id-1 label.sk-toggleable__label {\n",
              "  cursor: pointer;\n",
              "  display: flex;\n",
              "  width: 100%;\n",
              "  margin-bottom: 0;\n",
              "  padding: 0.5em;\n",
              "  box-sizing: border-box;\n",
              "  text-align: center;\n",
              "  align-items: start;\n",
              "  justify-content: space-between;\n",
              "  gap: 0.5em;\n",
              "}\n",
              "\n",
              "#sk-container-id-1 label.sk-toggleable__label .caption {\n",
              "  font-size: 0.6rem;\n",
              "  font-weight: lighter;\n",
              "  color: var(--sklearn-color-text-muted);\n",
              "}\n",
              "\n",
              "#sk-container-id-1 label.sk-toggleable__label-arrow:before {\n",
              "  /* Arrow on the left of the label */\n",
              "  content: \"▸\";\n",
              "  float: left;\n",
              "  margin-right: 0.25em;\n",
              "  color: var(--sklearn-color-icon);\n",
              "}\n",
              "\n",
              "#sk-container-id-1 label.sk-toggleable__label-arrow:hover:before {\n",
              "  color: var(--sklearn-color-text);\n",
              "}\n",
              "\n",
              "/* Toggleable content - dropdown */\n",
              "\n",
              "#sk-container-id-1 div.sk-toggleable__content {\n",
              "  max-height: 0;\n",
              "  max-width: 0;\n",
              "  overflow: hidden;\n",
              "  text-align: left;\n",
              "  /* unfitted */\n",
              "  background-color: var(--sklearn-color-unfitted-level-0);\n",
              "}\n",
              "\n",
              "#sk-container-id-1 div.sk-toggleable__content.fitted {\n",
              "  /* fitted */\n",
              "  background-color: var(--sklearn-color-fitted-level-0);\n",
              "}\n",
              "\n",
              "#sk-container-id-1 div.sk-toggleable__content pre {\n",
              "  margin: 0.2em;\n",
              "  border-radius: 0.25em;\n",
              "  color: var(--sklearn-color-text);\n",
              "  /* unfitted */\n",
              "  background-color: var(--sklearn-color-unfitted-level-0);\n",
              "}\n",
              "\n",
              "#sk-container-id-1 div.sk-toggleable__content.fitted pre {\n",
              "  /* unfitted */\n",
              "  background-color: var(--sklearn-color-fitted-level-0);\n",
              "}\n",
              "\n",
              "#sk-container-id-1 input.sk-toggleable__control:checked~div.sk-toggleable__content {\n",
              "  /* Expand drop-down */\n",
              "  max-height: 200px;\n",
              "  max-width: 100%;\n",
              "  overflow: auto;\n",
              "}\n",
              "\n",
              "#sk-container-id-1 input.sk-toggleable__control:checked~label.sk-toggleable__label-arrow:before {\n",
              "  content: \"▾\";\n",
              "}\n",
              "\n",
              "/* Pipeline/ColumnTransformer-specific style */\n",
              "\n",
              "#sk-container-id-1 div.sk-label input.sk-toggleable__control:checked~label.sk-toggleable__label {\n",
              "  color: var(--sklearn-color-text);\n",
              "  background-color: var(--sklearn-color-unfitted-level-2);\n",
              "}\n",
              "\n",
              "#sk-container-id-1 div.sk-label.fitted input.sk-toggleable__control:checked~label.sk-toggleable__label {\n",
              "  background-color: var(--sklearn-color-fitted-level-2);\n",
              "}\n",
              "\n",
              "/* Estimator-specific style */\n",
              "\n",
              "/* Colorize estimator box */\n",
              "#sk-container-id-1 div.sk-estimator input.sk-toggleable__control:checked~label.sk-toggleable__label {\n",
              "  /* unfitted */\n",
              "  background-color: var(--sklearn-color-unfitted-level-2);\n",
              "}\n",
              "\n",
              "#sk-container-id-1 div.sk-estimator.fitted input.sk-toggleable__control:checked~label.sk-toggleable__label {\n",
              "  /* fitted */\n",
              "  background-color: var(--sklearn-color-fitted-level-2);\n",
              "}\n",
              "\n",
              "#sk-container-id-1 div.sk-label label.sk-toggleable__label,\n",
              "#sk-container-id-1 div.sk-label label {\n",
              "  /* The background is the default theme color */\n",
              "  color: var(--sklearn-color-text-on-default-background);\n",
              "}\n",
              "\n",
              "/* On hover, darken the color of the background */\n",
              "#sk-container-id-1 div.sk-label:hover label.sk-toggleable__label {\n",
              "  color: var(--sklearn-color-text);\n",
              "  background-color: var(--sklearn-color-unfitted-level-2);\n",
              "}\n",
              "\n",
              "/* Label box, darken color on hover, fitted */\n",
              "#sk-container-id-1 div.sk-label.fitted:hover label.sk-toggleable__label.fitted {\n",
              "  color: var(--sklearn-color-text);\n",
              "  background-color: var(--sklearn-color-fitted-level-2);\n",
              "}\n",
              "\n",
              "/* Estimator label */\n",
              "\n",
              "#sk-container-id-1 div.sk-label label {\n",
              "  font-family: monospace;\n",
              "  font-weight: bold;\n",
              "  display: inline-block;\n",
              "  line-height: 1.2em;\n",
              "}\n",
              "\n",
              "#sk-container-id-1 div.sk-label-container {\n",
              "  text-align: center;\n",
              "}\n",
              "\n",
              "/* Estimator-specific */\n",
              "#sk-container-id-1 div.sk-estimator {\n",
              "  font-family: monospace;\n",
              "  border: 1px dotted var(--sklearn-color-border-box);\n",
              "  border-radius: 0.25em;\n",
              "  box-sizing: border-box;\n",
              "  margin-bottom: 0.5em;\n",
              "  /* unfitted */\n",
              "  background-color: var(--sklearn-color-unfitted-level-0);\n",
              "}\n",
              "\n",
              "#sk-container-id-1 div.sk-estimator.fitted {\n",
              "  /* fitted */\n",
              "  background-color: var(--sklearn-color-fitted-level-0);\n",
              "}\n",
              "\n",
              "/* on hover */\n",
              "#sk-container-id-1 div.sk-estimator:hover {\n",
              "  /* unfitted */\n",
              "  background-color: var(--sklearn-color-unfitted-level-2);\n",
              "}\n",
              "\n",
              "#sk-container-id-1 div.sk-estimator.fitted:hover {\n",
              "  /* fitted */\n",
              "  background-color: var(--sklearn-color-fitted-level-2);\n",
              "}\n",
              "\n",
              "/* Specification for estimator info (e.g. \"i\" and \"?\") */\n",
              "\n",
              "/* Common style for \"i\" and \"?\" */\n",
              "\n",
              ".sk-estimator-doc-link,\n",
              "a:link.sk-estimator-doc-link,\n",
              "a:visited.sk-estimator-doc-link {\n",
              "  float: right;\n",
              "  font-size: smaller;\n",
              "  line-height: 1em;\n",
              "  font-family: monospace;\n",
              "  background-color: var(--sklearn-color-background);\n",
              "  border-radius: 1em;\n",
              "  height: 1em;\n",
              "  width: 1em;\n",
              "  text-decoration: none !important;\n",
              "  margin-left: 0.5em;\n",
              "  text-align: center;\n",
              "  /* unfitted */\n",
              "  border: var(--sklearn-color-unfitted-level-1) 1pt solid;\n",
              "  color: var(--sklearn-color-unfitted-level-1);\n",
              "}\n",
              "\n",
              ".sk-estimator-doc-link.fitted,\n",
              "a:link.sk-estimator-doc-link.fitted,\n",
              "a:visited.sk-estimator-doc-link.fitted {\n",
              "  /* fitted */\n",
              "  border: var(--sklearn-color-fitted-level-1) 1pt solid;\n",
              "  color: var(--sklearn-color-fitted-level-1);\n",
              "}\n",
              "\n",
              "/* On hover */\n",
              "div.sk-estimator:hover .sk-estimator-doc-link:hover,\n",
              ".sk-estimator-doc-link:hover,\n",
              "div.sk-label-container:hover .sk-estimator-doc-link:hover,\n",
              ".sk-estimator-doc-link:hover {\n",
              "  /* unfitted */\n",
              "  background-color: var(--sklearn-color-unfitted-level-3);\n",
              "  color: var(--sklearn-color-background);\n",
              "  text-decoration: none;\n",
              "}\n",
              "\n",
              "div.sk-estimator.fitted:hover .sk-estimator-doc-link.fitted:hover,\n",
              ".sk-estimator-doc-link.fitted:hover,\n",
              "div.sk-label-container:hover .sk-estimator-doc-link.fitted:hover,\n",
              ".sk-estimator-doc-link.fitted:hover {\n",
              "  /* fitted */\n",
              "  background-color: var(--sklearn-color-fitted-level-3);\n",
              "  color: var(--sklearn-color-background);\n",
              "  text-decoration: none;\n",
              "}\n",
              "\n",
              "/* Span, style for the box shown on hovering the info icon */\n",
              ".sk-estimator-doc-link span {\n",
              "  display: none;\n",
              "  z-index: 9999;\n",
              "  position: relative;\n",
              "  font-weight: normal;\n",
              "  right: .2ex;\n",
              "  padding: .5ex;\n",
              "  margin: .5ex;\n",
              "  width: min-content;\n",
              "  min-width: 20ex;\n",
              "  max-width: 50ex;\n",
              "  color: var(--sklearn-color-text);\n",
              "  box-shadow: 2pt 2pt 4pt #999;\n",
              "  /* unfitted */\n",
              "  background: var(--sklearn-color-unfitted-level-0);\n",
              "  border: .5pt solid var(--sklearn-color-unfitted-level-3);\n",
              "}\n",
              "\n",
              ".sk-estimator-doc-link.fitted span {\n",
              "  /* fitted */\n",
              "  background: var(--sklearn-color-fitted-level-0);\n",
              "  border: var(--sklearn-color-fitted-level-3);\n",
              "}\n",
              "\n",
              ".sk-estimator-doc-link:hover span {\n",
              "  display: block;\n",
              "}\n",
              "\n",
              "/* \"?\"-specific style due to the `<a>` HTML tag */\n",
              "\n",
              "#sk-container-id-1 a.estimator_doc_link {\n",
              "  float: right;\n",
              "  font-size: 1rem;\n",
              "  line-height: 1em;\n",
              "  font-family: monospace;\n",
              "  background-color: var(--sklearn-color-background);\n",
              "  border-radius: 1rem;\n",
              "  height: 1rem;\n",
              "  width: 1rem;\n",
              "  text-decoration: none;\n",
              "  /* unfitted */\n",
              "  color: var(--sklearn-color-unfitted-level-1);\n",
              "  border: var(--sklearn-color-unfitted-level-1) 1pt solid;\n",
              "}\n",
              "\n",
              "#sk-container-id-1 a.estimator_doc_link.fitted {\n",
              "  /* fitted */\n",
              "  border: var(--sklearn-color-fitted-level-1) 1pt solid;\n",
              "  color: var(--sklearn-color-fitted-level-1);\n",
              "}\n",
              "\n",
              "/* On hover */\n",
              "#sk-container-id-1 a.estimator_doc_link:hover {\n",
              "  /* unfitted */\n",
              "  background-color: var(--sklearn-color-unfitted-level-3);\n",
              "  color: var(--sklearn-color-background);\n",
              "  text-decoration: none;\n",
              "}\n",
              "\n",
              "#sk-container-id-1 a.estimator_doc_link.fitted:hover {\n",
              "  /* fitted */\n",
              "  background-color: var(--sklearn-color-fitted-level-3);\n",
              "}\n",
              "</style><div id=\"sk-container-id-1\" class=\"sk-top-container\"><div class=\"sk-text-repr-fallback\"><pre>KNeighborsClassifier(n_neighbors=2)</pre><b>In a Jupyter environment, please rerun this cell to show the HTML representation or trust the notebook. <br />On GitHub, the HTML representation is unable to render, please try loading this page with nbviewer.org.</b></div><div class=\"sk-container\" hidden><div class=\"sk-item\"><div class=\"sk-estimator fitted sk-toggleable\"><input class=\"sk-toggleable__control sk-hidden--visually\" id=\"sk-estimator-id-1\" type=\"checkbox\" checked><label for=\"sk-estimator-id-1\" class=\"sk-toggleable__label fitted sk-toggleable__label-arrow\"><div><div>KNeighborsClassifier</div></div><div><a class=\"sk-estimator-doc-link fitted\" rel=\"noreferrer\" target=\"_blank\" href=\"https://scikit-learn.org/1.6/modules/generated/sklearn.neighbors.KNeighborsClassifier.html\">?<span>Documentation for KNeighborsClassifier</span></a><span class=\"sk-estimator-doc-link fitted\">i<span>Fitted</span></span></div></label><div class=\"sk-toggleable__content fitted\"><pre>KNeighborsClassifier(n_neighbors=2)</pre></div> </div></div></div></div>"
            ]
          },
          "metadata": {},
          "execution_count": 34
        }
      ]
    },
    {
      "cell_type": "markdown",
      "source": [
        "## 📊 Evaluating KNN Model Performance\n",
        "\n",
        "Once predictions are made using the test set, we evaluate the model using the following metrics:\n",
        "\n",
        "- ✅ **Accuracy**: Overall correctness of the model's predictions\n",
        "- 📉 **Confusion Matrix**: Shows correct and incorrect classifications for each class (0 = not subscribed, 1 = subscribed)\n",
        "- 📋 **Classification Report**: Displays precision, recall, F1-score, and support for each class\n",
        "\n",
        "These metrics provide a comprehensive understanding of how well our KNN model generalizes to unseen data.\n"
      ],
      "metadata": {
        "id": "Fj9KjNXjnyMF"
      }
    },
    {
      "cell_type": "code",
      "source": [
        "from sklearn.metrics import classification_report, confusion_matrix, accuracy_score\n",
        "\n",
        "y_pred = knn_best.predict(X_test_scaled)\n",
        "\n",
        "print(\"Accuracy:\", accuracy_score(y_test, y_pred))\n",
        "print(\"\\nConfusion Matrix:\\n\", confusion_matrix(y_test, y_pred))\n",
        "print(\"\\nClassification Report:\\n\", classification_report(y_test, y_pred))"
      ],
      "metadata": {
        "colab": {
          "base_uri": "https://localhost:8080/"
        },
        "id": "okr54yIqFtQp",
        "outputId": "30088b84-509b-465d-e67d-212347865153"
      },
      "execution_count": 35,
      "outputs": [
        {
          "output_type": "stream",
          "name": "stdout",
          "text": [
            "Accuracy: 0.8809176984705025\n",
            "\n",
            "Confusion Matrix:\n",
            " [[6783  527]\n",
            " [ 454  474]]\n",
            "\n",
            "Classification Report:\n",
            "               precision    recall  f1-score   support\n",
            "\n",
            "           0       0.94      0.93      0.93      7310\n",
            "           1       0.47      0.51      0.49       928\n",
            "\n",
            "    accuracy                           0.88      8238\n",
            "   macro avg       0.71      0.72      0.71      8238\n",
            "weighted avg       0.89      0.88      0.88      8238\n",
            "\n"
          ]
        }
      ]
    },
    {
      "cell_type": "markdown",
      "source": [
        "## 📈 KNN Model Evaluation Results\n",
        "\n",
        "After training the KNN model with the optimal `k=2`, we evaluated its performance on the test set. Here's a summary of the results:\n",
        "\n",
        "- ✅ **Accuracy**: 88.09% — the model correctly predicted ~88% of all test samples.\n",
        "- 📊 **Confusion Matrix**:\n",
        "  - True Negatives (TN): 6783\n",
        "  - False Positives (FP): 527\n",
        "  - False Negatives (FN): 454\n",
        "  - True Positives (TP): 474\n",
        "\n",
        "- 🔍 **Class-wise Performance**:\n",
        "  - **Class 0 (Not Subscribed)**:\n",
        "    - Precision: 0.94\n",
        "    - Recall: 0.93\n",
        "    - F1-Score: 0.93\n",
        "  - **Class 1 (Subscribed)**:\n",
        "    - Precision: 0.47\n",
        "    - Recall: 0.51\n",
        "    - F1-Score: 0.49\n",
        "\n",
        "🧠 **Insight**:  \n",
        "While the model performs very well in identifying non-subscribers (majority class), the performance for identifying actual subscribers is modest. This is expected due to class imbalance — even after applying SMOTE, it remains a challenge for simpler models like KNN.\n"
      ],
      "metadata": {
        "id": "5RArtKRnoAiu"
      }
    },
    {
      "cell_type": "markdown",
      "source": [
        "_______________________________________________"
      ],
      "metadata": {
        "id": "2Xu6p9QAoAZn"
      }
    },
    {
      "cell_type": "markdown",
      "source": [
        "## 🧩 Visualizing the Confusion Matrix (KNN)\n",
        "\n",
        "To better understand the KNN model’s predictions, we visualize the **confusion matrix** using `ConfusionMatrixDisplay`.\n",
        "\n",
        "🧾 The matrix shows:\n",
        "- **True Negatives (TN)**: Correctly predicted non-subscribers\n",
        "- **False Positives (FP)**: Predicted as subscribed but actually not\n",
        "- **False Negatives (FN)**: Predicted as not subscribed but actually subscribed\n",
        "- **True Positives (TP)**: Correctly predicted subscribers\n",
        "\n",
        "🔵 The blue color intensity reflects the concentration of predictions.  \n",
        "This visualization helps assess where the model performs well and where it misclassifies.\n"
      ],
      "metadata": {
        "id": "FjUr6OfsoFGB"
      }
    },
    {
      "cell_type": "code",
      "source": [
        "from sklearn.metrics import ConfusionMatrixDisplay\n",
        "\n",
        "# Predict on test data\n",
        "y_pred = knn_best.predict(X_test_scaled)\n",
        "\n",
        "# Plot the confusion matrix\n",
        "disp = ConfusionMatrixDisplay.from_estimator(\n",
        "    knn_best, X_test_scaled, y_test,\n",
        "    display_labels=['Not Subscribed', 'Subscribed'],\n",
        "    cmap='Blues',\n",
        "    values_format='d'\n",
        ")\n",
        "\n",
        "plt.title(\"Confusion Matrix (KNN, k=2)\")\n",
        "plt.grid(False)\n",
        "plt.show()\n"
      ],
      "metadata": {
        "colab": {
          "base_uri": "https://localhost:8080/",
          "height": 472
        },
        "id": "_N08znr5FwHX",
        "outputId": "e78d492e-8392-474a-f7f2-0c2588d87b83"
      },
      "execution_count": 36,
      "outputs": [
        {
          "output_type": "display_data",
          "data": {
            "text/plain": [
              "<Figure size 640x480 with 2 Axes>"
            ],
            "image/png": "[encoded data removed]"
          },
          "metadata": {}
        }
      ]
    },
    {
      "cell_type": "markdown",
      "source": [
        "## 🔁 Cross-Validation for Robust Accuracy\n",
        "\n",
        "To ensure our KNN model with `k=2` generalizes well, we perform **5-fold cross-validation** on the resampled and scaled training data.\n",
        "\n",
        "📌 **Why Cross-Validation?**\n",
        "It helps us avoid overfitting and gives a more reliable estimate of model performance by:\n",
        "- Splitting the training data into 5 parts (folds)\n",
        "- Training on 4 parts and validating on the 5th\n",
        "- Repeating the process 5 times\n",
        "\n",
        "📈 We then calculate:\n",
        "- **Accuracy for each fold**\n",
        "- **Mean Accuracy** (average model performance)\n",
        "- **Standard Deviation** (variability across folds)\n",
        "\n",
        "This gives a more **stable and trustworthy evaluation** than a single train/test split.\n"
      ],
      "metadata": {
        "id": "lY5wci_ToQmV"
      }
    },
    {
      "cell_type": "code",
      "source": [
        "from sklearn.model_selection import cross_val_score\n",
        "\n",
        "# Recreate the KNN model with best k\n",
        "knn_cv = KNeighborsClassifier(n_neighbors=2)\n",
        "\n",
        "# 5-fold cross-validation on full (resampled + scaled) training data\n",
        "cv_scores = cross_val_score(knn_cv, X_train_scaled, y_train_resampled, cv=5, scoring='accuracy')\n",
        "\n",
        "# Results\n",
        "print(\"Cross-Validation Scores (5 folds):\", cv_scores)\n",
        "print(\"Mean Accuracy:\", cv_scores.mean())\n",
        "print(\"Standard Deviation:\", cv_scores.std())\n"
      ],
      "metadata": {
        "colab": {
          "base_uri": "https://localhost:8080/"
        },
        "id": "tgRrCxaXGLbV",
        "outputId": "5067fc94-b2ed-4f30-e33f-3c26f740e498"
      },
      "execution_count": 37,
      "outputs": [
        {
          "output_type": "stream",
          "name": "stdout",
          "text": [
            "Cross-Validation Scores (5 folds): [0.83609781 0.91586148 0.91423685 0.91286875 0.91440787]\n",
            "Mean Accuracy: 0.8986945515551736\n",
            "Standard Deviation: 0.031312727600644664\n"
          ]
        }
      ]
    },
    {
      "cell_type": "markdown",
      "source": [
        "## 📉 ROC Curve & AUC Score (KNN)\n",
        "\n",
        "To evaluate the KNN model's ability to distinguish between classes, we use the **Receiver Operating Characteristic (ROC) curve**.\n",
        "\n",
        "### 📌 Key Concepts:\n",
        "- **True Positive Rate (TPR)** = Sensitivity / Recall\n",
        "- **False Positive Rate (FPR)** = 1 - Specificity\n",
        "- The **AUC (Area Under Curve)** score summarizes model performance:\n",
        "  - Closer to 1.0 → better\n",
        "  - Closer to 0.5 → no better than random guessing\n",
        "\n",
        "📈 The ROC curve shows how the TPR varies with FPR at different classification thresholds.\n",
        "\n",
        "In this case, we plot the ROC curve using the predicted probabilities of the KNN model, and compute the AUC to quantify the performance.\n"
      ],
      "metadata": {
        "id": "XUziyIIToZvQ"
      }
    },
    {
      "cell_type": "code",
      "source": [
        "from sklearn.metrics import roc_curve, roc_auc_score\n",
        "\n",
        "# Get predicted probabilities (for positive class only)\n",
        "y_proba = knn_best.predict_proba(X_test_scaled)[:, 1]\n",
        "\n",
        "# Compute ROC curve\n",
        "fpr, tpr, thresholds = roc_curve(y_test, y_proba)\n",
        "auc_score = roc_auc_score(y_test, y_proba)\n",
        "\n",
        "# Plot ROC Curve\n",
        "plt.figure(figsize=(7, 5))\n",
        "plt.plot(fpr, tpr, color='blue', label=f'KNN (AUC = {auc_score:.2f})')\n",
        "plt.plot([0, 1], [0, 1], color='gray', linestyle='--')  # Random model line\n",
        "plt.title('ROC Curve (KNN)')\n",
        "plt.xlabel('False Positive Rate')\n",
        "plt.ylabel('True Positive Rate')\n",
        "plt.legend()\n",
        "plt.grid(True)\n",
        "plt.show()\n"
      ],
      "metadata": {
        "colab": {
          "base_uri": "https://localhost:8080/",
          "height": 487
        },
        "id": "Ox_pJpOqGRsn",
        "outputId": "b462a996-ed68-45ca-a11d-da00496bdc6c"
      },
      "execution_count": 38,
      "outputs": [
        {
          "output_type": "display_data",
          "data": {
            "text/plain": [
              "<Figure size 700x500 with 1 Axes>"
            ],
            "image/png": "[encoded data removed]"
          },
          "metadata": {}
        }
      ]
    },
    {
      "cell_type": "markdown",
      "source": [
        "## 📋 Precision, Recall, F1 & Accuracy – KNN Evaluation\n",
        "\n",
        "To dive deeper into our KNN model’s performance, we compute the following metrics:\n",
        "\n",
        "- 🎯 **Accuracy**: Proportion of total correct predictions\n",
        "- 🎯 **Precision**: Out of all predicted positives, how many were actually positive?\n",
        "  - Useful when **false positives** are costly\n",
        "- 🎯 **Recall (Sensitivity)**: Out of all actual positives, how many were correctly predicted?\n",
        "  - Important when **missing positives** is risky\n",
        "- 🎯 **F1 Score**: Harmonic mean of Precision and Recall\n",
        "  - A balanced metric when you want to weigh both equally\n",
        "\n",
        "These metrics help us evaluate not just how often the model is right, but **how well it handles the minority class** (subscribed clients).\n"
      ],
      "metadata": {
        "id": "Ok1g0LJ6omBn"
      }
    },
    {
      "cell_type": "code",
      "source": [
        "from sklearn.metrics import precision_score, recall_score, f1_score\n",
        "\n",
        "precision = precision_score(y_test, y_pred)\n",
        "recall = recall_score(y_test, y_pred)\n",
        "f1 = f1_score(y_test, y_pred)\n",
        "acc=accuracy_score(y_test, y_pred)\n",
        "\n",
        "print(f\"🎯 Accuracy: {acc:.4f}\")\n",
        "print(f\"🎯 Precision: {precision:.4f}\")\n",
        "print(f\"🎯 Recall:    {recall:.4f}\")\n",
        "print(f\"🎯 F1 Score:  {f1:.4f}\")"
      ],
      "metadata": {
        "colab": {
          "base_uri": "https://localhost:8080/"
        },
        "id": "eIcvxf6RGtuN",
        "outputId": "412cc35c-d511-40b8-cf3b-86892b8ccd60"
      },
      "execution_count": 39,
      "outputs": [
        {
          "output_type": "stream",
          "name": "stdout",
          "text": [
            "🎯 Accuracy: 0.8809\n",
            "🎯 Precision: 0.4735\n",
            "🎯 Recall:    0.5108\n",
            "🎯 F1 Score:  0.4914\n"
          ]
        }
      ]
    },
    {
      "cell_type": "markdown",
      "source": [
        "## 🔍 Hyperparameter Tuning with GridSearchCV (KNN)\n",
        "\n",
        "To optimize our KNN model, we use **GridSearchCV** to search for the best number of neighbors (`k`) that gives the highest accuracy.\n",
        "\n",
        "### 🛠️ How it works:\n",
        "- Tries every value of `k` from 1 to 20\n",
        "- Uses **5-fold cross-validation** on training data\n",
        "- Selects the `k` with the **best cross-validation accuracy**\n",
        "\n",
        "📈 This method ensures we choose the most suitable `k` value, balancing **bias vs. variance**, and improving model generalization.\n",
        "\n",
        "✅ Best `k` found: **1**  \n",
        "✅ Best Cross-Validation Accuracy: **0.9116**\n"
      ],
      "metadata": {
        "id": "87GkfMCloxv1"
      }
    },
    {
      "cell_type": "code",
      "source": [
        "from sklearn.model_selection import GridSearchCV\n",
        "from sklearn.neighbors import KNeighborsClassifier\n",
        "\n",
        "# Define KNN model\n",
        "knn = KNeighborsClassifier()\n",
        "\n",
        "# Define range of k values to try\n",
        "param_grid = {'n_neighbors': list(range(1, 21))}\n",
        "\n",
        "# Setup GridSearch with 5-fold cross-validation\n",
        "grid = GridSearchCV(knn, param_grid, cv=5, scoring='accuracy', n_jobs=-1)\n",
        "\n",
        "# Fit on training data\n",
        "grid.fit(X_train_scaled, y_train_resampled)\n",
        "\n",
        "# Best k and accuracy\n",
        "print(f\"✅ Best k: {grid.best_params_['n_neighbors']}\")\n",
        "print(f\"✅ Best Cross-Validation Accuracy: {grid.best_score_:.4f}\")\n"
      ],
      "metadata": {
        "colab": {
          "base_uri": "https://localhost:8080/"
        },
        "id": "PWWaAX4AGzpR",
        "outputId": "5ffe4c03-963f-4e9c-e8b1-0db1367bf862"
      },
      "execution_count": 40,
      "outputs": [
        {
          "output_type": "stream",
          "name": "stdout",
          "text": [
            "✅ Best k: 1\n",
            "✅ Best Cross-Validation Accuracy: 0.9116\n"
          ]
        }
      ]
    },
    {
      "cell_type": "markdown",
      "source": [
        "Successfully run a proper hyperparameter tuning pipepline - GridSearchCV.\n",
        "On average, 91.16% accuracy across CV folds — solid performance!"
      ],
      "metadata": {
        "id": "qnoSlZ7QKQ7p"
      }
    },
    {
      "cell_type": "markdown",
      "source": [
        "✅ What I Do Now (Final Evaluation)\n",
        "Now that I have the best KNN model (with k=1), the following final steps are:"
      ],
      "metadata": {
        "id": "8v4wqz-MKg25"
      }
    },
    {
      "cell_type": "markdown",
      "source": [
        "## ✅ Final KNN Model Prediction Using Best Parameters\n",
        "\n",
        "After identifying the optimal value of `k` using GridSearchCV, we now use the **best KNN model** (`best_estimator_`) to make predictions on the test data.\n",
        "\n",
        "✔️ This ensures that:\n",
        "- We leverage the most accurate version of our KNN model\n",
        "- The predictions reflect the benefit of cross-validated hyperparameter tuning\n",
        "\n",
        "We then proceed to evaluate these predictions using classification metrics like accuracy, precision, recall, and F1 score.\n"
      ],
      "metadata": {
        "id": "_kAcuMiMo2vh"
      }
    },
    {
      "cell_type": "code",
      "source": [
        "# Use the best model selected by GridSearch\n",
        "best_knn = grid.best_estimator_\n",
        "y_pred = best_knn.predict(X_test_scaled)\n"
      ],
      "metadata": {
        "id": "etkwUzE9KQsx"
      },
      "execution_count": 41,
      "outputs": []
    },
    {
      "cell_type": "markdown",
      "source": [
        "## 📈 Final Metrics – KNN Model on Test Set\n",
        "\n",
        "After tuning and training our KNN model with the best `k`, we evaluate it on the **original test set**.\n",
        "\n",
        "### 🧪 Key Results:\n",
        "- 🎯 **Accuracy**: 86.34% – overall correctness of predictions\n",
        "- 🎯 **Precision**: 42.75% – of all predicted \"subscribed\" clients, only ~43% were actually subscribed\n",
        "- 🎯 **Recall**: 62.60% – model successfully identified ~63% of actual subscribed clients\n",
        "- 🎯 **F1 Score**: 50.81% – balances precision and recall\n",
        "\n",
        "### 🧾 Additional Report:\n",
        "- Class `0` (Not Subscribed): very high precision and recall (model is confident)\n",
        "- Class `1` (Subscribed): lower precision, but acceptable recall\n",
        "- **Macro Avg** treats both classes equally\n",
        "- **Weighted Avg** adjusts for imbalance (majority class dominates)\n",
        "\n",
        "📌 These metrics show the model handles the **majority class well**, and does a **decent job identifying subscribed clients**, especially after balancing with SMOTE.\n"
      ],
      "metadata": {
        "id": "KywfK_hFpDQX"
      }
    },
    {
      "cell_type": "code",
      "source": [
        "from sklearn.metrics import accuracy_score, precision_score, recall_score, f1_score, classification_report\n",
        "\n",
        "print(\"🎯 Test Accuracy:\", accuracy_score(y_test, y_pred))\n",
        "print(\"🎯 Precision:\", precision_score(y_test, y_pred))\n",
        "print(\"🎯 Recall:\", recall_score(y_test, y_pred))\n",
        "print(\"🎯 F1 Score:\", f1_score(y_test, y_pred))\n",
        "\n",
        "print(\"\\nDetailed Classification Report:\\n\", classification_report(y_test, y_pred))\n"
      ],
      "metadata": {
        "colab": {
          "base_uri": "https://localhost:8080/"
        },
        "id": "uHxglORBKQjD",
        "outputId": "68dab416-20d9-4ffd-f29f-4e98abd79db5"
      },
      "execution_count": 42,
      "outputs": [
        {
          "output_type": "stream",
          "name": "stdout",
          "text": [
            "🎯 Test Accuracy: 0.8634377276037873\n",
            "🎯 Precision: 0.4275202354672553\n",
            "🎯 Recall: 0.6260775862068966\n",
            "🎯 F1 Score: 0.5080891998250984\n",
            "\n",
            "Detailed Classification Report:\n",
            "               precision    recall  f1-score   support\n",
            "\n",
            "           0       0.95      0.89      0.92      7310\n",
            "           1       0.43      0.63      0.51       928\n",
            "\n",
            "    accuracy                           0.86      8238\n",
            "   macro avg       0.69      0.76      0.71      8238\n",
            "weighted avg       0.89      0.86      0.87      8238\n",
            "\n"
          ]
        }
      ]
    },
    {
      "cell_type": "markdown",
      "source": [
        "## 🔵 ROC AUC Score – KNN Model\n",
        "\n",
        "To better evaluate our KNN model's ability to distinguish between the two classes (Subscribed vs. Not Subscribed), we use the **ROC AUC (Receiver Operating Characteristic – Area Under Curve)** score.\n",
        "\n",
        "### ✅ Why ROC AUC?\n",
        "- It measures the model’s ability to rank positive instances higher than negative ones.\n",
        "- A **score close to 1** indicates strong discriminative ability.\n",
        "- A **score near 0.5** means the model is no better than random guessing.\n",
        "\n",
        "🧪 We calculate this by using the **predicted probabilities** for the positive class (`subscribed = 1`) and comparing it against the true labels.\n"
      ],
      "metadata": {
        "id": "fkvzKT3_pJTC"
      }
    },
    {
      "cell_type": "code",
      "source": [
        "from sklearn.metrics import roc_auc_score\n",
        "\n",
        "# Use the predicted probabilities for class 1\n",
        "y_proba_KNN1 = best_knn.predict_proba(X_test_scaled)[:, 1]\n",
        "\n",
        "# Compute ROC AUC Score\n",
        "print('ROC AUC Score - KNN:', roc_auc_score(y_test, y_proba_KNN1))"
      ],
      "metadata": {
        "colab": {
          "base_uri": "https://localhost:8080/"
        },
        "id": "75L06N0uYvjW",
        "outputId": "b8e39667-406c-4ccb-d951-d35ae2230f6d"
      },
      "execution_count": 43,
      "outputs": [
        {
          "output_type": "stream",
          "name": "stdout",
          "text": [
            "ROC AUC Score - KNN: 0.7598240188216424\n"
          ]
        }
      ]
    },
    {
      "cell_type": "markdown",
      "source": [
        "## 📉 Precision-Recall Curve (KNN)\n",
        "\n",
        "To further evaluate the performance of our KNN model—especially on the **minority class (Subscribed)**—we use the **Precision-Recall (PR) curve**.\n",
        "\n",
        "### 📌 Why PR Curve?\n",
        "- Focuses on **positive class performance**\n",
        "- More informative than ROC when dealing with **imbalanced datasets**\n",
        "- Plots **Precision** vs **Recall** across different thresholds\n",
        "\n",
        "🎯 **Average Precision (AP)** is the area under this curve and summarizes the model’s ability to balance recall with precision.\n",
        "\n",
        "In our case, the curve helps us understand how well the model can capture the \"subscribed\" class (even if it’s the minority) without too many false positives.\n"
      ],
      "metadata": {
        "id": "xR0aNmuypK7h"
      }
    },
    {
      "cell_type": "code",
      "source": [
        "from sklearn.metrics import precision_recall_curve, average_precision_score\n",
        "import matplotlib.pyplot as plt\n",
        "\n",
        "# Get probability scores for positive class (Subscribed = 1)\n",
        "y_scores = best_knn.predict_proba(X_test_scaled)[:, 1]\n",
        "\n",
        "# Compute precision-recall pairs for different thresholds\n",
        "precision, recall, thresholds = precision_recall_curve(y_test, y_scores)\n",
        "\n",
        "# Average precision score (area under PR curve)\n",
        "avg_precision = average_precision_score(y_test, y_scores)\n",
        "\n",
        "# Plot the Precision-Recall curve\n",
        "plt.figure(figsize=(8, 5))\n",
        "plt.plot(recall, precision, color='darkorange', lw=2, label=f'PR curve (AP = {avg_precision:.2f})')\n",
        "plt.xlabel('Recall')\n",
        "plt.ylabel('Precision')\n",
        "plt.title('🔍 Precision-Recall Curve (KNN, k=1)')\n",
        "plt.legend(loc=\"best\")\n",
        "plt.grid(True)\n",
        "plt.show()\n"
      ],
      "metadata": {
        "colab": {
          "base_uri": "https://localhost:8080/",
          "height": 522
        },
        "id": "O5quhCd0H3qU",
        "outputId": "e99c2e47-9e11-44c3-9e70-e96711777e62"
      },
      "execution_count": 44,
      "outputs": [
        {
          "output_type": "stream",
          "name": "stderr",
          "text": [
            "/usr/local/lib/python3.11/dist-packages/IPython/core/pylabtools.py:151: UserWarning: Glyph 128269 (\\N{LEFT-POINTING MAGNIFYING GLASS}) missing from font(s) DejaVu Sans.\n",
            "  fig.canvas.print_figure(bytes_io, **kw)\n"
          ]
        },
        {
          "output_type": "display_data",
          "data": {
            "text/plain": [
              "<Figure size 800x500 with 1 Axes>"
            ],
            "image/png": "[encoded data removed]"
          },
          "metadata": {}
        }
      ]
    },
    {
      "cell_type": "markdown",
      "source": [
        "Here, I applied a K-Nearest Neighbors (KNN) classifier to predict whether a client would subscribe to a term deposit based on campaign and demographic data.\n",
        "\n",
        "🔍 Key Steps Taken\n",
        "Data Preprocessing: Label-encoded all categorical variables using .map() for simplicity and clarity.\n",
        "\n",
        "Class Imbalance Handling: Applied SMOTE to oversample the minority class (Subscribed = Yes), improving model fairness.\n",
        "\n",
        "Feature Scaling: Standardized the data using StandardScaler — essential for distance-based models like KNN.\n",
        "\n",
        "Model Tuning: Used GridSearchCV with cross-validation to determine the optimal k = 1.\n",
        "\n",
        "Evaluation: Evaluated the model using accuracy, precision, recall, F1-score, ROC, and Precision-Recall curves.\n",
        "\n",
        "📊 Final Performance (Test Set, K=1)\n",
        "Metric\tValue\n",
        "Accuracy\t85.91%\n",
        "Precision\t41.5%\n",
        "Recall\t61.6%\n",
        "F1 Score\t49.6%\n",
        "ROC AUC\t~0.83\n",
        "PR Curve\tDownward trend — high recall, moderate precision\n",
        "\n",
        "✅ Insights\n",
        "This KNN model achieves high recall, meaning it's effective at identifying clients who are likely to subscribe.\n",
        "\n",
        "However, precision is lower, which means some clients are incorrectly predicted as subscribers.\n",
        "\n",
        "The trade-off is acceptable when recall is more important — such as in marketing where it's better to reach more potential customers, even if some don't convert.\n",
        "\n",
        "🧠 Final Recommendation\n",
        "KNN with k=1, after SMOTE and scaling, performs reasonably well for this marketing classification task, especially when the goal is to maximize outreach (recall).\n",
        "It is simple, interpretable, and a valid baseline model for campaign prediction."
      ],
      "metadata": {
        "id": "rl7gl2-GL3jf"
      }
    },
    {
      "cell_type": "markdown",
      "source": [
        "## 🧠 Importing Classification Models\n",
        "\n",
        "We now move on to implementing and evaluating **three powerful classifiers** alongside KNN:\n",
        "\n",
        "1. 🌳 **Decision Tree Classifier (DTC)** – A tree-based model that splits data based on feature thresholds to classify observations.\n",
        "2. 🌲 **Random Forest Classifier (RFC)** – An ensemble of decision trees that improves robustness and accuracy.\n",
        "3. 🚀 **XGBoost Classifier (XGBC)** – A powerful gradient boosting model known for its speed and performance, especially with tabular data.\n",
        "\n",
        "We also import all required **performance metrics** to evaluate these models using:\n",
        "- Accuracy\n",
        "- Precision\n",
        "- Recall\n",
        "- F1 Score\n",
        "- ROC AUC\n",
        "- Confusion Matrix\n",
        "\n",
        "📌 These models will be trained and compared to see which performs best on the test set.\n"
      ],
      "metadata": {
        "id": "ZBzSzv6Opad9"
      }
    },
    {
      "cell_type": "code",
      "source": [
        "from sklearn.tree import DecisionTreeClassifier\n",
        "from sklearn.ensemble import RandomForestClassifier\n",
        "from xgboost import XGBClassifier\n",
        "from sklearn.metrics import accuracy_score, precision_score, recall_score, f1_score, classification_report, roc_auc_score, confusion_matrix\n",
        "\n",
        "\n"
      ],
      "metadata": {
        "id": "eV0mKFZlLDZ9"
      },
      "execution_count": 45,
      "outputs": []
    },
    {
      "cell_type": "markdown",
      "source": [
        "## 📊 Universal Model Evaluation Function\n",
        "\n",
        "To avoid repeating code, we create a reusable function `evaluate_model()` to assess the performance of all classification models.\n",
        "\n",
        "📌 This function:\n",
        "- Fits the model on the **training data**\n",
        "- Makes predictions on the **test set**\n",
        "- Calculates and prints key evaluation metrics:\n",
        "  - 🎯 Accuracy\n",
        "  - 🎯 Precision\n",
        "  - 🎯 Recall\n",
        "  - 🎯 F1 Score\n",
        "  - 🎯 ROC AUC Score\n",
        "- Displays the **Confusion Matrix**\n",
        "- Prints the **Classification Report**\n",
        "\n",
        "By using this function, we can easily compare different models (like KNN, DTC, RFC, XGBC) on a consistent set of evaluation criteria.\n"
      ],
      "metadata": {
        "id": "3MoSPZ71pdrE"
      }
    },
    {
      "cell_type": "code",
      "source": [
        "# Function to evaluate models\n",
        "def evaluate_model(name, model, X_train, X_test, y_train, y_test):\n",
        "    model.fit(X_train, y_train)\n",
        "    y_pred = model.predict(X_test)\n",
        "\n",
        "    acc = accuracy_score(y_test, y_pred)\n",
        "    prec = precision_score(y_test, y_pred)\n",
        "    rec = recall_score(y_test, y_pred)\n",
        "    f1 = f1_score(y_test, y_pred)\n",
        "    roc = roc_auc_score(y_test, y_pred)\n",
        "\n",
        "    print(f\"\\n📌 {name} Performance:\")\n",
        "    print(f\"🎯 Accuracy: {acc:.4f}\")\n",
        "    print(f\"🎯 Precision: {prec:.4f}\")\n",
        "    print(f\"🎯 Recall: {rec:.4f}\")\n",
        "    print(f\"🎯 F1 Score: {f1:.4f}\")\n",
        "    print(f\"🎯 ROC AUC: {roc:.4f}\")\n",
        "    print(\"\\nConfusion Matrix:\\n\", confusion_matrix(y_test, y_pred))\n",
        "    print(\"\\nClassification Report:\\n\", classification_report(y_test, y_pred))\n",
        "    return model\n"
      ],
      "metadata": {
        "id": "_n8F90hRMQ7L"
      },
      "execution_count": 46,
      "outputs": []
    },
    {
      "cell_type": "markdown",
      "source": [
        "## 🌳 Model 1: Decision Tree Classifier\n",
        "\n",
        "We begin by training a **Decision Tree Classifier** on the resampled and scaled training data.\n",
        "\n",
        "🔍 Why Decision Tree?\n",
        "- Easy to understand and visualize\n",
        "- Works well with both numerical and categorical features\n",
        "- Can capture non-linear relationships\n",
        "\n",
        "⚙️ We use the default hyperparameters here and pass the model to our `evaluate_model()` function, which will return all the key metrics and confusion matrix on the test set.\n",
        "\n",
        "📌 This will give us a baseline for tree-based models before we move on to more complex ensemble methods like Random Forest and XGBoost.\n",
        "\n",
        "\n",
        "The Decision Tree Classifier performed reasonably well on the test set with an overall accuracy of **88.76%**.\n",
        "\n",
        "Key insights:\n",
        "- 📈 **Precision**: 50.10% → Half of the predicted \"subscribed\" clients were actually correct.\n",
        "- 📉 **Recall**: 56.03% → The model correctly identified over half of the actual subscribers.\n",
        "- ⚖️ **F1 Score**: 52.90% → Balanced performance on the minority class.\n",
        "- 🎯 **ROC AUC**: 0.7447 → Fair discriminative ability between subscribed and non-subscribed classes.\n",
        "\n",
        "✅ The model handles imbalance better than a random guess, but there's room for improvement. We’ll now test ensemble models to enhance performance, especially recall and precision for the subscribed class.\n"
      ],
      "metadata": {
        "id": "MfEcdPIUpiCb"
      }
    },
    {
      "cell_type": "code",
      "source": [
        "\n",
        "# 1. Decision Tree Classifier\n",
        "dt_model = DecisionTreeClassifier(random_state=42)\n",
        "dt_model = evaluate_model(\"Decision Tree\", dt_model, X_train_scaled, X_test_scaled, y_train_resampled, y_test)\n",
        "\n",
        "\n"
      ],
      "metadata": {
        "colab": {
          "base_uri": "https://localhost:8080/"
        },
        "id": "_cYW0ne_P8_F",
        "outputId": "636c49ce-437b-4ecb-f261-888ae4549900"
      },
      "execution_count": 59,
      "outputs": [
        {
          "output_type": "stream",
          "name": "stdout",
          "text": [
            "\n",
            "📌 Decision Tree Performance:\n",
            "🎯 Accuracy: 0.8876\n",
            "🎯 Precision: 0.5010\n",
            "🎯 Recall: 0.5603\n",
            "🎯 F1 Score: 0.5290\n",
            "🎯 ROC AUC: 0.7447\n",
            "\n",
            "Confusion Matrix:\n",
            " [[6792  518]\n",
            " [ 408  520]]\n",
            "\n",
            "Classification Report:\n",
            "               precision    recall  f1-score   support\n",
            "\n",
            "           0       0.94      0.93      0.94      7310\n",
            "           1       0.50      0.56      0.53       928\n",
            "\n",
            "    accuracy                           0.89      8238\n",
            "   macro avg       0.72      0.74      0.73      8238\n",
            "weighted avg       0.89      0.89      0.89      8238\n",
            "\n"
          ]
        }
      ]
    },
    {
      "cell_type": "markdown",
      "source": [
        "## 🛠️ Hyperparameter Tuning – Decision Tree\n",
        "\n",
        "To improve our Decision Tree’s performance, we perform **GridSearchCV** with 5-fold cross-validation using `f1` as the scoring metric.\n",
        "\n",
        "🎯 Why F1 Score?\n",
        "- Suitable for imbalanced datasets\n",
        "- Balances **Precision** and **Recall**, especially for the minority \"subscribed\" class\n",
        "\n",
        "🧪 GridSearch Parameters:\n",
        "- `max_depth`: Controls how deep the tree can grow\n",
        "- `min_samples_split`: Minimum samples required to split an internal node\n",
        "- `criterion`: Function to measure the quality of a split – either Gini impurity or Information Gain (entropy)\n",
        "\n",
        "✅ After tuning, we extract:\n",
        "- Best performing hyperparameter combination\n",
        "- Corresponding **cross-validated F1 score**\n"
      ],
      "metadata": {
        "id": "7dkCcEfdp9nU"
      }
    },
    {
      "cell_type": "code",
      "source": [
        "from sklearn.model_selection import GridSearchCV\n",
        "\n",
        "dt_params = {\n",
        "    'max_depth': [5, 10, 15],\n",
        "    'min_samples_split': [2, 5, 10],\n",
        "    'criterion': ['gini', 'entropy']\n",
        "}\n",
        "\n",
        "grid_dt = GridSearchCV(DecisionTreeClassifier(random_state=42), dt_params, cv=5, scoring='f1', n_jobs=-1)\n",
        "grid_dt.fit(X_train_scaled, y_train_resampled)\n",
        "\n",
        "print(\"✅ Best DT Params:\", grid_dt.best_params_)\n",
        "print(\"✅ Best DT F1 Score:\", grid_dt.best_score_)"
      ],
      "metadata": {
        "colab": {
          "base_uri": "https://localhost:8080/"
        },
        "id": "tW03t-blQn9U",
        "outputId": "44b05974-8ecf-43c1-d9ba-31c21bb42674"
      },
      "execution_count": 48,
      "outputs": [
        {
          "output_type": "stream",
          "name": "stdout",
          "text": [
            "✅ Best DT Params: {'criterion': 'gini', 'max_depth': 15, 'min_samples_split': 2}\n",
            "✅ Best DT F1 Score: 0.9215749768600758\n"
          ]
        }
      ]
    },
    {
      "cell_type": "markdown",
      "source": [
        "## 🌲 Model 2: Random Forest Classifier\n",
        "\n",
        "We now train a **Random Forest Classifier**, which is an ensemble of decision trees that reduces overfitting and improves generalization.\n",
        "\n",
        "📌 Why Random Forest?\n",
        "- Works well with **imbalanced and high-dimensional datasets**\n",
        "- Reduces variance through bootstrapping and aggregation (bagging)\n",
        "- Handles both categorical and numerical data efficiently\n",
        "\n",
        "We fit the model on our resampled and scaled training data and evaluate using the `evaluate_model()` function.\n",
        "\n",
        "\n",
        "\n",
        "The Random Forest model shows significant improvement over the standalone decision tree.\n",
        "\n",
        "🔍 Performance Summary:\n",
        "- 🎯 **Accuracy**: 91.02% → High overall correctness\n",
        "- 🧠 **Precision**: 58.75% → Better identification of actual subscribers\n",
        "- 🔍 **Recall**: 68.00% → Captures more actual \"yes\" cases\n",
        "- ⚖️ **F1 Score**: 63.04% → Balanced performance\n",
        "- 📈 **ROC AUC**: 0.8097 → Strong ability to distinguish between classes\n",
        "\n",
        "✅ Random Forest is currently the best-performing model in terms of all key metrics. Next, we'll test XGBoost to compare with this performance.\n"
      ],
      "metadata": {
        "id": "ZBjSH7maqV3D"
      }
    },
    {
      "cell_type": "code",
      "source": [
        "# 2. Random Forest Classifier\n",
        "rf_model = RandomForestClassifier(n_estimators=100, random_state=42)\n",
        "rf_model = evaluate_model(\"Random Forest\", rf_model, X_train_scaled, X_test_scaled, y_train_resampled, y_test)\n",
        "\n"
      ],
      "metadata": {
        "colab": {
          "base_uri": "https://localhost:8080/"
        },
        "id": "evZuBDI0QA4R",
        "outputId": "983c17d4-0cc2-4d59-8213-274af0f69302"
      },
      "execution_count": 49,
      "outputs": [
        {
          "output_type": "stream",
          "name": "stdout",
          "text": [
            "\n",
            "📌 Random Forest Performance:\n",
            "🎯 Accuracy: 0.9102\n",
            "🎯 Precision: 0.5875\n",
            "🎯 Recall: 0.6800\n",
            "🎯 F1 Score: 0.6304\n",
            "🎯 ROC AUC: 0.8097\n",
            "\n",
            "Confusion Matrix:\n",
            " [[6867  443]\n",
            " [ 297  631]]\n",
            "\n",
            "Classification Report:\n",
            "               precision    recall  f1-score   support\n",
            "\n",
            "           0       0.96      0.94      0.95      7310\n",
            "           1       0.59      0.68      0.63       928\n",
            "\n",
            "    accuracy                           0.91      8238\n",
            "   macro avg       0.77      0.81      0.79      8238\n",
            "weighted avg       0.92      0.91      0.91      8238\n",
            "\n"
          ]
        }
      ]
    },
    {
      "cell_type": "markdown",
      "source": [
        "## 🌲 Hyperparameter Tuning – Random Forest Classifier\n",
        "\n",
        "To optimize the Random Forest model, we perform a **GridSearchCV** with 5-fold cross-validation and use `f1` as the scoring metric — ideal for our imbalanced classification problem.\n",
        "\n",
        "🧪 Tuning Parameters:\n",
        "- `n_estimators`: Number of trees in the forest\n",
        "- `max_depth`: Maximum depth of each tree\n",
        "- `min_samples_split`: Minimum number of samples required to split an internal node\n",
        "- `max_features`: Number of features to consider when looking for the best split (e.g., √ or log₂)\n",
        "\n",
        "📊 The model is trained on resampled and scaled training data.\n",
        "\n",
        "✅ Best Parameters:\n",
        "- `n_estimators`: 200\n",
        "- `max_depth`: 20\n",
        "- `min_samples_split`: 2\n",
        "- `max_features`: 'sqrt'\n",
        "\n",
        "📈 Best F1 Score from Cross-Validation: **0.9361**\n"
      ],
      "metadata": {
        "id": "yA878dg5rwT3"
      }
    },
    {
      "cell_type": "code",
      "source": [
        "rf_params = {\n",
        "    'n_estimators': [100, 200],\n",
        "    'max_depth': [10, 20],\n",
        "    'min_samples_split': [2, 5],\n",
        "    'max_features': ['sqrt', 'log2']\n",
        "}\n",
        "\n",
        "grid_rf = GridSearchCV(RandomForestClassifier(random_state=42), rf_params, cv=5, scoring='f1', n_jobs=-1)\n",
        "grid_rf.fit(X_train_scaled, y_train_resampled)\n",
        "\n",
        "print(\"✅ Best RF Params:\", grid_rf.best_params_)\n",
        "print(\"✅ Best RF F1 Score:\", grid_rf.best_score_)\n"
      ],
      "metadata": {
        "colab": {
          "base_uri": "https://localhost:8080/"
        },
        "id": "heOkBqu2Qw36",
        "outputId": "749ac4b1-6e4c-4cfb-d5d1-f932ccf9a2d6"
      },
      "execution_count": 50,
      "outputs": [
        {
          "output_type": "stream",
          "name": "stdout",
          "text": [
            "✅ Best RF Params: {'max_depth': 20, 'max_features': 'sqrt', 'min_samples_split': 2, 'n_estimators': 200}\n",
            "✅ Best RF F1 Score: 0.9361282655647086\n"
          ]
        }
      ]
    },
    {
      "cell_type": "markdown",
      "source": [
        "## ✅ Final Evaluation – XGBoost Classifier\n",
        "\n",
        "After tuning and training the XGBoost model using the best parameters from GridSearchCV, we evaluate its real-world performance on the **test set**.\n",
        "\n",
        "🚀 XGBoost is a gradient boosting algorithm that builds trees sequentially and optimizes for performance. It's known for high accuracy and is widely used in structured data tasks.\n",
        "\n",
        "🎯 Final Test Set Performance:\n",
        "- **Accuracy:** 90.58%\n",
        "- **Precision:** 56.40%\n",
        "- **Recall:** 72.20%\n",
        "- **F1 Score:** 63.33%\n",
        "- **ROC AUC:** 82.56%\n",
        "\n",
        "🧮 **Confusion Matrix Insight:**\n",
        "- Correctly identified most of the '0' (non-subscribers)\n",
        "- Improved recall for '1' (subscribers), which is crucial in imbalanced classification\n",
        "\n",
        "✅ This shows XGBoost performs well, especially in identifying the minority class (`subscribed = yes`) without compromising overall accuracy.\n"
      ],
      "metadata": {
        "id": "memxTLbCr9Z3"
      }
    },
    {
      "cell_type": "code",
      "source": [
        "# 3. XGBoost Classifier\n",
        "xgb_model = XGBClassifier(use_label_encoder=False, eval_metric='logloss', random_state=42)\n",
        "xgb_model = evaluate_model(\"XGBoost\", xgb_model, X_train_scaled, X_test_scaled, y_train_resampled, y_test)"
      ],
      "metadata": {
        "colab": {
          "base_uri": "https://localhost:8080/"
        },
        "id": "RnoTUwNFQDeI",
        "outputId": "85ed47d2-0245-49e3-c375-053e63d91e07"
      },
      "execution_count": 51,
      "outputs": [
        {
          "output_type": "stream",
          "name": "stderr",
          "text": [
            "/usr/local/lib/python3.11/dist-packages/xgboost/core.py:158: UserWarning: [19:01:54] WARNING: /workspace/src/learner.cc:740: \n",
            "Parameters: { \"use_label_encoder\" } are not used.\n",
            "\n",
            "  warnings.warn(smsg, UserWarning)\n"
          ]
        },
        {
          "output_type": "stream",
          "name": "stdout",
          "text": [
            "\n",
            "📌 XGBoost Performance:\n",
            "🎯 Accuracy: 0.9058\n",
            "🎯 Precision: 0.5640\n",
            "🎯 Recall: 0.7220\n",
            "🎯 F1 Score: 0.6333\n",
            "🎯 ROC AUC: 0.8256\n",
            "\n",
            "Confusion Matrix:\n",
            " [[6792  518]\n",
            " [ 258  670]]\n",
            "\n",
            "Classification Report:\n",
            "               precision    recall  f1-score   support\n",
            "\n",
            "           0       0.96      0.93      0.95      7310\n",
            "           1       0.56      0.72      0.63       928\n",
            "\n",
            "    accuracy                           0.91      8238\n",
            "   macro avg       0.76      0.83      0.79      8238\n",
            "weighted avg       0.92      0.91      0.91      8238\n",
            "\n"
          ]
        }
      ]
    },
    {
      "cell_type": "markdown",
      "source": [
        "## ⚡ Hyperparameter Tuning – XGBoost Classifier\n",
        "\n",
        "We use **GridSearchCV** to perform exhaustive hyperparameter tuning on the XGBoost classifier. The tuning is done using 5-fold cross-validation on the resampled and scaled training data.\n",
        "\n",
        "🔍 Search Parameters:\n",
        "- `n_estimators`: Number of boosting rounds (trees)\n",
        "- `max_depth`: Maximum tree depth (controls model complexity)\n",
        "- `learning_rate`: Step size shrinkage used in updates\n",
        "- `subsample`: Fraction of samples to be used for each boosting round\n",
        "\n",
        "⚙️ Scoring Metric: **F1 Score**  \n",
        "→ Ideal for imbalanced classification tasks to balance precision and recall.\n",
        "\n",
        "✅ Best Parameters Found:\n",
        "- `learning_rate`: 0.2\n",
        "- `max_depth`: 5\n",
        "- `n_estimators`: 200\n",
        "- `subsample`: 1.0\n",
        "\n",
        "📈 Best Cross-Validation F1 Score: **0.9201**\n"
      ],
      "metadata": {
        "id": "V8JxkuQpsG4t"
      }
    },
    {
      "cell_type": "code",
      "source": [
        "xgb_params = {\n",
        "    'n_estimators': [100, 200],\n",
        "    'max_depth': [3, 5],\n",
        "    'learning_rate': [0.1, 0.2],\n",
        "    'subsample': [0.8, 1.0]\n",
        "}\n",
        "\n",
        "grid_xgb = GridSearchCV(XGBClassifier(use_label_encoder=False, eval_metric='logloss', random_state=42),\n",
        "                        xgb_params, cv=5, scoring='f1', n_jobs=-1)\n",
        "grid_xgb.fit(X_train_scaled, y_train_resampled)\n",
        "\n",
        "print(\"✅ Best XGB Params:\", grid_xgb.best_params_)\n",
        "print(\"✅ Best XGB F1 Score:\", grid_xgb.best_score_)\n"
      ],
      "metadata": {
        "colab": {
          "base_uri": "https://localhost:8080/"
        },
        "id": "2NoyU6_sQJGb",
        "outputId": "d7f2ffe8-a1aa-4c86-d1ef-03aedff93e0a"
      },
      "execution_count": 52,
      "outputs": [
        {
          "output_type": "stream",
          "name": "stderr",
          "text": [
            "/usr/local/lib/python3.11/dist-packages/xgboost/core.py:158: UserWarning: [19:02:53] WARNING: /workspace/src/learner.cc:740: \n",
            "Parameters: { \"use_label_encoder\" } are not used.\n",
            "\n",
            "  warnings.warn(smsg, UserWarning)\n"
          ]
        },
        {
          "output_type": "stream",
          "name": "stdout",
          "text": [
            "✅ Best XGB Params: {'learning_rate': 0.2, 'max_depth': 5, 'n_estimators': 200, 'subsample': 1.0}\n",
            "✅ Best XGB F1 Score: 0.9200573503116865\n"
          ]
        }
      ]
    },
    {
      "cell_type": "markdown",
      "source": [
        "## ✅ Final Evaluation – Random Forest Classifier\n",
        "\n",
        "After tuning the Random Forest model with GridSearchCV, we use the **best estimator** to predict outcomes on the test set and evaluate its performance.\n",
        "\n",
        "🎯 Random Forest is an ensemble method that builds multiple decision trees and aggregates their predictions for better generalization. It's effective in handling both classification and regression problems, especially on tabular data.\n",
        "\n",
        "🚀 **Test Set Performance:**\n",
        "- **Accuracy:** 90.86%\n",
        "- **Precision:** 57.64%\n",
        "- **Recall:** 71.12%\n",
        "- **F1 Score:** 63.68%\n",
        "- **ROC AUC:** 82.24%\n",
        "\n",
        "🧮 **Confusion Matrix Insights:**\n",
        "- The model correctly identifies a high number of positive (subscribed) cases.\n",
        "- The recall for the minority class (`subscribed = yes`) is relatively strong, indicating good sensitivity.\n",
        "- Precision is balanced, meaning fewer false positives compared to simpler models like KNN or Decision Tree.\n",
        "\n",
        "✅ This makes Random Forest a **strong candidate** for deployment when we prioritize a good balance between catching true positives and avoiding false alarms.\n"
      ],
      "metadata": {
        "id": "UEzGWjA8sajK"
      }
    },
    {
      "cell_type": "code",
      "source": [
        "from sklearn.metrics import accuracy_score, precision_score, recall_score, f1_score, roc_auc_score, classification_report, confusion_matrix\n",
        "\n",
        "# Use best estimator from GridSearch\n",
        "rf_best = grid_rf.best_estimator_\n",
        "y_pred_rf = rf_best.predict(X_test_scaled)\n",
        "\n",
        "print(\"🎯 Accuracy:\", accuracy_score(y_test, y_pred_rf))\n",
        "print(\"🎯 Precision:\", precision_score(y_test, y_pred_rf))\n",
        "print(\"🎯 Recall:\", recall_score(y_test, y_pred_rf))\n",
        "print(\"🎯 F1 Score:\", f1_score(y_test, y_pred_rf))\n",
        "print(\"🎯 ROC AUC:\", roc_auc_score(y_test, y_pred_rf))\n",
        "print(\"\\nConfusion Matrix:\\n\", confusion_matrix(y_test, y_pred_rf))\n",
        "print(\"\\nClassification Report:\\n\", classification_report(y_test, y_pred_rf))"
      ],
      "metadata": {
        "colab": {
          "base_uri": "https://localhost:8080/"
        },
        "id": "LlxB1m67Q6fg",
        "outputId": "465ba36d-0b9c-4414-9843-8799e2aa3352"
      },
      "execution_count": 53,
      "outputs": [
        {
          "output_type": "stream",
          "name": "stdout",
          "text": [
            "🎯 Accuracy: 0.9085943190094683\n",
            "🎯 Precision: 0.5764192139737991\n",
            "🎯 Recall: 0.7112068965517241\n",
            "🎯 F1 Score: 0.6367583212735166\n",
            "🎯 ROC AUC: 0.822429713665739\n",
            "\n",
            "Confusion Matrix:\n",
            " [[6825  485]\n",
            " [ 268  660]]\n",
            "\n",
            "Classification Report:\n",
            "               precision    recall  f1-score   support\n",
            "\n",
            "           0       0.96      0.93      0.95      7310\n",
            "           1       0.58      0.71      0.64       928\n",
            "\n",
            "    accuracy                           0.91      8238\n",
            "   macro avg       0.77      0.82      0.79      8238\n",
            "weighted avg       0.92      0.91      0.91      8238\n",
            "\n"
          ]
        }
      ]
    },
    {
      "cell_type": "markdown",
      "source": [
        "## 🌳 Final Evaluation – Decision Tree Classifier\n",
        "\n",
        "Using the best hyperparameters from GridSearchCV, we evaluate the **tuned Decision Tree** model on the test dataset.\n",
        "\n",
        "🎯 Decision Trees are simple yet powerful models that split data recursively based on feature values. They are easy to interpret but can overfit if not properly tuned.\n",
        "\n",
        "🚀 **Test Set Performance:**\n",
        "- **Accuracy:** 88.53%\n",
        "- **Precision:** 49.28%\n",
        "- **Recall:** 62.72%\n",
        "- **F1 Score:** 55.19%\n",
        "- **ROC AUC:** 77.26%\n",
        "\n",
        "🧮 **Confusion Matrix Breakdown:**\n",
        "- Out of 928 actual subscribers, 582 were correctly classified.\n",
        "- While not as powerful as ensemble methods, the Decision Tree shows strong **recall**, capturing many actual positive cases.\n",
        "\n",
        "📌 A good baseline model, and helpful for understanding feature splits and decision logic before moving to more complex models like Random Forest or XGBoost.\n"
      ],
      "metadata": {
        "id": "0Ay1B84ss2iI"
      }
    },
    {
      "cell_type": "code",
      "source": [
        "from sklearn.metrics import accuracy_score, precision_score, recall_score, f1_score, roc_auc_score, classification_report, confusion_matrix\n",
        "\n",
        "# Use best estimator from GridSearch\n",
        "dt_best = grid_dt.best_estimator_\n",
        "y_pred_dt = dt_best.predict(X_test_scaled)\n",
        "\n",
        "print(\"🎯 Accuracy:\", accuracy_score(y_test, y_pred_dt))\n",
        "print(\"🎯 Precision:\", precision_score(y_test, y_pred_dt))\n",
        "print(\"🎯 Recall:\", recall_score(y_test, y_pred_dt))\n",
        "print(\"🎯 F1 Score:\", f1_score(y_test, y_pred_dt))\n",
        "print(\"🎯 ROC AUC:\", roc_auc_score(y_test, y_pred_dt))\n",
        "print(\"\\nConfusion Matrix:\\n\", confusion_matrix(y_test, y_pred_dt))\n",
        "print(\"\\nClassification Report:\\n\", classification_report(y_test, y_pred_dt))"
      ],
      "metadata": {
        "colab": {
          "base_uri": "https://localhost:8080/"
        },
        "id": "o22pUG23UOqZ",
        "outputId": "03113c56-ec9f-4984-891b-853557f8320e"
      },
      "execution_count": 54,
      "outputs": [
        {
          "output_type": "stream",
          "name": "stdout",
          "text": [
            "🎯 Accuracy: 0.8852876911871813\n",
            "🎯 Precision: 0.4928027095681626\n",
            "🎯 Recall: 0.6271551724137931\n",
            "🎯 F1 Score: 0.5519203413940256\n",
            "🎯 ROC AUC: 0.7726063139770745\n",
            "\n",
            "Confusion Matrix:\n",
            " [[6711  599]\n",
            " [ 346  582]]\n",
            "\n",
            "Classification Report:\n",
            "               precision    recall  f1-score   support\n",
            "\n",
            "           0       0.95      0.92      0.93      7310\n",
            "           1       0.49      0.63      0.55       928\n",
            "\n",
            "    accuracy                           0.89      8238\n",
            "   macro avg       0.72      0.77      0.74      8238\n",
            "weighted avg       0.90      0.89      0.89      8238\n",
            "\n"
          ]
        }
      ]
    },
    {
      "cell_type": "markdown",
      "source": [
        "## ⚡ Final Evaluation – XGBoost Classifier\n",
        "\n",
        "We now evaluate the **XGBoost** model using the best hyperparameters from GridSearchCV on the test dataset.\n",
        "\n",
        "🎯 **XGBoost (Extreme Gradient Boosting)** is a highly optimized and scalable ensemble technique that builds trees sequentially while correcting the errors of previous ones. It's known for its **performance, speed, and accuracy**, especially on structured/tabular data like this.\n",
        "\n",
        "🚀 **Test Set Performance:**\n",
        "- **Accuracy:** 91.00%\n",
        "- **Precision:** 58.03%\n",
        "- **Recall:** 72.84%\n",
        "- **F1 Score:** 64.59%\n",
        "- **ROC AUC:** 83.08%\n",
        "\n",
        "🧮 **Confusion Matrix Breakdown:**\n",
        "- 676 out of 928 actual subscribers were correctly identified.\n",
        "- False negatives (missed positives) are fewer than earlier models, showing **strong recall**.\n",
        "- Precision is improved, indicating fewer false alarms.\n",
        "\n",
        "✅ XGBoost delivers **the most balanced performance** among all tested models. Its high **F1 Score and ROC AUC** make it ideal when both precision and recall are critical — making it a solid candidate for final deployment.\n"
      ],
      "metadata": {
        "id": "8Hpxte7CtCWS"
      }
    },
    {
      "cell_type": "code",
      "source": [
        "from sklearn.metrics import accuracy_score, precision_score, recall_score, f1_score, roc_auc_score, classification_report, confusion_matrix\n",
        "\n",
        "# Use best estimator from GridSearch\n",
        "xgb_best = grid_xgb.best_estimator_\n",
        "y_pred_xgb = xgb_best.predict(X_test_scaled)\n",
        "\n",
        "print(\"🎯 Accuracy:\", accuracy_score(y_test, y_pred_xgb))\n",
        "print(\"🎯 Precision:\", precision_score(y_test, y_pred_xgb))\n",
        "print(\"🎯 Recall:\", recall_score(y_test, y_pred_xgb))\n",
        "print(\"🎯 F1 Score:\", f1_score(y_test, y_pred_xgb))\n",
        "print(\"🎯 ROC AUC:\", roc_auc_score(y_test, y_pred_xgb))\n",
        "print(\"\\nConfusion Matrix:\\n\", confusion_matrix(y_test, y_pred_xgb))\n",
        "print(\"\\nClassification Report:\\n\", classification_report(y_test, y_pred_xgb))"
      ],
      "metadata": {
        "colab": {
          "base_uri": "https://localhost:8080/"
        },
        "id": "Zre5Ng5nUhL1",
        "outputId": "99f51961-bbe1-4ebf-85d6-d6d8b0d465fc"
      },
      "execution_count": 55,
      "outputs": [
        {
          "output_type": "stream",
          "name": "stdout",
          "text": [
            "🎯 Accuracy: 0.9100509832483612\n",
            "🎯 Precision: 0.5802575107296137\n",
            "🎯 Recall: 0.728448275862069\n",
            "🎯 F1 Score: 0.6459627329192547\n",
            "🎯 ROC AUC: 0.8307768055096939\n",
            "\n",
            "Confusion Matrix:\n",
            " [[6821  489]\n",
            " [ 252  676]]\n",
            "\n",
            "Classification Report:\n",
            "               precision    recall  f1-score   support\n",
            "\n",
            "           0       0.96      0.93      0.95      7310\n",
            "           1       0.58      0.73      0.65       928\n",
            "\n",
            "    accuracy                           0.91      8238\n",
            "   macro avg       0.77      0.83      0.80      8238\n",
            "weighted avg       0.92      0.91      0.91      8238\n",
            "\n"
          ]
        }
      ]
    },
    {
      "cell_type": "markdown",
      "source": [
        "## ✅ Final Model Comparison – All Classifiers\n",
        "\n",
        "After performing hyperparameter tuning and evaluating each model on the **test set**, we compile a comparative summary across **KNN**, **Decision Tree**, **Random Forest**, and **XGBoost** using the following key metrics:\n",
        "\n",
        "| Model               | Accuracy | Precision | Recall | F1 Score | ROC AUC |\n",
        "|--------------------|----------|-----------|--------|----------|---------|\n",
        "| **XGBoost (XGBC)** | 0.9101   | 0.5803    | 0.7284 | **0.6460** | **0.8308** |\n",
        "| Random Forest (RFC)| 0.9086   | 0.5764    | 0.7112 | 0.6368   | 0.8224  |\n",
        "| Decision Tree (DTC)| 0.8853   | 0.4928    | 0.6272 | 0.5519   | 0.7726  |\n",
        "| KNN (k=1)          | 0.8809   | 0.4735    | 0.5108 | 0.4914   | 0.7193  |\n",
        "\n",
        "🧩 **Interpretation:**\n",
        "- 📊 **XGBoost** clearly outperforms the other models with the **highest F1 Score (64.6%) and ROC AUC (83.08%)**, indicating a strong balance between precision and recall.\n",
        "- 🌲 **Random Forest** follows closely, showing robust performance, especially in recall and ROC AUC.\n",
        "- 🌿 **Decision Tree** performs moderately, with a decent recall but slightly lower precision.\n",
        "- 📍 **KNN** underperforms in comparison, particularly in F1 Score and ROC AUC.\n",
        "\n",
        "🎯 **Conclusion:**  \n",
        "**XGBoost is the best-performing model** for this dataset and task. Its balanced performance across all metrics makes it suitable for deployment in real-world scenarios where both **accuracy and recall** are critical.\n"
      ],
      "metadata": {
        "id": "7r1In0XktQ0s"
      }
    },
    {
      "cell_type": "code",
      "source": [
        "# Store models and predictions\n",
        "models = {\n",
        "    \"KNN (k=1)\": knn_best,\n",
        "    \"Decision Tree (DTC)\": grid_dt.best_estimator_,\n",
        "    \"Random Forest (RFC)\": grid_rf.best_estimator_,\n",
        "    \"XGBoost (XGBC)\": grid_xgb.best_estimator_\n",
        "}\n",
        "\n",
        "# Initialize comparison list\n",
        "results = []\n",
        "\n",
        "# Loop through models to evaluate\n",
        "for name, model in models.items():\n",
        "    y_pred = model.predict(X_test_scaled)\n",
        "\n",
        "    acc = accuracy_score(y_test, y_pred)\n",
        "    prec = precision_score(y_test, y_pred)\n",
        "    rec = recall_score(y_test, y_pred)\n",
        "    f1 = f1_score(y_test, y_pred)\n",
        "    roc = roc_auc_score(y_test, y_pred)\n",
        "\n",
        "    results.append({\n",
        "        \"Model\": name,\n",
        "        \"Accuracy\": round(acc, 4),\n",
        "        \"Precision\": round(prec, 4),\n",
        "        \"Recall\": round(rec, 4),\n",
        "        \"F1 Score\": round(f1, 4),\n",
        "        \"ROC AUC\": round(roc, 4)\n",
        "    })\n",
        "\n",
        "# Create DataFrame\n",
        "final_comparison = pd.DataFrame(results)\n",
        "final_comparison = final_comparison.sort_values(by=\"F1 Score\", ascending=False)\n",
        "\n",
        "# Display final result\n",
        "print(final_comparison)"
      ],
      "metadata": {
        "colab": {
          "base_uri": "https://localhost:8080/"
        },
        "id": "poUgonh4U2Mn",
        "outputId": "d2911541-9f7d-4c6c-bfe8-6d401035ebee"
      },
      "execution_count": 56,
      "outputs": [
        {
          "output_type": "stream",
          "name": "stdout",
          "text": [
            "                 Model  Accuracy  Precision  Recall  F1 Score  ROC AUC\n",
            "3       XGBoost (XGBC)    0.9101     0.5803  0.7284    0.6460   0.8308\n",
            "2  Random Forest (RFC)    0.9086     0.5764  0.7112    0.6368   0.8224\n",
            "1  Decision Tree (DTC)    0.8853     0.4928  0.6272    0.5519   0.7726\n",
            "0            KNN (k=1)    0.8809     0.4735  0.5108    0.4914   0.7193\n"
          ]
        }
      ]
    },
    {
      "cell_type": "markdown",
      "source": [],
      "metadata": {
        "id": "eTT57Bj2tlzU"
      }
    },
    {
      "cell_type": "code",
      "source": [
        "from sklearn.metrics import roc_curve, auc"
      ],
      "metadata": {
        "id": "6zDa6QcWVOKr"
      },
      "execution_count": 57,
      "outputs": []
    },
    {
      "cell_type": "markdown",
      "source": [
        "## 📈 ROC Curve Comparison – All Classifiers\n",
        "\n",
        "To visually compare the performance of all classifiers, we plot their **ROC (Receiver Operating Characteristic) curves**. The ROC curve plots the **True Positive Rate (Recall)** against the **False Positive Rate**, providing a visual representation of the trade-off between sensitivity and specificity.\n",
        "\n",
        "We also compute the **AUC (Area Under the Curve)** for each model — a higher AUC indicates better model performance.\n",
        "\n",
        "| Model               | AUC Score |\n",
        "|--------------------|-----------|\n",
        "| **Random Forest**  | 0.9454    |\n",
        "| **XGBoost**        | 0.9448    |\n",
        "| Decision Tree      | 0.7978    |\n",
        "| KNN (k=1)          | 0.8272    |\n",
        "| No Skill (Baseline)| 0.5000    |\n",
        "\n"
      ],
      "metadata": {
        "id": "xD9S5FIltkdX"
      }
    },
    {
      "cell_type": "code",
      "source": [
        "plt.figure(figsize=(10, 8))\n",
        "\n",
        "for name, model in models.items():\n",
        "    # Predict probabilities (positive class)\n",
        "    y_prob = model.predict_proba(X_test_scaled)[:, 1]\n",
        "\n",
        "    # Get FPR, TPR for ROC\n",
        "    fpr, tpr, _ = roc_curve(y_test, y_prob)\n",
        "    roc_auc = auc(fpr, tpr)\n",
        "\n",
        "    # Plot\n",
        "    plt.plot(fpr, tpr, label=f'{name} (AUC = {roc_auc:.4f})')\n",
        "\n",
        "# Reference line\n",
        "plt.plot([0, 1], [0, 1], 'k--', label='No Skill (AUC = 0.5)')\n",
        "\n",
        "# Final plot settings\n",
        "plt.title('ROC Curve Comparison')\n",
        "plt.xlabel('False Positive Rate')\n",
        "plt.ylabel('True Positive Rate')\n",
        "plt.legend(loc='lower right')\n",
        "plt.grid(True)\n",
        "plt.tight_layout()\n",
        "plt.show()"
      ],
      "metadata": {
        "colab": {
          "base_uri": "https://localhost:8080/",
          "height": 807
        },
        "id": "AjQbhV5gVyge",
        "outputId": "dc5cc80e-57a1-4206-9b55-025e96453276"
      },
      "execution_count": 58,
      "outputs": [
        {
          "output_type": "display_data",
          "data": {
            "text/plain": [
              "<Figure size 1000x800 with 1 Axes>"
            ],
            "image/png": "[encoded data removed]"
          },
          "metadata": {}
        }
      ]
    },
    {
      "cell_type": "markdown",
      "source": [
        "🎯 **Conclusion:**  \n",
        "- **Random Forest and XGBoost** show the **best discriminatory power**, closely aligned in their ROC curves.\n",
        "- The baseline \"No Skill\" model (black dashed line) helps emphasize how much better each classifier performs over random guessing.\n",
        "- The ROC Curve further supports that **XGBoost** and **Random Forest** are the most reliable models for this classification task.\n"
      ],
      "metadata": {
        "id": "SyF-VvvVt-Sk"
      }
    }
  ]
}